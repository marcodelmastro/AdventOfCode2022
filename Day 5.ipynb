{
 "cells": [
  {
   "cell_type": "markdown",
   "id": "b5a169ea",
   "metadata": {},
   "source": [
    "## Day 5\n",
    "\n",
    "https://adventofcode.com/2022/day/5"
   ]
  },
  {
   "cell_type": "code",
   "execution_count": 132,
   "id": "c7ddf06e",
   "metadata": {},
   "outputs": [],
   "source": [
    "def parse05(filename):\n",
    "    with open(filename) as f:\n",
    "        data = f.read().split(\"\\n\\n\")\n",
    "        grid = data[0].split(\"\\n\")\n",
    "        # get position of letters in columns from bottom row\n",
    "        j = 0\n",
    "        pos = []\n",
    "        for c in grid[-1]:\n",
    "            if c!=\" \":\n",
    "                pos.append(j)\n",
    "            j+=1\n",
    "        # fill lists from columns if letter is available\n",
    "        columns = [[] for _ in range(len(pos))]\n",
    "        for l in grid[-2::-1]:\n",
    "            j = 0\n",
    "            for p in pos:\n",
    "                if l[p]!=\" \":\n",
    "                    columns[j].append(l[p])\n",
    "                j+=1\n",
    "        # parse instructions\n",
    "        instr = []\n",
    "        for l in data[1].strip().split(\"\\n\"):\n",
    "            i = l.split(\" \")\n",
    "            instr.append([int(i[1]),int(i[3]),int(i[5])])\n",
    "        return columns,instr"
   ]
  },
  {
   "cell_type": "code",
   "execution_count": 188,
   "id": "026b0343",
   "metadata": {},
   "outputs": [],
   "source": [
    "def part1(cols,instr):\n",
    "    for h,i,o in instr:\n",
    "        for _ in range(h):\n",
    "            cols[o-1].append(cols[i-1].pop())\n",
    "    return \"\".join(c[-1] for c in cols)\n",
    "\n",
    "def part2(cols,instr):\n",
    "    for h,i,o in instr:\n",
    "        stack = cols[i-1][-h:]\n",
    "        cols[i-1] = cols[i-1][:-h]\n",
    "        cols[o-1] += stack\n",
    "    return \"\".join(c[-1] for c in cols)"
   ]
  },
  {
   "cell_type": "code",
   "execution_count": 189,
   "id": "ec825d67",
   "metadata": {},
   "outputs": [
    {
     "name": "stdout",
     "output_type": "stream",
     "text": [
      "CMZ\n",
      "BZLVHBWQF\n"
     ]
    }
   ],
   "source": [
    "cols0,instr0 = parse05(\"data/test05.txt\")\n",
    "cols ,instr  = parse05(\"data/input05.txt\")\n",
    "print(part1(cols0,instr0))\n",
    "print(part1(cols,instr))"
   ]
  },
  {
   "cell_type": "code",
   "execution_count": 191,
   "id": "8f30c44f",
   "metadata": {},
   "outputs": [
    {
     "name": "stdout",
     "output_type": "stream",
     "text": [
      "MCD\n",
      "TDGJQTZSL\n"
     ]
    }
   ],
   "source": [
    "cols0,instr0 = parse05(\"data/test05.txt\")\n",
    "cols ,instr  = parse05(\"data/input05.txt\")\n",
    "print(part2(cols0,instr0))\n",
    "print(part2(cols,instr))"
   ]
  },
  {
   "cell_type": "code",
   "execution_count": null,
   "id": "9741c7bb",
   "metadata": {},
   "outputs": [],
   "source": []
  }
 ],
 "metadata": {
  "kernelspec": {
   "display_name": "Python 3 (ipykernel)",
   "language": "python",
   "name": "python3"
  },
  "language_info": {
   "codemirror_mode": {
    "name": "ipython",
    "version": 3
   },
   "file_extension": ".py",
   "mimetype": "text/x-python",
   "name": "python",
   "nbconvert_exporter": "python",
   "pygments_lexer": "ipython3",
   "version": "3.10.8"
  }
 },
 "nbformat": 4,
 "nbformat_minor": 5
}

{
 "cells": [
  {
   "cell_type": "markdown",
   "id": "a769aed9",
   "metadata": {},
   "source": [
    "## Day 15"
   ]
  },
  {
   "cell_type": "code",
   "execution_count": 60,
   "id": "1e1126b4",
   "metadata": {},
   "outputs": [],
   "source": [
    "import re\n",
    "\n",
    "def parse15(filename):\n",
    "    with open(filename) as f:\n",
    "        data = [ [ int(m) for m in re.findall(r\"[-]?\\d+\",l) ] for l in f.readlines() ] \n",
    "        return data"
   ]
  },
  {
   "cell_type": "markdown",
   "id": "afa614f2",
   "metadata": {},
   "source": [
    "### Part 1\n",
    "\n",
    "#### Using sets...\n",
    "\n",
    "... even if I already suspect this won't scale for part 2!"
   ]
  },
  {
   "cell_type": "code",
   "execution_count": 193,
   "id": "119c76cc",
   "metadata": {},
   "outputs": [],
   "source": [
    "def coverageAtYset(data,Y=10):\n",
    "    coverage = set()\n",
    "    for m in data:\n",
    "        S = (m[0],m[1])\n",
    "        B = (m[2],m[3])\n",
    "        d = Manhattan(S,B)\n",
    "        dy = abs(Y-S[1])\n",
    "        if dy<=d: # Y intercept the sensor area\n",
    "            xmin = S[0]-(d-dy)\n",
    "            xmax = S[0]+(d-dy)\n",
    "            for x in range(xmin,xmax+1):\n",
    "                coverage.add(x)\n",
    "    return coverage\n",
    "\n",
    "def part1set(data,Y=10):\n",
    "    cov = coverageAtYset(data,Y)\n",
    "    # remove any exisiting beacon from coverage at Y\n",
    "    for m in data:\n",
    "        B = (m[2],m[3])\n",
    "        if B[1]==Y and B[0] in cov:\n",
    "            cov.remove(B[0])\n",
    "    return len(cov)"
   ]
  },
  {
   "cell_type": "code",
   "execution_count": 194,
   "id": "dc7ce779",
   "metadata": {},
   "outputs": [],
   "source": [
    "data0 = parse15(\"examples/example15.txt\")\n",
    "data = parse15(\"AOC2022inputs/input15.txt\")"
   ]
  },
  {
   "cell_type": "code",
   "execution_count": 195,
   "id": "4e371b9d",
   "metadata": {},
   "outputs": [
    {
     "name": "stdout",
     "output_type": "stream",
     "text": [
      "Test 1: 26\n",
      "Part 1: 5564017\n"
     ]
    }
   ],
   "source": [
    "print(\"Test 1:\",part1set(data0,Y=10))     # 26\n",
    "print(\"Part 1:\",part1set(data,Y=2000000)) # 5564017"
   ]
  },
  {
   "cell_type": "markdown",
   "id": "c8051666",
   "metadata": {},
   "source": [
    "#### Using ranges...\n",
    "\n",
    "... to speed it up for Part 2"
   ]
  },
  {
   "cell_type": "code",
   "execution_count": 216,
   "id": "15214da7",
   "metadata": {},
   "outputs": [
    {
     "name": "stdout",
     "output_type": "stream",
     "text": [
      "[-3, -2, -1, 0, 1, 2, 3, 4, 5, 6, 7, 8, 9, 10, 11, 12, 13, 15, 16, 17, 18, 19, 20, 21, 22, 23, 24, 25]\n",
      "[[-3, 13], [15, 25]]\n"
     ]
    }
   ],
   "source": [
    "def overlap(r1,r2):\n",
    "    s1,e1 = r1\n",
    "    s2,e2 = r2\n",
    "    if s1<=e2 and (e1>=s2 or s2==e1+1) or s2<=e1 and (e2>=s1 or s1==e2+1) : # overlap or superposition or contingous\n",
    "        rnew = [min(s1,s2),max(e1,e2)]\n",
    "        return [rnew]\n",
    "    else: # disjoint\n",
    "        return sorted([r1,r2],key=lambda x:x[0])\n",
    "\n",
    "def coverageAtYrange(data,Y=10):\n",
    "    coverage = []\n",
    "    for m in data:\n",
    "        S = (m[0],m[1])\n",
    "        B = (m[2],m[3])\n",
    "        d = Manhattan(S,B)\n",
    "        dy = abs(Y-S[1])\n",
    "        if dy<=d: # Y intercept the sensor area\n",
    "            xmin = S[0]-(d-dy)\n",
    "            xmax = S[0]+(d-dy)\n",
    "            cov = [xmin,xmax]\n",
    "            if not len(coverage):\n",
    "                coverage.append(cov)\n",
    "            else:\n",
    "                newcoverage = []\n",
    "                for c in coverage:\n",
    "                    o = overlap(c,cov)\n",
    "                    if len(o)==1:\n",
    "                        cov = o[0]\n",
    "                    else:\n",
    "                        newcoverage.append(o[0])\n",
    "                        cov = o[1]\n",
    "                newcoverage.append(cov)\n",
    "                coverage = sorted(newcoverage,key=lambda x:x[0])    \n",
    "    return coverage\n",
    "\n",
    "print(sorted(coverageAtYset(data0,Y=11)))\n",
    "print(coverageAtYrange(data0,Y=11))"
   ]
  },
  {
   "cell_type": "code",
   "execution_count": 232,
   "id": "2144bff5",
   "metadata": {},
   "outputs": [],
   "source": [
    "def part1range(data,Y=10):\n",
    "    cov = coverageAtYrange(data,Y)[0]\n",
    "    noBeacons = cov[1]-cov[0]+1\n",
    "    # remove any exisiting beacon(s) from coverage at Y\n",
    "    removedBeacons = set()\n",
    "    for m in data:\n",
    "        B = (m[2],m[3])\n",
    "        if B[1]==Y and cov[0]<=B[0]<=cov[1]+1 and B not in removedBeacons:\n",
    "            noBeacons -= 1\n",
    "            removedBeacons.add(B)\n",
    "    return noBeacons"
   ]
  },
  {
   "cell_type": "code",
   "execution_count": 233,
   "id": "a6a102ed",
   "metadata": {},
   "outputs": [
    {
     "name": "stdout",
     "output_type": "stream",
     "text": [
      "Test 1: 26\n",
      "Part 1: 5564017\n"
     ]
    }
   ],
   "source": [
    "print(\"Test 1:\",part1range(data0,Y=10))     # 26\n",
    "print(\"Part 1:\",part1range(data,Y=2000000)) # 5564017"
   ]
  },
  {
   "cell_type": "markdown",
   "id": "4a4bf3ac",
   "metadata": {},
   "source": [
    "### Part 2"
   ]
  },
  {
   "cell_type": "code",
   "execution_count": 250,
   "id": "89ba2f4f",
   "metadata": {},
   "outputs": [],
   "source": [
    "def part2(data,ymin=0,ymax=20):\n",
    "    print(\"Searching for hole in sensor coverages... \")\n",
    "    for y in range(ymin,ymax+1):\n",
    "        if y%100000==0:\n",
    "            print(y,end=\" \")\n",
    "        cov = coverageAtYrange(data,Y=y)\n",
    "        if len(cov)>1:\n",
    "            print(\"\\nFound!\")\n",
    "            x = cov[0][1]+1\n",
    "            print(\"x = {}, y = {} --> \".format(x,y), end=\"\")\n",
    "            tf = x*4000000+y\n",
    "            print(\"tuning frequency = {}\".format(tf))\n",
    "            return tf"
   ]
  },
  {
   "cell_type": "code",
   "execution_count": 251,
   "id": "be66fe67",
   "metadata": {},
   "outputs": [
    {
     "name": "stdout",
     "output_type": "stream",
     "text": [
      "Searching for hole in sensor coverages... \n",
      "0 \n",
      "Found!\n",
      "x = 14, y = 11 --> tuning frequency = 56000011\n"
     ]
    },
    {
     "data": {
      "text/plain": [
       "56000011"
      ]
     },
     "execution_count": 251,
     "metadata": {},
     "output_type": "execute_result"
    }
   ],
   "source": [
    "part2(data0,ymin=0,ymax=20)"
   ]
  },
  {
   "cell_type": "code",
   "execution_count": 252,
   "id": "456acbd0",
   "metadata": {},
   "outputs": [
    {
     "name": "stdout",
     "output_type": "stream",
     "text": [
      "Searching for hole in sensor coverages... \n",
      "0 100000 200000 300000 400000 500000 600000 700000 800000 900000 1000000 1100000 1200000 1300000 1400000 1500000 1600000 1700000 1800000 1900000 2000000 2100000 2200000 2300000 2400000 2500000 2600000 2700000 2800000 2900000 3000000 3100000 3200000 3300000 \n",
      "Found!\n",
      "x = 2889605, y = 3398893 --> tuning frequency = 11558423398893\n"
     ]
    },
    {
     "data": {
      "text/plain": [
       "11558423398893"
      ]
     },
     "execution_count": 252,
     "metadata": {},
     "output_type": "execute_result"
    }
   ],
   "source": [
    "part2(data,ymin=0,ymax=4_000_000)"
   ]
  },
  {
   "cell_type": "code",
   "execution_count": null,
   "id": "25011541",
   "metadata": {},
   "outputs": [],
   "source": []
  }
 ],
 "metadata": {
  "kernelspec": {
   "display_name": "Python 3 (ipykernel)",
   "language": "python",
   "name": "python3"
  },
  "language_info": {
   "codemirror_mode": {
    "name": "ipython",
    "version": 3
   },
   "file_extension": ".py",
   "mimetype": "text/x-python",
   "name": "python",
   "nbconvert_exporter": "python",
   "pygments_lexer": "ipython3",
   "version": "3.10.8"
  }
 },
 "nbformat": 4,
 "nbformat_minor": 5
}

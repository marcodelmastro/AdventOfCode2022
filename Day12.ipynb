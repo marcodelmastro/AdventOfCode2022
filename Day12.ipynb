{
 "cells": [
  {
   "cell_type": "markdown",
   "id": "4f831b01",
   "metadata": {},
   "source": [
    "## Day 12\n",
    "\n",
    "https://adventofcode.com/2022/day/12"
   ]
  },
  {
   "cell_type": "code",
   "execution_count": 255,
   "id": "8530175f",
   "metadata": {},
   "outputs": [],
   "source": [
    "import numpy as np\n",
    "\n",
    "values = \"SabcdefghijklmnopqrstuvwxyzE\"\n",
    "\n",
    "def parse12(filename):\n",
    "    with open(filename) as f:\n",
    "        return np.array( [ [values.index(c) for c in l.strip()] for l in f.readlines() ] )"
   ]
  },
  {
   "cell_type": "markdown",
   "id": "aa78d23d",
   "metadata": {},
   "source": [
    "### Part 1"
   ]
  },
  {
   "cell_type": "code",
   "execution_count": 284,
   "id": "1239caf5",
   "metadata": {
    "scrolled": false
   },
   "outputs": [],
   "source": [
    "def adjac(p,grid):\n",
    "    xp,yp = p\n",
    "    adj = []\n",
    "    for dx,dy in [(-1,0),(0,1),(1,0),(0,-1)]:\n",
    "        xn,yn = xp+dx,yp+dy\n",
    "        if xn>=0 and xn<len(grid[0]) and yn>=0 and yn<len(grid):\n",
    "            if grid[yn][xn]-grid[yp][xp]<=1:\n",
    "                adj.append((xn,yn))\n",
    "    return adj\n",
    "\n",
    "def findStart(grid,S=0):\n",
    "    for r in range(len(grid)):\n",
    "        for c in range(len(grid[0])):\n",
    "            if grid[r,c]==S:\n",
    "                return (c,r)\n",
    "\n",
    "def pathFinder(grid,S=(0,0),E=27):\n",
    "    visited = []\n",
    "    paths = [[S]]\n",
    "    while len(paths):\n",
    "        path = paths.pop(0)\n",
    "        for a in adjac(path[-1],grid):\n",
    "            if a not in path and a not in visited:\n",
    "                newpath = list(path)\n",
    "                newpath.append(a)\n",
    "                xa,ya=a\n",
    "                if grid[ya][xa]==E:\n",
    "                    return newpath\n",
    "                else:\n",
    "                    paths.append(newpath)\n",
    "                    visited.append(a)\n",
    "    return []\n",
    "                    \n",
    "def part1(grid):\n",
    "    S = findStart(grid,0)\n",
    "    path = pathFinder(grid,S=S,E=27)\n",
    "    return len(path)-1,path"
   ]
  },
  {
   "cell_type": "code",
   "execution_count": 285,
   "id": "ec56a098",
   "metadata": {},
   "outputs": [
    {
     "name": "stdout",
     "output_type": "stream",
     "text": [
      "Test 1: 31\n"
     ]
    }
   ],
   "source": [
    "grid0 = parse12(\"examples/example12.txt\")\n",
    "sol1_0,path1_0 = part1(grid0)\n",
    "print(\"Test 1:\",sol1_0)"
   ]
  },
  {
   "cell_type": "code",
   "execution_count": 369,
   "id": "3e5df6ea",
   "metadata": {},
   "outputs": [
    {
     "name": "stdout",
     "output_type": "stream",
     "text": [
      "Part 1: 534\n"
     ]
    }
   ],
   "source": [
    "grid = parse12(\"AOC2022inputs/input12.txt\")\n",
    "sol1,path1 = part1(grid)\n",
    "print(\"Part 1:\",sol1)"
   ]
  },
  {
   "cell_type": "code",
   "execution_count": 379,
   "id": "173101a7",
   "metadata": {},
   "outputs": [
    {
     "data": {
      "image/png": "[encoded data removed]",
      "text/plain": [
       "<Figure size 1200x400 with 1 Axes>"
      ]
     },
     "metadata": {},
     "output_type": "display_data"
    }
   ],
   "source": [
    "import matplotlib.pyplot as plt\n",
    "\n",
    "gridpath = np.copy(grid)\n",
    "for x,y in path1:\n",
    "    gridpath[y][x] = 28\n",
    "\n",
    "plt.figure(figsize=(12,4))\n",
    "plt.imshow(gridpath)\n",
    "_ = plt.axis('off')"
   ]
  },
  {
   "cell_type": "markdown",
   "id": "e6cfc3de",
   "metadata": {},
   "source": [
    "### Part 2\n",
    "\n",
    "There are maby starting points!"
   ]
  },
  {
   "cell_type": "code",
   "execution_count": 288,
   "id": "154da0db",
   "metadata": {},
   "outputs": [],
   "source": [
    "def findLower(grid,a=1):\n",
    "    lower = []\n",
    "    for r in range(len(grid)):\n",
    "        for c in range(len(grid[0])):\n",
    "            if grid[r,c]==a:\n",
    "                lower.append((c,r))\n",
    "    return lower"
   ]
  },
  {
   "cell_type": "code",
   "execution_count": 289,
   "id": "d509aa5f",
   "metadata": {},
   "outputs": [
    {
     "data": {
      "image/png": "[encoded data removed]",
      "text/plain": [
       "<Figure size 1200x400 with 1 Axes>"
      ]
     },
     "metadata": {},
     "output_type": "display_data"
    }
   ],
   "source": [
    "starts = findLower(grid,a=1)\n",
    "\n",
    "gridstarts = np.copy(grid)\n",
    "for x,y in starts:\n",
    "    gridstarts[y][x] = 28\n",
    "\n",
    "plt.figure(figsize=(12,4))\n",
    "plt.imshow(gridstarts)\n",
    "_ = plt.axis('off')"
   ]
  },
  {
   "cell_type": "markdown",
   "id": "839ed01a",
   "metadata": {},
   "source": [
    "**Some starting point won't lead to a valid path**, since no neighbours have an altitude 1 unit larger. For instance, that's the upper right corner region (see below):\n"
   ]
  },
  {
   "cell_type": "code",
   "execution_count": 380,
   "id": "a9f62444",
   "metadata": {},
   "outputs": [
    {
     "data": {
      "text/plain": [
       "array([[3, 3, 3, 3, 1, 1, 1, 1],\n",
       "       [3, 3, 3, 1, 1, 1, 1, 1],\n",
       "       [3, 3, 3, 1, 1, 1, 1, 1],\n",
       "       [3, 3, 1, 1, 1, 1, 1, 1],\n",
       "       [3, 3, 3, 3, 3, 3, 1, 1],\n",
       "       [3, 3, 3, 3, 3, 3, 3, 1],\n",
       "       [3, 3, 3, 3, 3, 3, 3, 3],\n",
       "       [1, 1, 1, 3, 3, 3, 3, 3],\n",
       "       [1, 1, 1, 3, 3, 3, 3, 3],\n",
       "       [4, 1, 3, 3, 3, 3, 3, 3]])"
      ]
     },
     "execution_count": 380,
     "metadata": {},
     "output_type": "execute_result"
    }
   ],
   "source": [
    "grid[:10,155:]"
   ]
  },
  {
   "cell_type": "markdown",
   "id": "c9778945",
   "metadata": {},
   "source": [
    "**Computing the path for all _a_ starting point is not needed**, since many of these paths will share a common part from some position on. To speedup the search I can cache the already-explored paths, and re-use them if a given position is reached from different starting point:"
   ]
  },
  {
   "cell_type": "code",
   "execution_count": 381,
   "id": "60d452ca",
   "metadata": {},
   "outputs": [],
   "source": [
    "def pathFinder2(grid,S=(0,0),E=27,exploredPaths={}):\n",
    "    visited = []\n",
    "    paths = [[S]]\n",
    "    while len(paths):\n",
    "        path = paths.pop(0)\n",
    "        for a in adjac(path[-1],grid):\n",
    "            if a not in path and a not in visited:\n",
    "                newpath = list(path)\n",
    "                if a in exploredPaths.keys():\n",
    "                    pathtail = exploredPaths[a]\n",
    "                    for i in range(len(newpath)-1):\n",
    "                        exploredPaths[newpath[i]] = newpath[i+1:]+pathtail\n",
    "                    return newpath+[a]+pathtail # don't forget to include a!\n",
    "                newpath.append(a)\n",
    "                xa,ya=a\n",
    "                if grid[ya][xa]==E:\n",
    "                    for i in range(len(newpath)-1):\n",
    "                        exploredPaths[newpath[i]] = newpath[i+1:]\n",
    "                    return newpath\n",
    "                else:\n",
    "                    paths.append(newpath)\n",
    "                    visited.append(a)\n",
    "    return []"
   ]
  },
  {
   "cell_type": "code",
   "execution_count": 382,
   "id": "298c595a",
   "metadata": {},
   "outputs": [],
   "source": [
    "def part2(grid):\n",
    "    exploredPaths = {}\n",
    "    starts = findLower(grid)\n",
    "    print(\"{} starting points...\".format(len(starts)))\n",
    "    paths = []\n",
    "    i = 0\n",
    "    for S in starts:\n",
    "        i+=1\n",
    "        if i%100==0: print(i,end=\" \")\n",
    "        newpath = pathFinder2(grid,S=S,E=27,exploredPaths=exploredPaths)\n",
    "        if len(newpath):\n",
    "            paths.append((len(newpath)-1,newpath))\n",
    "    return paths"
   ]
  },
  {
   "cell_type": "code",
   "execution_count": 383,
   "id": "0ceffa94",
   "metadata": {},
   "outputs": [
    {
     "name": "stdout",
     "output_type": "stream",
     "text": [
      "2064 starting points...\n",
      "100 200 300 400 500 600 700 800 900 1000 1100 1200 1300 1400 1500 1600 1700 1800 1900 2000 \n",
      "Part 2: 525\n"
     ]
    }
   ],
   "source": [
    "paths = part2(grid)\n",
    "print(\"\\nPart 2:\",sorted(paths)[0][0])"
   ]
  },
  {
   "cell_type": "code",
   "execution_count": 391,
   "id": "2f950a6b",
   "metadata": {},
   "outputs": [
    {
     "data": {
      "image/png": "[encoded data removed]",
      "text/plain": [
       "<Figure size 1200x400 with 1 Axes>"
      ]
     },
     "metadata": {},
     "output_type": "display_data"
    }
   ],
   "source": [
    "grid_2 = np.copy(grid)\n",
    "for x,y in starts:\n",
    "    grid_2[y][x] = 40\n",
    "for x,y in sorted(paths)[0][1]:\n",
    "    grid_2[y][x] = 35\n",
    "\n",
    "plt.figure(figsize=(12,4))\n",
    "plt.imshow(grid_2)\n",
    "_ = plt.axis('off')"
   ]
  },
  {
   "cell_type": "code",
   "execution_count": null,
   "id": "001575f8",
   "metadata": {},
   "outputs": [],
   "source": []
  }
 ],
 "metadata": {
  "kernelspec": {
   "display_name": "Python 3 (ipykernel)",
   "language": "python",
   "name": "python3"
  },
  "language_info": {
   "codemirror_mode": {
    "name": "ipython",
    "version": 3
   },
   "file_extension": ".py",
   "mimetype": "text/x-python",
   "name": "python",
   "nbconvert_exporter": "python",
   "pygments_lexer": "ipython3",
   "version": "3.10.8"
  }
 },
 "nbformat": 4,
 "nbformat_minor": 5
}

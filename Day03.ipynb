{
 "cells": [
  {
   "cell_type": "markdown",
   "id": "3ef2e292",
   "metadata": {},
   "source": [
    "## Day 3\n",
    "\n",
    "https://adventofcode.com/2022/day/3"
   ]
  },
  {
   "cell_type": "code",
   "execution_count": 1,
   "id": "4314c543",
   "metadata": {},
   "outputs": [],
   "source": [
    "def parse02(filename):\n",
    "    with open(filename) as f:\n",
    "        data = f.read().strip().split()\n",
    "        return data"
   ]
  },
  {
   "cell_type": "code",
   "execution_count": 61,
   "id": "a86b3635",
   "metadata": {},
   "outputs": [],
   "source": [
    "import string\n",
    "\n",
    "alphabet=list(string.ascii_lowercase)+list(string.ascii_uppercase)\n",
    "\n",
    "from collections import Counter\n",
    "\n",
    "def part1(data):\n",
    "    return sum([alphabet.index((list((Counter(d[:len(d)//2])& # & of dictionaries return dictionay of common items\n",
    "                                      Counter(d[len(d)//2:])).keys())[0] ))+1 for d in data])"
   ]
  },
  {
   "cell_type": "code",
   "execution_count": 62,
   "id": "f88f21d4",
   "metadata": {},
   "outputs": [
    {
     "name": "stdout",
     "output_type": "stream",
     "text": [
      "Test 1: 157\n",
      "Part 1: 7795\n"
     ]
    }
   ],
   "source": [
    "test = parse02(\"data/test03.txt\")\n",
    "data = parse02(\"data/input03.txt\")\n",
    "print(\"Test 1:\",part1(test))\n",
    "print(\"Part 1:\",part1(data))"
   ]
  },
  {
   "cell_type": "code",
   "execution_count": 63,
   "id": "62ce1c6a",
   "metadata": {},
   "outputs": [],
   "source": [
    "def part2(data):\n",
    "    return sum([alphabet.index(list((Counter(data[i*3:i*3+3][0])&\n",
    "                                     Counter(data[i*3:i*3+3][1])&\n",
    "                                     Counter(data[i*3:i*3+3][2])).keys())[0])+1 \n",
    "                                     for i in range(len(data)//3)])"
   ]
  },
  {
   "cell_type": "code",
   "execution_count": 64,
   "id": "474b68a2",
   "metadata": {},
   "outputs": [
    {
     "name": "stdout",
     "output_type": "stream",
     "text": [
      "Test 2: 70\n",
      "Part 2: 2703\n"
     ]
    }
   ],
   "source": [
    "print(\"Test 2:\",part2(test))\n",
    "print(\"Part 2:\",part2(data))"
   ]
  },
  {
   "cell_type": "code",
   "execution_count": null,
   "id": "437c456f",
   "metadata": {},
   "outputs": [],
   "source": []
  }
 ],
 "metadata": {
  "kernelspec": {
   "display_name": "Python 3 (ipykernel)",
   "language": "python",
   "name": "python3"
  },
  "language_info": {
   "codemirror_mode": {
    "name": "ipython",
    "version": 3
   },
   "file_extension": ".py",
   "mimetype": "text/x-python",
   "name": "python",
   "nbconvert_exporter": "python",
   "pygments_lexer": "ipython3",
   "version": "3.10.8"
  }
 },
 "nbformat": 4,
 "nbformat_minor": 5
}

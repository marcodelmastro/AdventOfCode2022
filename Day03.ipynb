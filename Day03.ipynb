{
 "cells": [
  {
   "cell_type": "markdown",
   "id": "3ef2e292",
   "metadata": {},
   "source": [
    "## Day 3\n",
    "\n",
    "https://adventofcode.com/2022/day/3"
   ]
  },
  {
   "cell_type": "code",
   "execution_count": 10,
   "id": "4314c543",
   "metadata": {},
   "outputs": [],
   "source": [
    "def parse02(filename):\n",
    "    with open(filename) as f:\n",
    "        data = f.read().strip().split()\n",
    "        return data"
   ]
  },
  {
   "cell_type": "code",
   "execution_count": 47,
   "id": "a86b3635",
   "metadata": {},
   "outputs": [],
   "source": [
    "import string\n",
    "alphabet=list(string.ascii_lowercase)+list(string.ascii_uppercase)\n",
    "\n",
    "def part1(data):\n",
    "    prio = 0\n",
    "    for d in data:\n",
    "        l = len(d)\n",
    "        for p in d[:l//2]:\n",
    "            if p in d[l//2:]:\n",
    "                prio += alphabet.index(p)+1\n",
    "                break\n",
    "    return prio"
   ]
  },
  {
   "cell_type": "code",
   "execution_count": 52,
   "id": "f88f21d4",
   "metadata": {},
   "outputs": [
    {
     "name": "stdout",
     "output_type": "stream",
     "text": [
      "Test 1: 157\n",
      "Part 1: 7795\n"
     ]
    }
   ],
   "source": [
    "test = parse02(\"data/test03.txt\")\n",
    "data = parse02(\"data/input03.txt\")\n",
    "print(\"Test 1:\",part1(test))\n",
    "print(\"Part 1:\",part1(data))"
   ]
  },
  {
   "cell_type": "code",
   "execution_count": 55,
   "id": "62ce1c6a",
   "metadata": {},
   "outputs": [],
   "source": [
    "def part2(data):\n",
    "    prio = 0\n",
    "    for i in range(len(data)//3):\n",
    "        group = data[i*3:i*3+3]    \n",
    "        for p in group[0]:\n",
    "            if p in group[1] and p in group[2]:\n",
    "                prio += alphabet.index(p)+1\n",
    "                break\n",
    "    return prio"
   ]
  },
  {
   "cell_type": "code",
   "execution_count": 56,
   "id": "474b68a2",
   "metadata": {},
   "outputs": [
    {
     "name": "stdout",
     "output_type": "stream",
     "text": [
      "Test 2: 70\n",
      "Part 2: 2703\n"
     ]
    }
   ],
   "source": [
    "print(\"Test 2:\",part2(test))\n",
    "print(\"Part 2:\",part2(data))"
   ]
  },
  {
   "cell_type": "code",
   "execution_count": null,
   "id": "ea7fde31",
   "metadata": {},
   "outputs": [],
   "source": []
  }
 ],
 "metadata": {
  "kernelspec": {
   "display_name": "Python 3 (ipykernel)",
   "language": "python",
   "name": "python3"
  },
  "language_info": {
   "codemirror_mode": {
    "name": "ipython",
    "version": 3
   },
   "file_extension": ".py",
   "mimetype": "text/x-python",
   "name": "python",
   "nbconvert_exporter": "python",
   "pygments_lexer": "ipython3",
   "version": "3.10.8"
  }
 },
 "nbformat": 4,
 "nbformat_minor": 5
}

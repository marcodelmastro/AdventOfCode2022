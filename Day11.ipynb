{
 "cells": [
  {
   "cell_type": "markdown",
   "id": "3c006612",
   "metadata": {},
   "source": [
    "## Day 11"
   ]
  },
  {
   "cell_type": "code",
   "execution_count": 167,
   "id": "27a4a22f",
   "metadata": {},
   "outputs": [],
   "source": [
    "import re\n",
    "\n",
    "class Monkey:\n",
    "    def __init__(self,m,items,op,divtest,throw_if_true,throw_if_false):\n",
    "        self.m = m\n",
    "        self.items = items\n",
    "        self.op = op\n",
    "        self.divtest = divtest\n",
    "        self.throw_if_true = throw_if_true\n",
    "        self.throw_if_false = throw_if_false\n",
    "        self.inspected = 0\n",
    "        self.worryMod = 0\n",
    "        \n",
    "    def turn(self,lowWorry=True):\n",
    "        items_throw = []\n",
    "        while len(self.items):\n",
    "            old = self.items.pop(0)\n",
    "            worry = eval(self.op)\n",
    "            if lowWorry:\n",
    "                worry //= 3\n",
    "            if self.worryMod:\n",
    "                worry %= self.worryMod\n",
    "            if worry%self.divtest==0:\n",
    "                items_throw.append((self.throw_if_true,worry))\n",
    "            else:\n",
    "                items_throw.append((self.throw_if_false,worry))\n",
    "            self.inspected += 1\n",
    "        return items_throw\n",
    "\n",
    "def parseMonkey(d):\n",
    "    m = int(re.findall(r\"\\d+\", d[0])[0])\n",
    "    items = [ int(i) for i in re.findall(r\"\\d+\", d[1]) ]\n",
    "    op = d[2].split(\" = \")[1]\n",
    "    div_test = int(re.findall(r\"\\d+\", d[3])[0])\n",
    "    throw_if_true = int(re.findall(r\"\\d+\", d[4])[0])\n",
    "    throw_if_false = int(re.findall(r\"\\d+\", d[5])[0])\n",
    "    monkey = Monkey(m, items, op, div_test, throw_if_true, throw_if_false)\n",
    "    return monkey\n",
    "    \n",
    "def parse11(filename):\n",
    "    with open(filename) as f:\n",
    "        data = [ parseMonkey(  m.split(\"\\n\") ) for m in f.read().strip().split(\"\\n\\n\") ]\n",
    "        return data"
   ]
  },
  {
   "cell_type": "code",
   "execution_count": 168,
   "id": "2e67923a",
   "metadata": {
    "scrolled": false
   },
   "outputs": [],
   "source": [
    "def monkeyBusiness(monkeys, turns = 20, lowWorry=True, verbose=True):\n",
    "    # For Part 2: no need to keep excessively high worry levels, since they'll be tested again each monkey\n",
    "    # divtest value. I can keep only the reminder of the product of all monkeys' divtest values (all primes, of course!)\n",
    "    worryMod = 1\n",
    "    for monkey in monkeys:\n",
    "        worryMod *= monkey.divtest\n",
    "    for monkey in monkeys:\n",
    "        monkey.worryMod = worryMod\n",
    "    \n",
    "    for turn in range(1,turns+1):\n",
    "        for monkey in monkeys:\n",
    "            throw = monkey.turn(lowWorry) # lowWorry disable division by 3 for Part 2\n",
    "            for recipient,item in throw:\n",
    "                monkeys[recipient].items.append(item)\n",
    "        if verbose:\n",
    "            print(\"After round {}, the monkeys are holding items with these worry levels:\".format(turn))\n",
    "            for monkey in monkeys:\n",
    "                print(\"Monkey {}: {}\".format(monkey.m,monkey.items))\n",
    "            print(\"\")\n",
    "    inspected = [ m.inspected for m in monkeys ]\n",
    "    if verbose:\n",
    "        for m,i in enumerate(inspected):\n",
    "            print(\"Monkey {} inspected items {} times\".format(m,i))\n",
    "        print()\n",
    "    inspected.sort(reverse=True)\n",
    "    return inspected[0]*inspected[1]"
   ]
  },
  {
   "cell_type": "code",
   "execution_count": 169,
   "id": "582377ce",
   "metadata": {
    "scrolled": false
   },
   "outputs": [
    {
     "name": "stdout",
     "output_type": "stream",
     "text": [
      "After round 1, the monkeys are holding items with these worry levels:\n",
      "Monkey 0: [20, 23, 27, 26]\n",
      "Monkey 1: [2080, 25, 167, 207, 401, 1046]\n",
      "Monkey 2: []\n",
      "Monkey 3: []\n",
      "\n",
      "After round 2, the monkeys are holding items with these worry levels:\n",
      "Monkey 0: [695, 10, 71, 135, 350]\n",
      "Monkey 1: [43, 49, 58, 55, 362]\n",
      "Monkey 2: []\n",
      "Monkey 3: []\n",
      "\n",
      "After round 3, the monkeys are holding items with these worry levels:\n",
      "Monkey 0: [16, 18, 21, 20, 122]\n",
      "Monkey 1: [1468, 22, 150, 286, 739]\n",
      "Monkey 2: []\n",
      "Monkey 3: []\n",
      "\n",
      "After round 4, the monkeys are holding items with these worry levels:\n",
      "Monkey 0: [491, 9, 52, 97, 248, 34]\n",
      "Monkey 1: [39, 45, 43, 258]\n",
      "Monkey 2: []\n",
      "Monkey 3: []\n",
      "\n",
      "After round 5, the monkeys are holding items with these worry levels:\n",
      "Monkey 0: [15, 17, 16, 88, 1037]\n",
      "Monkey 1: [20, 110, 205, 524, 72]\n",
      "Monkey 2: []\n",
      "Monkey 3: []\n",
      "\n",
      "After round 6, the monkeys are holding items with these worry levels:\n",
      "Monkey 0: [8, 70, 176, 26, 34]\n",
      "Monkey 1: [481, 32, 36, 186, 2190]\n",
      "Monkey 2: []\n",
      "Monkey 3: []\n",
      "\n",
      "After round 7, the monkeys are holding items with these worry levels:\n",
      "Monkey 0: [162, 12, 14, 64, 732, 17]\n",
      "Monkey 1: [148, 372, 55, 72]\n",
      "Monkey 2: []\n",
      "Monkey 3: []\n",
      "\n",
      "After round 8, the monkeys are holding items with these worry levels:\n",
      "Monkey 0: [51, 126, 20, 26, 136]\n",
      "Monkey 1: [343, 26, 30, 1546, 36]\n",
      "Monkey 2: []\n",
      "Monkey 3: []\n",
      "\n",
      "After round 9, the monkeys are holding items with these worry levels:\n",
      "Monkey 0: [116, 10, 12, 517, 14]\n",
      "Monkey 1: [108, 267, 43, 55, 288]\n",
      "Monkey 2: []\n",
      "Monkey 3: []\n",
      "\n",
      "After round 10, the monkeys are holding items with these worry levels:\n",
      "Monkey 0: [91, 16, 20, 98]\n",
      "Monkey 1: [481, 245, 22, 26, 1092, 30]\n",
      "Monkey 2: []\n",
      "Monkey 3: []\n",
      "\n",
      "After round 11, the monkeys are holding items with these worry levels:\n",
      "Monkey 0: [162, 83, 9, 10, 366, 12, 34]\n",
      "Monkey 1: [193, 43, 207]\n",
      "Monkey 2: []\n",
      "Monkey 3: []\n",
      "\n",
      "After round 12, the monkeys are holding items with these worry levels:\n",
      "Monkey 0: [66, 16, 71]\n",
      "Monkey 1: [343, 176, 20, 22, 773, 26, 72]\n",
      "Monkey 2: []\n",
      "Monkey 3: []\n",
      "\n",
      "After round 13, the monkeys are holding items with these worry levels:\n",
      "Monkey 0: [116, 60, 8, 9, 259, 10, 26, 34]\n",
      "Monkey 1: [140, 150]\n",
      "Monkey 2: []\n",
      "Monkey 3: []\n",
      "\n",
      "After round 14, the monkeys are holding items with these worry levels:\n",
      "Monkey 0: [48, 52, 17]\n",
      "Monkey 1: [245, 127, 20, 547, 22, 55, 72]\n",
      "Monkey 2: []\n",
      "Monkey 3: []\n",
      "\n",
      "After round 15, the monkeys are holding items with these worry levels:\n",
      "Monkey 0: [83, 44, 8, 184, 9, 20, 26, 102]\n",
      "Monkey 1: [110, 36]\n",
      "Monkey 2: []\n",
      "Monkey 3: []\n",
      "\n",
      "After round 16, the monkeys are holding items with these worry levels:\n",
      "Monkey 0: [14, 17]\n",
      "Monkey 1: [481, 176, 93, 389, 20, 43, 55, 216]\n",
      "Monkey 2: []\n",
      "Monkey 3: []\n",
      "\n",
      "After round 17, the monkeys are holding items with these worry levels:\n",
      "Monkey 0: [162, 60, 33, 131, 8, 16, 20, 74]\n",
      "Monkey 1: [30, 36]\n",
      "Monkey 2: []\n",
      "Monkey 3: []\n",
      "\n",
      "After round 18, the monkeys are holding items with these worry levels:\n",
      "Monkey 0: [12, 14, 17, 34]\n",
      "Monkey 1: [343, 127, 70, 277, 43, 157]\n",
      "Monkey 2: []\n",
      "Monkey 3: []\n",
      "\n",
      "After round 19, the monkeys are holding items with these worry levels:\n",
      "Monkey 0: [116, 44, 25, 94, 16, 54]\n",
      "Monkey 1: [26, 30, 36, 72]\n",
      "Monkey 2: []\n",
      "Monkey 3: []\n",
      "\n",
      "After round 20, the monkeys are holding items with these worry levels:\n",
      "Monkey 0: [10, 12, 14, 26, 34]\n",
      "Monkey 1: [245, 93, 53, 199, 115]\n",
      "Monkey 2: []\n",
      "Monkey 3: []\n",
      "\n",
      "Monkey 0 inspected items 101 times\n",
      "Monkey 1 inspected items 95 times\n",
      "Monkey 2 inspected items 7 times\n",
      "Monkey 3 inspected items 105 times\n",
      "\n"
     ]
    },
    {
     "data": {
      "text/plain": [
       "10605"
      ]
     },
     "execution_count": 169,
     "metadata": {},
     "output_type": "execute_result"
    }
   ],
   "source": [
    "monkeys = parse11(\"examples/example11.txt\")\n",
    "\n",
    "monkeyBusiness(monkeys, turns = 20, verbose=True)"
   ]
  },
  {
   "cell_type": "code",
   "execution_count": 170,
   "id": "e452bed6",
   "metadata": {},
   "outputs": [
    {
     "data": {
      "text/plain": [
       "55458"
      ]
     },
     "execution_count": 170,
     "metadata": {},
     "output_type": "execute_result"
    }
   ],
   "source": [
    "monkeys = parse11(\"../AOC2022inputs/input11.txt\")\n",
    "\n",
    "monkeyBusiness(monkeys, turns = 20, lowWorry=True, verbose=False)"
   ]
  },
  {
   "cell_type": "code",
   "execution_count": 171,
   "id": "ca0f54ab",
   "metadata": {},
   "outputs": [
    {
     "data": {
      "text/plain": [
       "14508081294"
      ]
     },
     "execution_count": 171,
     "metadata": {},
     "output_type": "execute_result"
    }
   ],
   "source": [
    "monkeys = parse11(\"../AOC2022inputs/input11.txt\")\n",
    "\n",
    "monkeyBusiness(monkeys, turns = 10000, lowWorry=False, verbose=False)"
   ]
  },
  {
   "cell_type": "code",
   "execution_count": null,
   "id": "3eeac25a",
   "metadata": {},
   "outputs": [],
   "source": []
  }
 ],
 "metadata": {
  "kernelspec": {
   "display_name": "Python 3 (ipykernel)",
   "language": "python",
   "name": "python3"
  },
  "language_info": {
   "codemirror_mode": {
    "name": "ipython",
    "version": 3
   },
   "file_extension": ".py",
   "mimetype": "text/x-python",
   "name": "python",
   "nbconvert_exporter": "python",
   "pygments_lexer": "ipython3",
   "version": "3.10.8"
  }
 },
 "nbformat": 4,
 "nbformat_minor": 5
}

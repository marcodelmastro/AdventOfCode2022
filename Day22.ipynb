{
 "cells": [
  {
   "cell_type": "markdown",
   "metadata": {},
   "source": [
    "# Day 22\n",
    "\n",
    "https://adventofcode.com/2022/day/22\n",
    "\n",
    "## Part 1"
   ]
  },
  {
   "cell_type": "code",
   "execution_count": 1,
   "metadata": {},
   "outputs": [],
   "source": [
    "import numpy as np\n",
    "\n",
    "def instr2moves(instr):\n",
    "    moves = []\n",
    "    v = \"\"\n",
    "    for i in instr:\n",
    "        if i.isdigit():\n",
    "            v+=i\n",
    "        if i==\"R\" or i==\"L\":\n",
    "            moves.append(int(v))\n",
    "            moves.append(i)\n",
    "            v=\"\"\n",
    "    if v!=\"\":\n",
    "        moves.append(int(v))\n",
    "    return moves\n",
    "\n",
    "def parse22(filename):\n",
    "    with open(filename) as f:\n",
    "        data = f.read().split(\"\\n\\n\")\n",
    "        values = data[0].split(\"\\n\")\n",
    "        xmax = max([ len(v) for v in values ])\n",
    "        ymax = len(values)\n",
    "        grid = np.zeros((ymax,xmax),dtype=int)-1\n",
    "        r = 0\n",
    "        for vv in values:\n",
    "            c = 0\n",
    "            for v in vv:\n",
    "                if v==\".\":\n",
    "                    grid[r][c] = 0\n",
    "                elif v==\"#\":\n",
    "                    grid[r][c] = 2\n",
    "                c+=1\n",
    "            r+=1\n",
    "        instructions = data[1].strip(\"\\n\")\n",
    "        return grid,instr2moves(instructions)"
   ]
  },
  {
   "cell_type": "code",
   "execution_count": 2,
   "metadata": {},
   "outputs": [
    {
     "data": {
      "image/png": "[encoded data removed]",
      "text/plain": [
       "<Figure size 640x480 with 1 Axes>"
      ]
     },
     "metadata": {},
     "output_type": "display_data"
    }
   ],
   "source": [
    "import matplotlib.pyplot as plt\n",
    "\n",
    "grid, moves = parse22(\"examples/example22.txt\")\n",
    "\n",
    "plt.imshow(grid)\n",
    "_ = plt.axis('off')"
   ]
  },
  {
   "cell_type": "code",
   "execution_count": 3,
   "metadata": {},
   "outputs": [],
   "source": [
    "def start(grid):\n",
    "    x = 0\n",
    "    for p in grid[0]:\n",
    "        if p==0:\n",
    "            break\n",
    "        x+=1\n",
    "    return (x,0)\n",
    "\n",
    "# Facing is 0 for right (>), 1 for down (v), 2 for left (<), and 3 for up (^)\n",
    "movs = [(+1,0), # right\n",
    "        (0,+1), # down\n",
    "        (-1,0), # left\n",
    "        (0,-1)] # up \n",
    "\n",
    "RIGHT = 0\n",
    "DOWN = 1\n",
    "LEFT = 2\n",
    "UP = 3\n",
    "\n",
    "PATH = 1\n",
    "WALL = 2\n",
    "WRAP = -1\n",
    "\n",
    "def part1(grid,moves,verbose=False,markGrid=False):\n",
    "    \n",
    "    xmax = grid.shape[1]\n",
    "    ymax = grid.shape[0]\n",
    "    imov = 0\n",
    "\n",
    "    P = start(grid)\n",
    "    \n",
    "    if markGrid:\n",
    "        xp,yp = P\n",
    "        grid[yp][xp] = PATH\n",
    "\n",
    "    if verbose: print(\"Starting from\",P)\n",
    "        \n",
    "    for m in moves:\n",
    "        if type(m)==int:\n",
    "            if verbose: print(\"Move {} in dir {}\".format(m,movs[imov]))\n",
    "            Pnew = P\n",
    "            advance = True\n",
    "            for _ in range(m):\n",
    "                Pnew = ((P[0]+movs[imov][0])%xmax,(P[1]+movs[imov][1])%ymax) \n",
    "                xn,yn = Pnew\n",
    "                if grid[yn][xn]==WALL: # wall, stop moving\n",
    "                    if verbose: print(\"Wall in {}\".format(Pnew))\n",
    "                    break\n",
    "                elif grid[yn][xn]==WRAP: # empty, wrap around\n",
    "                    if verbose: print(\"Wrapping to the other side...\")\n",
    "                    Pold = P\n",
    "                    while True:\n",
    "                        Pnew = ((P[0]+movs[imov][0])%xmax,(P[1]+movs[imov][1])%ymax) \n",
    "                        if verbose: print(\"...\",Pnew)\n",
    "                        xn,yn = Pnew\n",
    "                        if grid[yn][xn]==WALL: # wall, stop moving\n",
    "                            if verbose: print(\"Wall in {}, back to {}\".format(Pnew,Pold))\n",
    "                            P = Pold\n",
    "                            advance = False\n",
    "                            break\n",
    "                        if grid[yn][xn]!=WRAP:\n",
    "                            break\n",
    "                        P = Pnew\n",
    "                if advance:\n",
    "                    P = Pnew\n",
    "                else:\n",
    "                    break\n",
    "                \n",
    "                if verbose: print(P)\n",
    "                if markGrid: grid[yn][xn]=PATH\n",
    "        else:\n",
    "            if verbose: print(\"Turn\",m)\n",
    "            if m==\"L\":\n",
    "                imov = (imov-1)%4\n",
    "            elif m==\"R\":\n",
    "                imov = (imov+1)%4\n",
    "                \n",
    "    r = P[1]+1 # row\n",
    "    c = P[0]+1 # column\n",
    "    f = imov # facing\n",
    "    # sum of 1000 times the row, 4 times the column, and the facing.\n",
    "    password = 1000*r+4*c+f\n",
    "    return password"
   ]
  },
  {
   "cell_type": "code",
   "execution_count": 4,
   "metadata": {
    "scrolled": false
   },
   "outputs": [
    {
     "name": "stdout",
     "output_type": "stream",
     "text": [
      "Test 1: 6032\n"
     ]
    },
    {
     "data": {
      "text/plain": [
       "<matplotlib.image.AxesImage at 0x10e84d480>"
      ]
     },
     "execution_count": 4,
     "metadata": {},
     "output_type": "execute_result"
    },
    {
     "data": {
      "image/png": "[encoded data removed]",
      "text/plain": [
       "<Figure size 640x480 with 1 Axes>"
      ]
     },
     "metadata": {},
     "output_type": "display_data"
    }
   ],
   "source": [
    "grid0, moves0 = parse22(\"examples/example22.txt\")\n",
    "\n",
    "test1 = part1(grid0,moves0,verbose=False,markGrid=True)\n",
    "print(\"Test 1:\",test1)\n",
    "\n",
    "plt.imshow(grid0)\n",
    "#_ = plt.axis('off')"
   ]
  },
  {
   "cell_type": "code",
   "execution_count": 5,
   "metadata": {},
   "outputs": [
    {
     "name": "stdout",
     "output_type": "stream",
     "text": [
      "Part 1: 27492\n"
     ]
    },
    {
     "data": {
      "image/png": "[encoded data removed]",
      "text/plain": [
       "<Figure size 600x800 with 1 Axes>"
      ]
     },
     "metadata": {},
     "output_type": "display_data"
    }
   ],
   "source": [
    "grid, moves = parse22(\"../AOC2022inputs/input22.txt\")\n",
    "\n",
    "sol1 = part1(grid,moves,verbose=False,markGrid=True)\n",
    "print(\"Part 1:\",sol1) \n",
    "\n",
    "fig = plt.figure(figsize=(6,8))\n",
    "plt.imshow(grid)\n",
    "_ = plt.axis('off')"
   ]
  },
  {
   "cell_type": "markdown",
   "metadata": {},
   "source": [
    "## Part 2\n",
    "\n",
    "<img src=\"visualisation/day22_cube1.jpeg\" alt=\"cube 1\" width=\"300\"/>\n",
    "\n",
    "<img src=\"visualisation/day22_cube2.jpeg\" alt=\"cube 1\" width=\"300\"/>"
   ]
  },
  {
   "cell_type": "code",
   "execution_count": 6,
   "metadata": {},
   "outputs": [],
   "source": [
    "def part2(grid,moves,nmoves=0,verbose=False,markGrid=False):\n",
    "    \n",
    "    xmax = grid.shape[1]\n",
    "    ymax = grid.shape[0]\n",
    "    imov = 0\n",
    "\n",
    "    P = start(grid)\n",
    "    \n",
    "    if markGrid:\n",
    "        xp,yp = P\n",
    "        grid[yp][xp] = PATH\n",
    "\n",
    "    if verbose: print(\"Starting from\",P)\n",
    "    \n",
    "    _moves = list(moves)\n",
    "    if nmoves>0:\n",
    "        _moves = moves[:nmoves]\n",
    "    \n",
    "    for m in _moves:\n",
    "        if type(m)==int:\n",
    "            if verbose: print(\"*** Move {} in dir {}\".format(m,movs[imov]))\n",
    "            Pnew = P\n",
    "            advance = True\n",
    "            for _ in range(m):\n",
    "                Pold = P\n",
    "                imovold = imov\n",
    "                Pnew = ((P[0]+movs[imov][0])%xmax,(P[1]+movs[imov][1])%ymax)\n",
    "                if verbose:\n",
    "                    print(\"Trying to move to\",Pnew)\n",
    "                xn,yn = Pnew\n",
    "                if grid[yn][xn]==WALL: # wall, stop moving\n",
    "                    if verbose: print(\"Wall in {}\".format(Pnew))\n",
    "                    break\n",
    "                elif grid[yn][xn]==WRAP: # wrap around cube surface\n",
    "                    if verbose: \n",
    "                        print(\"\\n=== Wrapping on cube surface... ===\\n\")\n",
    "                    # Implementing cube surface as in full input, won't work for example!\n",
    "                    # Considering wrapping at map adges...\n",
    "                    \n",
    "                    # SQUARE (1)\n",
    "                    # top of (1) goes into left of (6)\n",
    "                    if 50<=xn<=99 and yn==199 and imov==UP:\n",
    "                        if verbose: print(\"1T -> 6L\")\n",
    "                        Pnew = (0,xn+100)\n",
    "                        imov = RIGHT\n",
    "                    # left of (1) goes into left of (4) reversed\n",
    "                    if xn==49 and 0<=yn<=49 and imov==LEFT:\n",
    "                        if verbose: print(\"1L -> 4Lr\")\n",
    "                        Pnew = (0,149-yn)\n",
    "                        imov = RIGHT\n",
    "                    \n",
    "                    # SQUARE (2)\n",
    "                    # top of (2) goes into bottom of (6)\n",
    "                    if 100<=xn<=199 and yn==199 and imov==UP:\n",
    "                        if verbose: print(\"2T -> 6B\")\n",
    "                        Pnew = (xn-100,yn)\n",
    "                        imov = UP\n",
    "                    # bottom of (2) goes into right of (3)\n",
    "                    if 100<=xn<=199 and yn==50 and imov==DOWN:\n",
    "                        if verbose: print(\"2B -> 3R\")\n",
    "                        Pnew = (99,xn-50)\n",
    "                        imov = LEFT\n",
    "                    # right of (2) goes into right of (5) reversed\n",
    "                    if xn==0 and 0<=yn<=49 and imov==RIGHT:\n",
    "                        if verbose: print(\"2R -> 5Rr\")\n",
    "                        Pnew = (99,149-yn)\n",
    "                        imov = LEFT\n",
    "                    \n",
    "                    # SQUARE (3)\n",
    "                    # left of (3) goes into top of (4)\n",
    "                    if xn==49 and 50<=yn<=99 and imov==LEFT:\n",
    "                        if verbose: print(\"3L -> 4T\")\n",
    "                        Pnew = (yn-50,100)\n",
    "                        imov = DOWN\n",
    "                    # right of (3) goes into bottom of (2)\n",
    "                    if xn==100 and 50<=yn<=99 and imov==RIGHT:\n",
    "                        if verbose: print(\"3R -> 2B\")\n",
    "                        Pnew = (yn+50,49)\n",
    "                        imov = UP\n",
    "                        \n",
    "                    # SQUARE (4)\n",
    "                    # top of (4) goes into left of (3)\n",
    "                    if 0<=xn<=49 and yn==99 and imov==UP:\n",
    "                        if verbose: print(\"4T -> 3L\")\n",
    "                        Pnew = (50,xn+50)\n",
    "                        imov = RIGHT\n",
    "                    # left of (4) goes into right of (1) reversed\n",
    "                    if xn==149 and 100<=yn<=149 and imov==LEFT:\n",
    "                        Pnew = (50,149-yn)\n",
    "                        imov = RIGHT\n",
    "                        \n",
    "                    # SQUARE (5)\n",
    "                    # right of (5) goes into left of (2) reversed\n",
    "                    if xn==100 and 100<=yn<=149 and imov==RIGHT:\n",
    "                        if verbose: print(\"5R -> 2Lr\")\n",
    "                        Pnew = (149,149-yn)\n",
    "                        imov = LEFT\n",
    "                    # bottom of (5) goes into right of (6)\n",
    "                    if 50<=xn<=99 and yn==150 and imov==DOWN:\n",
    "                        if verbose: print(\"5B -> 6R\")\n",
    "                        Pnew = (49,xn+100)\n",
    "                        imov = LEFT\n",
    "                        \n",
    "                    # SQUARE (6)\n",
    "                    # left of (6) goes into top of (1)\n",
    "                    if xn==149 and 150<=yn<=199 and imov==LEFT:\n",
    "                        if verbose: print(\"6L -> 1T\")\n",
    "                        Pnew = (yn-100,0)\n",
    "                        imov = DOWN\n",
    "                    # right of (6) goes into bottom of (5)\n",
    "                    if xn==50 and 150<=yn<=199 and imov==RIGHT:\n",
    "                        if verbose: print(\"6R -> 5B\")\n",
    "                        Pnew = (yn-100,149)\n",
    "                        imov = UP\n",
    "                    # bottom of (6) goes into top of (2)\n",
    "                    if 0<=xn<=49 and yn==0 and imov==DOWN:\n",
    "                        if verbose: print(\"6B -> 2T\")\n",
    "                        Pnew = (xn+100,0)\n",
    "                        imov = DOWN\n",
    "                    \n",
    "                    if verbose:\n",
    "                        print(Pnew)\n",
    "                    \n",
    "                    xn,yn = Pnew\n",
    "                    if grid[yn][xn]==WALL: # wall in new wrap position, stop moving\n",
    "                        if verbose: print(\"Wall in {}, back to {}\".format(Pnew,Pold))\n",
    "                        P = Pold\n",
    "                        imov = imovold\n",
    "                        advance = False\n",
    "                        break\n",
    "\n",
    "                if advance:\n",
    "                    P = Pnew\n",
    "                else:\n",
    "                    break\n",
    "                \n",
    "                if verbose: \n",
    "                    print(\"Moving to\",P)\n",
    "                if markGrid: grid[yn][xn]=PATH\n",
    "        else:\n",
    "            if verbose: print(\"*** Turn\",m)\n",
    "            if m==\"L\":\n",
    "                imov = (imov-1)%4\n",
    "            elif m==\"R\":\n",
    "                imov = (imov+1)%4\n",
    "                \n",
    "    r = P[1]+1 # row\n",
    "    c = P[0]+1 # column\n",
    "    f = imov # facing\n",
    "    # sum of 1000 times the row, 4 times the column, and the facing.\n",
    "    password = 1000*r+4*c+f\n",
    "    return password"
   ]
  },
  {
   "cell_type": "code",
   "execution_count": 7,
   "metadata": {},
   "outputs": [
    {
     "name": "stdout",
     "output_type": "stream",
     "text": [
      "Part 2: 78291\n"
     ]
    }
   ],
   "source": [
    "grid2, moves = parse22(\"../AOC2022inputs/input22.txt\")\n",
    "\n",
    "sol2 = part2(grid2,moves,verbose=False,markGrid=True)\n",
    "print(\"Part 2:\",sol2) # 78291"
   ]
  },
  {
   "cell_type": "code",
   "execution_count": 8,
   "metadata": {},
   "outputs": [
    {
     "data": {
      "image/png": "[encoded data removed]",
      "text/plain": [
       "<Figure size 800x1000 with 1 Axes>"
      ]
     },
     "metadata": {},
     "output_type": "display_data"
    }
   ],
   "source": [
    "fig = plt.figure(figsize=(8,10))\n",
    "plt.imshow(grid2)\n",
    "_ = plt.axis('off')"
   ]
  },
  {
   "cell_type": "code",
   "execution_count": null,
   "metadata": {},
   "outputs": [],
   "source": []
  }
 ],
 "metadata": {
  "kernelspec": {
   "display_name": "Python 3 (ipykernel)",
   "language": "python",
   "name": "python3"
  },
  "language_info": {
   "codemirror_mode": {
    "name": "ipython",
    "version": 3
   },
   "file_extension": ".py",
   "mimetype": "text/x-python",
   "name": "python",
   "nbconvert_exporter": "python",
   "pygments_lexer": "ipython3",
   "version": "3.10.10"
  }
 },
 "nbformat": 4,
 "nbformat_minor": 2
}

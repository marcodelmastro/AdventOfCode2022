{
 "cells": [
  {
   "cell_type": "markdown",
   "id": "43e03113",
   "metadata": {},
   "source": [
    "## Day 7\n",
    "\n",
    "https://adventofcode.com/2022/day/7"
   ]
  },
  {
   "cell_type": "code",
   "execution_count": 1,
   "id": "fd5e3392",
   "metadata": {},
   "outputs": [],
   "source": [
    "def parse07(filename):\n",
    "    with open(filename) as f:\n",
    "        data = [ l.strip().split(\" \") for l in f.readlines() ]\n",
    "        fs = {}\n",
    "        upper = []\n",
    "        current = fs\n",
    "        for c in data:\n",
    "            if c[0]==\"$\":\n",
    "                if c[1]==\"cd\":\n",
    "                    if c[2]==\"/\":\n",
    "                        current = fs\n",
    "                        upper = []\n",
    "                    elif c[2]==\"..\":\n",
    "                        current = upper.pop()\n",
    "                    else:\n",
    "                        upper.append(current)\n",
    "                        current = current[c[2]]\n",
    "            else:\n",
    "                if c[0]==\"dir\":\n",
    "                    newdir = {}\n",
    "                    current[c[1]] = newdir\n",
    "                else:\n",
    "                    current[c[1]] = int(c[0])\n",
    "        return fs"
   ]
  },
  {
   "cell_type": "code",
   "execution_count": 2,
   "id": "d7a4a7a8",
   "metadata": {},
   "outputs": [],
   "source": [
    "def size(d,dirsize=None):\n",
    "    # file\n",
    "    if type(d)==int: \n",
    "        return d\n",
    "    # directory (recursive)\n",
    "    s = 0\n",
    "    for o in d:\n",
    "        s += size(d[o],dirsize)\n",
    "    if dirsize!=None:\n",
    "        dirsize.append(s)\n",
    "    return s"
   ]
  },
  {
   "cell_type": "code",
   "execution_count": 3,
   "id": "42630c54",
   "metadata": {},
   "outputs": [],
   "source": [
    "def part1(filename):\n",
    "    fs = parse07(filename)\n",
    "    dirsize = []\n",
    "    _ = size(fs,dirsize)\n",
    "    return sum([s for s in dirsize if s<100000])"
   ]
  },
  {
   "cell_type": "code",
   "execution_count": 4,
   "id": "12ce44f8",
   "metadata": {
    "scrolled": false
   },
   "outputs": [
    {
     "name": "stdout",
     "output_type": "stream",
     "text": [
      "Test 1: 95437\n",
      "Part 1: 1086293\n"
     ]
    }
   ],
   "source": [
    "print(\"Test 1:\",part1(\"data/test07.txt\"))\n",
    "print(\"Part 1:\",part1(\"data/input07.txt\"))"
   ]
  },
  {
   "cell_type": "code",
   "execution_count": 5,
   "id": "53942294",
   "metadata": {},
   "outputs": [],
   "source": [
    "def part2(filename):\n",
    "    fs = parse07(filename)\n",
    "    dirsize = []\n",
    "    tot = size(fs,dirsize)\n",
    "    space = 70000000\n",
    "    needed = 30000000\n",
    "    for s in sorted(dirsize):\n",
    "        if space-tot+s > needed:\n",
    "            return s"
   ]
  },
  {
   "cell_type": "code",
   "execution_count": 6,
   "id": "2a6c068e",
   "metadata": {},
   "outputs": [
    {
     "name": "stdout",
     "output_type": "stream",
     "text": [
      "Test 2: 24933642\n",
      "Part 2: 366028\n"
     ]
    }
   ],
   "source": [
    "print(\"Test 2:\",part2(\"data/test07.txt\"))\n",
    "print(\"Part 2:\",part2(\"data/input07.txt\"))"
   ]
  },
  {
   "cell_type": "code",
   "execution_count": null,
   "id": "90fe1e01",
   "metadata": {},
   "outputs": [],
   "source": []
  }
 ],
 "metadata": {
  "kernelspec": {
   "display_name": "Python 3 (ipykernel)",
   "language": "python",
   "name": "python3"
  },
  "language_info": {
   "codemirror_mode": {
    "name": "ipython",
    "version": 3
   },
   "file_extension": ".py",
   "mimetype": "text/x-python",
   "name": "python",
   "nbconvert_exporter": "python",
   "pygments_lexer": "ipython3",
   "version": "3.10.8"
  }
 },
 "nbformat": 4,
 "nbformat_minor": 5
}

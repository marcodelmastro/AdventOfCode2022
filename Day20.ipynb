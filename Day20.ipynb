{
 "cells": [
  {
   "cell_type": "markdown",
   "id": "1ed32271",
   "metadata": {},
   "source": [
    "# Day 20\n",
    "\n",
    "https://adventofcode.com/2022/day/20\n",
    "\n",
    "The problem calls for the implementation of a linked list: https://en.wikipedia.org/wiki/Linked_list"
   ]
  },
  {
   "cell_type": "code",
   "execution_count": 9,
   "id": "f8ddc5a1",
   "metadata": {},
   "outputs": [],
   "source": [
    "def parse20(filename):\n",
    "    with open(filename) as f:\n",
    "        return [ int(i.strip()) for i in f.readlines() ]"
   ]
  },
  {
   "cell_type": "code",
   "execution_count": 170,
   "id": "d32c331d",
   "metadata": {},
   "outputs": [],
   "source": [
    "data0 = parse20(\"examples/example20.txt\")\n",
    "data = parse20(\"AOC2022inputs/input20.txt\")"
   ]
  },
  {
   "cell_type": "markdown",
   "id": "0bb151a9",
   "metadata": {},
   "source": [
    "There are duplicate values, I cannot simply store the items by value (but I can use the initial position since it's unique)"
   ]
  },
  {
   "cell_type": "code",
   "execution_count": 230,
   "id": "d6459027",
   "metadata": {},
   "outputs": [
    {
     "data": {
      "text/plain": [
       "(5000, 3615)"
      ]
     },
     "execution_count": 230,
     "metadata": {},
     "output_type": "execute_result"
    }
   ],
   "source": [
    "len(data),len(set(data))"
   ]
  },
  {
   "cell_type": "markdown",
   "id": "63da6cb5",
   "metadata": {},
   "source": [
    "## Part 1\n",
    "\n",
    "There are duplicate numbers in list, I will representing them as `(initial position, value)`\n",
    "\n",
    "Dictionary payload is `[ element left, element right ]`\n",
    "\n",
    "While scanning the initial list I'll save the zero item position"
   ]
  },
  {
   "cell_type": "code",
   "execution_count": 205,
   "id": "beffb73c",
   "metadata": {},
   "outputs": [],
   "source": [
    "def makeLList(data):\n",
    "    zero = None\n",
    "    LList = {}\n",
    "    for i,n in enumerate(data):\n",
    "        LList[(i,n)]=[ ((i-1)%len(data),data[(i-1)%len(data)]) , ((i+1)%len(data),data[(i+1)%len(data)]) ]\n",
    "        if n==0:\n",
    "            zero = (i,n)\n",
    "    return LList,zero\n",
    "\n",
    "def mixLList(LList,data):\n",
    "    for C in enumerate(data):\n",
    "        i,n = C\n",
    "        # Move n times. \n",
    "        # If the number of moves is greater than the list lenght, avoid repeating (essential for Part 2)\n",
    "        for _ in range( abs(n) % (len(data)-1) ): \n",
    "            L, R = LList[C]\n",
    "            if n>0: # move right\n",
    "                R1 = LList[R][1]\n",
    "                LList[C] = [ R, R1 ]\n",
    "                LList[R] = [ L, C ]\n",
    "                LList[L][1] = R \n",
    "                LList[R1][0] = C\n",
    "            else: # move left\n",
    "                L0 = LList[L][0]\n",
    "                LList[C] = [ L0, L ]\n",
    "                LList[L] = [ C, R ]\n",
    "                LList[R][0] = L\n",
    "                LList[L0][1] = C\n",
    "\n",
    "def printLList(LList,s):\n",
    "    i = 0\n",
    "    while True:\n",
    "        print(s[1],end=\" \")\n",
    "        s = LList[s][1]\n",
    "        i+=1\n",
    "        if i==len(LList.keys()):\n",
    "            break\n",
    "    print()\n",
    "\n",
    "def groveCoord(LList,zero):\n",
    "    # looking at the 1000th, 2000th, and 3000th numbers after the value 0\n",
    "    i1k = 0\n",
    "    i2k = 0\n",
    "    i3k = 0\n",
    "    i = 0\n",
    "    s = zero\n",
    "    while True:\n",
    "        s = LList[s][1]\n",
    "        i+=1\n",
    "        if i==1000:\n",
    "            i1k = s[1]\n",
    "        if i==2000:\n",
    "            i2k = s[1]\n",
    "        if i==3000:\n",
    "            i3k = s[1]\n",
    "            break\n",
    "    return [i1k,i2k,i3k]"
   ]
  },
  {
   "cell_type": "code",
   "execution_count": 203,
   "id": "e46a9615",
   "metadata": {},
   "outputs": [
    {
     "name": "stdout",
     "output_type": "stream",
     "text": [
      "0 3 -2 1 2 -3 4 \n",
      "Test 1: 3\n"
     ]
    }
   ],
   "source": [
    "LList0,zero0 = makeLList(data0)\n",
    "mixLList(LList0,data0)\n",
    "printLList(LList0,zero0)\n",
    "grovC0 = groveCoord(LList0,zero0)\n",
    "print(\"Test 1:\",sum(grovC0)) # 3"
   ]
  },
  {
   "cell_type": "code",
   "execution_count": 206,
   "id": "736ddd1b",
   "metadata": {},
   "outputs": [
    {
     "name": "stdout",
     "output_type": "stream",
     "text": [
      "Part 1: 1591\n"
     ]
    }
   ],
   "source": [
    "LList,zero = makeLList(data)\n",
    "mixLList(LList,data)\n",
    "grovC = groveCoord(LList,zero)\n",
    "print(\"Part 1:\",sum(grovC)) # 1591"
   ]
  },
  {
   "cell_type": "markdown",
   "id": "ccff8a62",
   "metadata": {},
   "source": [
    "## Part 2"
   ]
  },
  {
   "cell_type": "code",
   "execution_count": 227,
   "id": "cc75c310",
   "metadata": {
    "scrolled": false
   },
   "outputs": [],
   "source": [
    "from pluralizer import Pluralizer\n",
    "import numpy as np\n",
    "\n",
    "pluralizer = Pluralizer()\n",
    "\n",
    "def part2(data,key=811589153,verbose=True):\n",
    "    datakey = np.array(data)*key\n",
    "    LListkey,zerokey = makeLList(datakey)\n",
    "    for im in range(1,11):\n",
    "        mixLList(LListkey,datakey)\n",
    "        print(\"After {} of mixing\".format(pluralizer.pluralize('round',im,True)))\n",
    "        if verbose:\n",
    "            printLList(LList0key,zero0key)\n",
    "            print()\n",
    "    grovCkey = groveCoord(LListkey,zerokey)\n",
    "    return sum(grovCkey)"
   ]
  },
  {
   "cell_type": "code",
   "execution_count": 228,
   "id": "abd80075",
   "metadata": {},
   "outputs": [
    {
     "name": "stdout",
     "output_type": "stream",
     "text": [
      "After 1 round of mixing\n",
      "0 811589153 1623178306 -2434767459 -1623178306 2434767459 3246356612 \n",
      "\n",
      "After 2 rounds of mixing\n",
      "0 811589153 1623178306 -2434767459 -1623178306 2434767459 3246356612 \n",
      "\n",
      "After 3 rounds of mixing\n",
      "0 811589153 1623178306 -2434767459 -1623178306 2434767459 3246356612 \n",
      "\n",
      "After 4 rounds of mixing\n",
      "0 811589153 1623178306 -2434767459 -1623178306 2434767459 3246356612 \n",
      "\n",
      "After 5 rounds of mixing\n",
      "0 811589153 1623178306 -2434767459 -1623178306 2434767459 3246356612 \n",
      "\n",
      "After 6 rounds of mixing\n",
      "0 811589153 1623178306 -2434767459 -1623178306 2434767459 3246356612 \n",
      "\n",
      "After 7 rounds of mixing\n",
      "0 811589153 1623178306 -2434767459 -1623178306 2434767459 3246356612 \n",
      "\n",
      "After 8 rounds of mixing\n",
      "0 811589153 1623178306 -2434767459 -1623178306 2434767459 3246356612 \n",
      "\n",
      "After 9 rounds of mixing\n",
      "0 811589153 1623178306 -2434767459 -1623178306 2434767459 3246356612 \n",
      "\n",
      "After 10 rounds of mixing\n",
      "0 811589153 1623178306 -2434767459 -1623178306 2434767459 3246356612 \n",
      "\n",
      "Test 2: 1623178306\n"
     ]
    }
   ],
   "source": [
    "test2 = part2(data0)\n",
    "print(\"Test 2:\",test2)"
   ]
  },
  {
   "cell_type": "code",
   "execution_count": 231,
   "id": "2d739190",
   "metadata": {},
   "outputs": [
    {
     "name": "stdout",
     "output_type": "stream",
     "text": [
      "After 1 round of mixing\n",
      "After 2 rounds of mixing\n",
      "After 3 rounds of mixing\n",
      "After 4 rounds of mixing\n",
      "After 5 rounds of mixing\n",
      "After 6 rounds of mixing\n",
      "After 7 rounds of mixing\n",
      "After 8 rounds of mixing\n",
      "After 9 rounds of mixing\n",
      "After 10 rounds of mixing\n",
      "\n",
      "Part 2: 14579387544492\n"
     ]
    }
   ],
   "source": [
    "sol2 = part2(data,verbose=False)\n",
    "print(\"\\nPart 2:\",sol2)"
   ]
  },
  {
   "cell_type": "code",
   "execution_count": null,
   "id": "db356c19",
   "metadata": {},
   "outputs": [],
   "source": []
  }
 ],
 "metadata": {
  "kernelspec": {
   "display_name": "Python 3 (ipykernel)",
   "language": "python",
   "name": "python3"
  },
  "language_info": {
   "codemirror_mode": {
    "name": "ipython",
    "version": 3
   },
   "file_extension": ".py",
   "mimetype": "text/x-python",
   "name": "python",
   "nbconvert_exporter": "python",
   "pygments_lexer": "ipython3",
   "version": "3.10.8"
  }
 },
 "nbformat": 4,
 "nbformat_minor": 5
}

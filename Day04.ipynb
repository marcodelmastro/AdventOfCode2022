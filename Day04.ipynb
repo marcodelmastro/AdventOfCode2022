{
 "cells": [
  {
   "cell_type": "markdown",
   "id": "3f9eacd3",
   "metadata": {},
   "source": [
    "## Day 4\n",
    "\n",
    "https://adventofcode.com/2022/day/4\n",
    "\n",
    "### Using the interval extremes"
   ]
  },
  {
   "cell_type": "code",
   "execution_count": 1,
   "id": "9d8f9ea8",
   "metadata": {},
   "outputs": [],
   "source": [
    "def parse04(filename):\n",
    "    with open(filename) as f:\n",
    "        return [[[ int(i) for i in e.split(\"-\")] for e in l.strip().split(\",\")] for l in f.readlines()]"
   ]
  },
  {
   "cell_type": "code",
   "execution_count": 2,
   "id": "f2d8ff9b",
   "metadata": {
    "scrolled": false
   },
   "outputs": [],
   "source": [
    "def part1(data):\n",
    "    return sum([(s[0][0]<=s[1][0] and s[0][1]>=s[1][1]) or (s[0][0]>=s[1][0] and s[0][1]<=s[1][1]) for s in data])\n",
    "\n",
    "def part2(data):\n",
    "    return sum([((s[0][0]<=s[1][0] and s[0][1]>=s[1][1]) or ( s[0][0]>=s[1][0] and s[0][1]<=s[1][1])) # fully contain the other\n",
    "                or ( (s[0][1]>=s[1][0] and s[0][0]<s[1][0]) or (s[1][1]>=s[0][0] and s[1][0]<s[0][0])) # partial overlap                                              \n",
    "                for s in data])"
   ]
  },
  {
   "cell_type": "code",
   "execution_count": 4,
   "id": "7ae9280e",
   "metadata": {},
   "outputs": [
    {
     "name": "stdout",
     "output_type": "stream",
     "text": [
      "Test 1: 2\n",
      "Part 1: 503\n",
      "Test 2: 4\n",
      "Part 2: 827\n"
     ]
    }
   ],
   "source": [
    "test = parse04(\"examples/example04.txt\")\n",
    "data = parse04(\"AOC2022inputs/input04.txt\")\n",
    "\n",
    "print(\"Test 1:\",part1(test))\n",
    "print(\"Part 1:\",part1(data))\n",
    "print(\"Test 2:\",part2(test))\n",
    "print(\"Part 2:\",part2(data))"
   ]
  },
  {
   "cell_type": "markdown",
   "id": "44283850",
   "metadata": {},
   "source": [
    "### Using sets"
   ]
  },
  {
   "cell_type": "code",
   "execution_count": 5,
   "id": "775838a0",
   "metadata": {},
   "outputs": [],
   "source": [
    "def part1set(data):\n",
    "    s = []\n",
    "    for r1,r2 in data:\n",
    "        s1 = {i for i in range(r1[0],r1[1]+1)}\n",
    "        s2 = {i for i in range(r2[0],r2[1]+1)}\n",
    "        s.append(s1.issubset(s2) or s2.issubset(s1))\n",
    "    return sum(s)\n",
    "\n",
    "def part2set(data):\n",
    "    s = []\n",
    "    for r1,r2 in data:\n",
    "        s1 = {i for i in range(r1[0],r1[1]+1)}\n",
    "        s2 = {i for i in range(r2[0],r2[1]+1)}\n",
    "        s.append( s1.issubset(s2) or s2.issubset(s1) or not s1.isdisjoint(s2) or not s2.isdisjoint(s1) )\n",
    "    return sum(s)"
   ]
  },
  {
   "cell_type": "code",
   "execution_count": 6,
   "id": "b82e2c00",
   "metadata": {},
   "outputs": [
    {
     "name": "stdout",
     "output_type": "stream",
     "text": [
      "Test 1: 2\n",
      "Part 1: 503\n",
      "Test 2: 4\n",
      "Part 2: 827\n"
     ]
    }
   ],
   "source": [
    "print(\"Test 1:\",part1set(test))\n",
    "print(\"Part 1:\",part1set(data))\n",
    "print(\"Test 2:\",part2set(test))\n",
    "print(\"Part 2:\",part2set(data))"
   ]
  },
  {
   "cell_type": "code",
   "execution_count": null,
   "id": "9a0673ec",
   "metadata": {},
   "outputs": [],
   "source": []
  }
 ],
 "metadata": {
  "kernelspec": {
   "display_name": "Python 3 (ipykernel)",
   "language": "python",
   "name": "python3"
  },
  "language_info": {
   "codemirror_mode": {
    "name": "ipython",
    "version": 3
   },
   "file_extension": ".py",
   "mimetype": "text/x-python",
   "name": "python",
   "nbconvert_exporter": "python",
   "pygments_lexer": "ipython3",
   "version": "3.10.8"
  }
 },
 "nbformat": 4,
 "nbformat_minor": 5
}

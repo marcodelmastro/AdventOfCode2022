{
 "cells": [
  {
   "cell_type": "markdown",
   "id": "304e8781",
   "metadata": {},
   "source": [
    "# Day 19\n",
    "\n",
    "https://adventofcode.com/2022/day/19"
   ]
  },
  {
   "cell_type": "code",
   "execution_count": 1,
   "id": "1f80ffdf",
   "metadata": {},
   "outputs": [
    {
     "data": {
      "text/plain": [
       "[[array([4, 0, 0, 0]),\n",
       "  array([2, 0, 0, 0]),\n",
       "  array([ 3, 14,  0,  0]),\n",
       "  array([2, 0, 7, 0])],\n",
       " [array([2, 0, 0, 0]),\n",
       "  array([3, 0, 0, 0]),\n",
       "  array([3, 8, 0, 0]),\n",
       "  array([ 3,  0, 12,  0])]]"
      ]
     },
     "execution_count": 1,
     "metadata": {},
     "output_type": "execute_result"
    }
   ],
   "source": [
    "import re\n",
    "import numpy as np\n",
    "\n",
    "def parse19(filename):\n",
    "    with open(filename) as f:\n",
    "        data = [ [ int(i) for i in re.findall(\"\\d+\",l) ] for l in f.readlines() ]\n",
    "        # saving robot costs as array of resources [ore, clay, obsidian, geodes]\n",
    "        bps = []\n",
    "        for d in data:\n",
    "            ore_rob_cost = np.array([d[1], 0, 0, 0])\n",
    "            cla_rob_cost = np.array([d[2], 0, 0, 0])\n",
    "            obs_rob_cost = np.array([d[3], d[4], 0, 0])\n",
    "            geo_rob_cost = np.array([d[5], 0, d[6], 0])\n",
    "            bps.append( [ore_rob_cost, cla_rob_cost, obs_rob_cost, geo_rob_cost] )\n",
    "        return bps\n",
    "\n",
    "bps = parse19(\"examples/example19.txt\")\n",
    "bps"
   ]
  },
  {
   "cell_type": "code",
   "execution_count": 8,
   "id": "5f5840f4",
   "metadata": {},
   "outputs": [],
   "source": [
    "from queue import Queue\n",
    "\n",
    "def hash_state(state):\n",
    "    time,robots,resources = state\n",
    "    h = str(time)+\"_\"\n",
    "    for r in robots:\n",
    "        h += \"_\"+str(r)\n",
    "    h += \"_\"\n",
    "    for r in resources:\n",
    "        h += \"_\"+str(r)   \n",
    "    return(h)\n",
    "\n",
    "def max_geodes(bp,timemax=24):\n",
    "\n",
    "    # compute maximum amount of each resource needed to build any robot\n",
    "    max_res = np.zeros(4,dtype=int)\n",
    "    for cost in bp:\n",
    "        for j in range(len(cost)):\n",
    "            if cost[j]>max_res[j]:\n",
    "                max_res[j]=cost[j]\n",
    "\n",
    "    # initial state\n",
    "    robots    = np.array([1, 0, 0, 0])\n",
    "    resources = np.array([0, 0, 0, 0])\n",
    "    time  = 0\n",
    "    start = (time,robots,resources)\n",
    "    \n",
    "    # BFS-like search of state evolutions\n",
    "    states = { hash_state(start) }\n",
    "    geodes_max = 0\n",
    "    q = Queue()\n",
    "    q.put(start)\n",
    "    \n",
    "    while not q.empty():\n",
    "        \n",
    "        # get state\n",
    "        time, robots, resources = q.get()\n",
    "        \n",
    "        # fast-forward in time to a state where a new robot can be built\n",
    "        # given existing resources and what could be built in the interval       \n",
    "        for i in range(len(bp)): # index of robot to be built\n",
    "            cost = bp[i]\n",
    "            time_needed = [ 0, 0, 0, 0 ] # time needed to gather resources to build robot\n",
    "            for j in range(len(cost)): # needed resources\n",
    "                if cost[j]:\n",
    "                    if cost[j]<=resources[j]: # state already has enough of this resource to build robot\n",
    "                        continue\n",
    "                    else: # compute time needed to produce resource\n",
    "                        if robots[j]: # have robot(s) to produce resource\n",
    "                            time_needed[j] = (cost[j] - resources[j]) // robots[j] + int((cost[j] - resources[j])%robots[j]>0)\n",
    "                        else: # no robot to build resource, storing a large time to reject construction\n",
    "                            time_needed[j] = timemax+1\n",
    "            dt = max(time_needed) # choosing time from most time-consuming resource\n",
    "            if time+dt+1+1<=timemax: # resources can be gathered and robot can be built in available time \n",
    "                                     # and new robot will have time to do something (+1 minute), otherwise useless\n",
    "                # collect resources with initially available robots, spend to build new robot\n",
    "                resources_new = resources + (dt+1)*robots - cost\n",
    "                # build new robot\n",
    "                robots_new = np.copy(robots)\n",
    "                robots_new[i] += 1\n",
    "                \n",
    "                # OPTIMISATIONS: The code converges to the correct results even without these optimisations, \n",
    "                # but the search space becomes bery large and the execution time very slow...\n",
    "                \n",
    "                # 1) If it takes N resources to build a robot, it's usess to have M>N robots collecting that resource\n",
    "                # so I can speed-up the process by avoiding to re-enque states with too many useless robots. \n",
    "                # This is enough to solve Part 1 in a decent time\n",
    "                if not ( robots_new <= max_res )[:3].all() : # do not consider geodes \n",
    "                    continue\n",
    "                    \n",
    "                # 2) Let's imagine that from next round only geodes robots will be added to this state (regardless\n",
    "                # of whether this is possible in term of resources). If even in this overoptimistic conditions the\n",
    "                # state cannot produce more geodes than the current maximum, it's useless to re-enque this state\n",
    "                timeleft = timemax - (time+dt+1)\n",
    "                geodes_new_ideal = (timeleft-1)*(timeleft)//2 # triangular number for timeleft-1, since geodes\n",
    "                                                              # built at last minute cannot build anything\n",
    "                geodes_final_ideal = resources_new[3] + timeleft*robots_new[3] + geodes_new_ideal\n",
    "                if geodes_final_ideal<=geodes_max:\n",
    "                    continue\n",
    "\n",
    "                # re-enque new state\n",
    "                state_new = (time+dt+1,robots_new,resources_new)\n",
    "                h = hash_state(state_new)\n",
    "                if h not in states:\n",
    "                    q.put(state_new)\n",
    "                    states.add(h)\n",
    "\n",
    "        # compute geodes from current state\n",
    "        geodes_this_state = resources[3] + robots[3]*(timemax-time)\n",
    "        if geodes_this_state > geodes_max:\n",
    "            geodes_max = geodes_this_state\n",
    "    \n",
    "    return geodes_max"
   ]
  },
  {
   "cell_type": "code",
   "execution_count": 9,
   "id": "040abbd3",
   "metadata": {},
   "outputs": [],
   "source": [
    "def part1(filename):\n",
    "    bps = parse19(filename)\n",
    "    q = 0\n",
    "    print(\"| Blueprint | Geodes (24) | Quality |\")\n",
    "    print(\"|-----------+-------------+---------|\")\n",
    "    for i,bp in enumerate(bps):\n",
    "        g = max_geodes(bp,24)\n",
    "        print(\"| {:9d} | {:11d} | {:7d} | \".format(i+1,g,(i+1)*g))\n",
    "        q += (i+1)*g\n",
    "    print(\"\\n Sum quality levels: {}\".format(q))\n",
    "    return q"
   ]
  },
  {
   "cell_type": "code",
   "execution_count": 10,
   "id": "c7a7e7c7",
   "metadata": {},
   "outputs": [
    {
     "name": "stdout",
     "output_type": "stream",
     "text": [
      "| Blueprint | Geodes (24) | Quality |\n",
      "|-----------+-------------+---------|\n",
      "|         1 |           9 |       9 | \n",
      "|         2 |          12 |      24 | \n",
      "\n",
      " Sum quality levels: 33\n"
     ]
    }
   ],
   "source": [
    "test1 = part1(\"examples/example19.txt\") # 33"
   ]
  },
  {
   "cell_type": "code",
   "execution_count": 11,
   "id": "ddac7f0c",
   "metadata": {},
   "outputs": [
    {
     "name": "stdout",
     "output_type": "stream",
     "text": [
      "| Blueprint | Geodes (24) | Quality |\n",
      "|-----------+-------------+---------|\n",
      "|         1 |           0 |       0 | \n",
      "|         2 |           2 |       4 | \n",
      "|         3 |           2 |       6 | \n",
      "|         4 |           2 |       8 | \n",
      "|         5 |           6 |      30 | \n",
      "|         6 |           4 |      24 | \n",
      "|         7 |          13 |      91 | \n",
      "|         8 |           5 |      40 | \n",
      "|         9 |           0 |       0 | \n",
      "|        10 |           0 |       0 | \n",
      "|        11 |           1 |      11 | \n",
      "|        12 |           1 |      12 | \n",
      "|        13 |           3 |      39 | \n",
      "|        14 |           4 |      56 | \n",
      "|        15 |           5 |      75 | \n",
      "|        16 |           1 |      16 | \n",
      "|        17 |           2 |      34 | \n",
      "|        18 |           3 |      54 | \n",
      "|        19 |           1 |      19 | \n",
      "|        20 |           9 |     180 | \n",
      "|        21 |           0 |       0 | \n",
      "|        22 |           1 |      22 | \n",
      "|        23 |           1 |      23 | \n",
      "|        24 |           7 |     168 | \n",
      "|        25 |           0 |       0 | \n",
      "|        26 |           0 |       0 | \n",
      "|        27 |           6 |     162 | \n",
      "|        28 |           7 |     196 | \n",
      "|        29 |           1 |      29 | \n",
      "|        30 |          12 |     360 | \n",
      "\n",
      " Sum quality levels: 1659\n",
      "\n",
      "Running time = 8 s\n"
     ]
    }
   ],
   "source": [
    "import time\n",
    "tic = time.perf_counter()\n",
    "\n",
    "part1 = part1(\"AOC2022inputs/input19.txt\") # 1659\n",
    "\n",
    "toc = time.perf_counter()\n",
    "print(\"\\nRunning time = {} s\".format(int(toc-tic)))"
   ]
  },
  {
   "cell_type": "code",
   "execution_count": 12,
   "id": "e1c627a8",
   "metadata": {},
   "outputs": [],
   "source": [
    "def part2(filename):\n",
    "    bps = parse19(filename)\n",
    "    p = 1\n",
    "    print(\"| Blueprint | Geodes (32) |\")\n",
    "    print(\"|-----------+-------------|\")\n",
    "    for i,bp in enumerate(bps):\n",
    "        g = max_geodes(bp,32)\n",
    "        print(\"| {:9d} | {:11d} | \".format(i+1,g))\n",
    "        p *= g\n",
    "        if i+1==3:\n",
    "            break\n",
    "    print(\"\\n Product of max geodes: {}\".format(p))\n",
    "    return p"
   ]
  },
  {
   "cell_type": "code",
   "execution_count": 13,
   "id": "073fc9e3",
   "metadata": {},
   "outputs": [
    {
     "name": "stdout",
     "output_type": "stream",
     "text": [
      "| Blueprint | Geodes (32) |\n",
      "|-----------+-------------|\n",
      "|         1 |          56 | \n",
      "|         2 |          62 | \n",
      "\n",
      " Product of max geodes: 3472\n"
     ]
    }
   ],
   "source": [
    "test2 = part2(\"examples/example19.txt\") # 56 * 62 = 3472"
   ]
  },
  {
   "cell_type": "code",
   "execution_count": 14,
   "id": "981fb509",
   "metadata": {},
   "outputs": [
    {
     "name": "stdout",
     "output_type": "stream",
     "text": [
      "| Blueprint | Geodes (32) |\n",
      "|-----------+-------------|\n",
      "|         1 |           9 | \n",
      "|         2 |          27 | \n",
      "|         3 |          28 | \n",
      "\n",
      " Product of max geodes: 6804\n",
      "\n",
      "Running time = 23 s\n"
     ]
    }
   ],
   "source": [
    "tic = time.perf_counter()\n",
    "\n",
    "part2 = part2(\"AOC2022inputs/input19.txt\") # 6804\n",
    "\n",
    "toc = time.perf_counter()\n",
    "print(\"\\nRunning time = {} s\".format(int(toc-tic)))"
   ]
  },
  {
   "cell_type": "code",
   "execution_count": null,
   "id": "f7ec7b41",
   "metadata": {},
   "outputs": [],
   "source": []
  }
 ],
 "metadata": {
  "kernelspec": {
   "display_name": "Python 3 (ipykernel)",
   "language": "python",
   "name": "python3"
  },
  "language_info": {
   "codemirror_mode": {
    "name": "ipython",
    "version": 3
   },
   "file_extension": ".py",
   "mimetype": "text/x-python",
   "name": "python",
   "nbconvert_exporter": "python",
   "pygments_lexer": "ipython3",
   "version": "3.10.8"
  }
 },
 "nbformat": 4,
 "nbformat_minor": 5
}

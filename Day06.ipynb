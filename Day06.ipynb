{
 "cells": [
  {
   "cell_type": "markdown",
   "id": "4aa04a0d",
   "metadata": {},
   "source": [
    "## Day 6\n",
    "\n",
    "https://adventofcode.com/2022/day/6"
   ]
  },
  {
   "cell_type": "code",
   "execution_count": 1,
   "id": "bb90b292",
   "metadata": {},
   "outputs": [],
   "source": [
    "def parse06(filename):\n",
    "    with open(filename) as f:\n",
    "        return f.read().strip()"
   ]
  },
  {
   "cell_type": "code",
   "execution_count": 2,
   "id": "e86397b4",
   "metadata": {},
   "outputs": [],
   "source": [
    "def solve6(data,l=4):\n",
    "    for i in range(l,len(data)+1):\n",
    "        s = { d for d in data[i-l:i] }\n",
    "        if len(s)==l:\n",
    "            return i"
   ]
  },
  {
   "cell_type": "code",
   "execution_count": 3,
   "id": "c3173eb3",
   "metadata": {},
   "outputs": [
    {
     "name": "stdout",
     "output_type": "stream",
     "text": [
      "Part 1: 1582\n",
      "Part 2: 3588\n"
     ]
    }
   ],
   "source": [
    "data = parse06(\"AOC2022inputs/input06.txt\")\n",
    "\n",
    "print(\"Part 1:\",solve6(data,4))\n",
    "print(\"Part 2:\",solve6(data,14))"
   ]
  },
  {
   "cell_type": "code",
   "execution_count": null,
   "id": "eee976a4",
   "metadata": {},
   "outputs": [],
   "source": []
  }
 ],
 "metadata": {
  "kernelspec": {
   "display_name": "Python 3 (ipykernel)",
   "language": "python",
   "name": "python3"
  },
  "language_info": {
   "codemirror_mode": {
    "name": "ipython",
    "version": 3
   },
   "file_extension": ".py",
   "mimetype": "text/x-python",
   "name": "python",
   "nbconvert_exporter": "python",
   "pygments_lexer": "ipython3",
   "version": "3.10.8"
  }
 },
 "nbformat": 4,
 "nbformat_minor": 5
}

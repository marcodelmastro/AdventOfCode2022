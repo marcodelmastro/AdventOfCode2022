{
 "cells": [
  {
   "cell_type": "markdown",
   "id": "7afcd468",
   "metadata": {},
   "source": [
    "## Day 13\n",
    "\n",
    "https://adventofcode.com/2022/day/13"
   ]
  },
  {
   "cell_type": "code",
   "execution_count": 1,
   "id": "6c610ddb",
   "metadata": {},
   "outputs": [],
   "source": [
    "def parse13(filename):\n",
    "    with open(filename) as f:\n",
    "        return [ [ eval(l) for l in c.split(\"\\n\")] for c in f.read().strip().split(\"\\n\\n\") ]"
   ]
  },
  {
   "cell_type": "markdown",
   "id": "bb00b42e",
   "metadata": {},
   "source": [
    "### Part 1\n",
    "\n",
    "`compare` function with recursion:"
   ]
  },
  {
   "cell_type": "code",
   "execution_count": 2,
   "id": "f4209284",
   "metadata": {},
   "outputs": [],
   "source": [
    "def compare(a,b):\n",
    "    if type(a)==int and type(b)==int:\n",
    "        if a<b:\n",
    "            return -1\n",
    "        elif a>b:\n",
    "            return 1\n",
    "        else: # check next\n",
    "            return 0\n",
    "    if type(a)==int and type(b)==list:\n",
    "        return compare([a],b)\n",
    "    if type(a)==list and type(b)==int:\n",
    "        return compare(a,[b])\n",
    "    if type(a)==list and type(b)==list:\n",
    "        if len(a)==len(b):\n",
    "            for aa,bb in zip(a,b):\n",
    "                c = compare(aa,bb)\n",
    "                if c!=0:\n",
    "                    return c\n",
    "            return 0\n",
    "        else:\n",
    "            for i in range(min(len(a),len(b))):\n",
    "                aa = a[i]\n",
    "                bb = b[i]\n",
    "                c = compare(aa,bb)\n",
    "                if c!=0:\n",
    "                    return c\n",
    "            if len(a)<len(b):\n",
    "                return -1\n",
    "            else:\n",
    "                return 1\n",
    "    return 0"
   ]
  },
  {
   "cell_type": "code",
   "execution_count": 3,
   "id": "b1ee48fb",
   "metadata": {},
   "outputs": [],
   "source": [
    "def part1(pairs):\n",
    "    return sum([ i+1 for i,(a,b) in enumerate(pairs) if compare(a,b)==-1 ])"
   ]
  },
  {
   "cell_type": "code",
   "execution_count": 4,
   "id": "1115ead0",
   "metadata": {},
   "outputs": [
    {
     "name": "stdout",
     "output_type": "stream",
     "text": [
      "Test 1: 13\n",
      "Part 1: 5340\n"
     ]
    }
   ],
   "source": [
    "pairs0 = parse13(\"examples/example13.txt\")\n",
    "pairs = parse13(\"AOC2022inputs/input13.txt\")\n",
    "\n",
    "print(\"Test 1:\",part1(pairs0))\n",
    "print(\"Part 1:\",part1(pairs))"
   ]
  },
  {
   "cell_type": "markdown",
   "id": "30ee3f43",
   "metadata": {},
   "source": [
    "### Part 2\n",
    "\n",
    "In Python 3 there is no more the `cmp` function to be used by the sorting functions, but `functool` has a utility to convert it in a `key` function:\n",
    "\n",
    "https://docs.python.org/3.8/library/functools.html#functools.cmp_to_key"
   ]
  },
  {
   "cell_type": "code",
   "execution_count": 5,
   "id": "9664f9aa",
   "metadata": {},
   "outputs": [],
   "source": [
    "import functools\n",
    "\n",
    "def packets(pairs):\n",
    "    pack = [ [[2]] , [[6]] ]\n",
    "    for a,b in pairs:\n",
    "        pack.append(a)\n",
    "        pack.append(b)\n",
    "    return pack\n",
    "\n",
    "def part2(pairs):\n",
    "    p = packets(pairs)\n",
    "    p_sorted = sorted(p,key=functools.cmp_to_key(compare))\n",
    "    return ( p_sorted.index([[2]])+1 )*( p_sorted.index([[6]])+1 )"
   ]
  },
  {
   "cell_type": "code",
   "execution_count": 6,
   "id": "bffc99e0",
   "metadata": {},
   "outputs": [
    {
     "name": "stdout",
     "output_type": "stream",
     "text": [
      "Test 2: 140\n",
      "Part 2: 21276\n"
     ]
    }
   ],
   "source": [
    "print(\"Test 2:\",part2(pairs0))\n",
    "print(\"Part 2:\",part2(pairs))"
   ]
  },
  {
   "cell_type": "code",
   "execution_count": 21,
   "id": "bb9ae673",
   "metadata": {},
   "outputs": [],
   "source": [
    "def bubbleSort(p):\n",
    "    '''simple bubble sorting algorithm using compare(a,b) function'''\n",
    "    n = len(p)\n",
    "    for i in range(n-1):\n",
    "        for j in range(0,n-i-1):\n",
    "            if compare(p[j],p[j+1])==1:\n",
    "                p[j], p[j+1] = p[j+1], p[j]\n",
    "                \n",
    "def part2mysort(pairs):\n",
    "    p = packets(pairs)\n",
    "    bubbleSort(p)\n",
    "    return ( p.index([[2]])+1 )*( p.index([[6]])+1 )"
   ]
  },
  {
   "cell_type": "code",
   "execution_count": 22,
   "id": "f36d04af",
   "metadata": {},
   "outputs": [
    {
     "name": "stdout",
     "output_type": "stream",
     "text": [
      "Test 2: 140\n",
      "Part 2: 21276\n"
     ]
    }
   ],
   "source": [
    "print(\"Test 2:\",part2mysort(pairs0))\n",
    "print(\"Part 2:\",part2mysort(pairs))"
   ]
  },
  {
   "cell_type": "code",
   "execution_count": null,
   "id": "eaf89760",
   "metadata": {},
   "outputs": [],
   "source": []
  }
 ],
 "metadata": {
  "kernelspec": {
   "display_name": "Python 3 (ipykernel)",
   "language": "python",
   "name": "python3"
  },
  "language_info": {
   "codemirror_mode": {
    "name": "ipython",
    "version": 3
   },
   "file_extension": ".py",
   "mimetype": "text/x-python",
   "name": "python",
   "nbconvert_exporter": "python",
   "pygments_lexer": "ipython3",
   "version": "3.10.8"
  }
 },
 "nbformat": 4,
 "nbformat_minor": 5
}

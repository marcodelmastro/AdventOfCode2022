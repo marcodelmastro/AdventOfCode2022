{
 "cells": [
  {
   "cell_type": "markdown",
   "id": "4f359375",
   "metadata": {},
   "source": [
    "## Day 8\n",
    "\n",
    "https://adventofcode.com/2022/day/8"
   ]
  },
  {
   "cell_type": "code",
   "execution_count": 1,
   "id": "92269419",
   "metadata": {},
   "outputs": [],
   "source": [
    "import numpy as np\n",
    "\n",
    "def parse08(filename):\n",
    "    with open(filename) as f:\n",
    "         return np.array([ [ int(n) for n in l.strip() ] for l in f.readlines() ])"
   ]
  },
  {
   "cell_type": "code",
   "execution_count": 2,
   "id": "ec60589e",
   "metadata": {},
   "outputs": [],
   "source": [
    "def isVisible(i,j,grid):\n",
    "    visT = sum([ 1 for t in grid[   :j,i] if t >= grid[j][i] ])==0 \n",
    "    visB = sum([ 1 for t in grid[j+1: ,i] if t >= grid[j][i] ])==0 \n",
    "    visL = sum([ 1 for t in grid[j,   :i] if t >= grid[j][i] ])==0 \n",
    "    visR = sum([ 1 for t in grid[j,i+1: ] if t >= grid[j][i] ])==0\n",
    "    return visT or visB or visL or visR\n",
    "\n",
    "def countVisible(grid):\n",
    "    visible = np.zeros(grid.shape,int)\n",
    "    for i in range(grid.shape[1]):\n",
    "        for j in range(grid.shape[0]):\n",
    "            visible[j][i] = isVisible(i,j,grid)\n",
    "    return sum(sum(visible))"
   ]
  },
  {
   "cell_type": "code",
   "execution_count": 3,
   "id": "8a66e6ca",
   "metadata": {},
   "outputs": [
    {
     "name": "stdout",
     "output_type": "stream",
     "text": [
      "Test 1: 21\n",
      "Part 1: 1840\n"
     ]
    }
   ],
   "source": [
    "grid0 = parse08(\"data/test08.txt\")\n",
    "grid = parse08(\"data/input08.txt\")\n",
    "\n",
    "print(\"Test 1:\",countVisible(grid0))\n",
    "print(\"Part 1:\",countVisible(grid))"
   ]
  },
  {
   "cell_type": "code",
   "execution_count": 4,
   "id": "4280b0df",
   "metadata": {},
   "outputs": [],
   "source": [
    "def computeViewDistance(h,los):\n",
    "    vd = 0\n",
    "    for t in los:\n",
    "        vd += 1\n",
    "        if t>=h:\n",
    "            break\n",
    "    return vd\n",
    "\n",
    "def scenicScore(i,j,grid):\n",
    "    vdT = computeViewDistance( grid[j][i], np.flip(grid[   :j,i],0) ) # flip order for line-of-sight\n",
    "    vdB = computeViewDistance( grid[j][i],         grid[j+1: ,i]    )\n",
    "    vdL = computeViewDistance( grid[j][i], np.flip(grid[j,   :i],0) ) # flip order for line-of-sight\n",
    "    vdR = computeViewDistance( grid[j][i],         grid[j,i+1: ]    )\n",
    "    return vdT*vdB*vdL*vdR\n",
    "\n",
    "def highestScenicScore(grid):\n",
    "    score = np.zeros(grid.shape,int)\n",
    "    for i in range(grid.shape[1]):\n",
    "        for j in range(grid.shape[0]):\n",
    "            score[j][i] = scenicScore(i,j,grid)\n",
    "    return np.amax(score)"
   ]
  },
  {
   "cell_type": "code",
   "execution_count": 5,
   "id": "8b86e44b",
   "metadata": {},
   "outputs": [
    {
     "name": "stdout",
     "output_type": "stream",
     "text": [
      "Test 2: 8\n",
      "Part 2: 405769\n"
     ]
    }
   ],
   "source": [
    "print(\"Test 2:\",highestScenicScore(grid0))\n",
    "print(\"Part 2:\",highestScenicScore(grid))"
   ]
  },
  {
   "cell_type": "code",
   "execution_count": null,
   "id": "4a00deeb",
   "metadata": {},
   "outputs": [],
   "source": []
  }
 ],
 "metadata": {
  "kernelspec": {
   "display_name": "Python 3 (ipykernel)",
   "language": "python",
   "name": "python3"
  },
  "language_info": {
   "codemirror_mode": {
    "name": "ipython",
    "version": 3
   },
   "file_extension": ".py",
   "mimetype": "text/x-python",
   "name": "python",
   "nbconvert_exporter": "python",
   "pygments_lexer": "ipython3",
   "version": "3.10.8"
  }
 },
 "nbformat": 4,
 "nbformat_minor": 5
}

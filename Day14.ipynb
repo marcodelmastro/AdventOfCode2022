{
 "cells": [
  {
   "cell_type": "markdown",
   "id": "3b7decd1",
   "metadata": {},
   "source": [
    "## Day 14 \n",
    "\n",
    "https://adventofcode.com/2022/day/14"
   ]
  },
  {
   "cell_type": "code",
   "execution_count": 1,
   "id": "457aea34",
   "metadata": {},
   "outputs": [],
   "source": [
    "def parse14(filename):\n",
    "    with open(filename) as f:\n",
    "        return [ [ tuple([ int(i) for i in  c.split(\",\")]) for c in l.strip().split(\" -> \") ] for l in f.readlines() ]"
   ]
  },
  {
   "cell_type": "code",
   "execution_count": 2,
   "id": "7674d089",
   "metadata": {},
   "outputs": [],
   "source": [
    "from collections import defaultdict\n",
    "\n",
    "def makeCave(data):\n",
    "    cave = defaultdict(int)\n",
    "    for d in data:\n",
    "        for i in range(len(d)-1):\n",
    "            x0,y0 = d[i]\n",
    "            x1,y1 = d[i+1]\n",
    "            if x0==x1: # vertical\n",
    "                for y in range(min(y0,y1),max(y0,y1)+1):\n",
    "                    cave[(x0,y)]=1\n",
    "            if y0==y1: # horizontal\n",
    "                for x in range(min(x0,x1),max(x0,x1)+1):\n",
    "                    cave[(x,y0)]=1\n",
    "    return cave"
   ]
  },
  {
   "cell_type": "code",
   "execution_count": 3,
   "id": "99bb4f88",
   "metadata": {},
   "outputs": [],
   "source": [
    "def part1(data):\n",
    "    cave = makeCave(data)\n",
    "    ymax = max([ y for x,y in cave.keys() ])\n",
    "    dropSand = True\n",
    "    print(\"Dropping sand...\",end=\" \")\n",
    "    while dropSand:\n",
    "        s = (500,0)\n",
    "        sandFalling = True\n",
    "        while sandFalling:\n",
    "            snew = (s[0],s[1]+1)\n",
    "            if cave[snew]: # new position blocked\n",
    "                # try left diagonal\n",
    "                snew = (s[0]-1,s[1]+1)\n",
    "                if cave[snew]: # left position blocked\n",
    "                    # try right diagonal\n",
    "                    snew = (s[0]+1,s[1]+1)\n",
    "                    if cave[snew]: # right position blocked\n",
    "                        cave[s] = 2 # deposit sand\n",
    "                        sandFalling = False\n",
    "                    else:\n",
    "                        s = snew\n",
    "                else:\n",
    "                    s = snew\n",
    "            else:\n",
    "                s = snew\n",
    "            if s[1]>ymax:\n",
    "                print(\"Infinite sand flow reached.\")\n",
    "                dropSand = False\n",
    "                break\n",
    "    nsand = len([k for k,v in cave.items() if v==2 ])\n",
    "    print(\"{} units of sand resting.\".format(nsand))\n",
    "    return nsand"
   ]
  },
  {
   "cell_type": "code",
   "execution_count": 4,
   "id": "b88ca651",
   "metadata": {},
   "outputs": [
    {
     "name": "stdout",
     "output_type": "stream",
     "text": [
      "Dropping sand... Infinite sand flow reached.\n",
      "24 units of sand resting.\n"
     ]
    },
    {
     "data": {
      "text/plain": [
       "24"
      ]
     },
     "execution_count": 4,
     "metadata": {},
     "output_type": "execute_result"
    }
   ],
   "source": [
    "data0 = parse14(\"examples/example14.txt\")\n",
    "part1(data0)"
   ]
  },
  {
   "cell_type": "code",
   "execution_count": 5,
   "id": "ffc0f741",
   "metadata": {},
   "outputs": [
    {
     "name": "stdout",
     "output_type": "stream",
     "text": [
      "Dropping sand... Infinite sand flow reached.\n",
      "745 units of sand resting.\n"
     ]
    },
    {
     "data": {
      "text/plain": [
       "745"
      ]
     },
     "execution_count": 5,
     "metadata": {},
     "output_type": "execute_result"
    }
   ],
   "source": [
    "data = parse14(\"AOC2022inputs/input14.txt\")\n",
    "part1(data)"
   ]
  },
  {
   "cell_type": "code",
   "execution_count": 6,
   "id": "05d124b6",
   "metadata": {},
   "outputs": [],
   "source": [
    "def part2(data):\n",
    "    cave = makeCave(data)\n",
    "    ymax = max([ y for x,y in cave.keys() ])\n",
    "    dropSand = True\n",
    "    print(\"Dropping sand...\",end=\" \")\n",
    "    while dropSand:\n",
    "        s = (500,0)\n",
    "        sandFalling = True\n",
    "        while sandFalling:\n",
    "            snew = (s[0],s[1]+1)\n",
    "            if cave[snew]: # new position blocked\n",
    "                # try left diagonal\n",
    "                snew = (s[0]-1,s[1]+1)\n",
    "                if cave[snew]: # left position blocked\n",
    "                    # try right diagonal\n",
    "                    snew = (s[0]+1,s[1]+1)\n",
    "                    if cave[snew]: # right position blocked\n",
    "                        cave[s] = 2 # deposit sand\n",
    "                        sandFalling = False\n",
    "                    else:\n",
    "                        s = snew\n",
    "                else:\n",
    "                    s = snew\n",
    "            else:\n",
    "                s = snew        \n",
    "            if s[1]==ymax+2:\n",
    "                #print(\"Reached cave floor.\")\n",
    "                cave[s]=1 # paint floor under sand grain\n",
    "                s = (s[0],s[1]-1)\n",
    "                sandFalling = False\n",
    "        if cave[(500,0)]==2:\n",
    "            print(\"Hole filled!\")\n",
    "            dropSand = False       \n",
    "                \n",
    "    nsand = len([k for k,v in cave.items() if v==2 ])\n",
    "    print(\"{} units of sand resting.\".format(nsand))\n",
    "    return nsand"
   ]
  },
  {
   "cell_type": "code",
   "execution_count": 7,
   "id": "5d2f49e1",
   "metadata": {},
   "outputs": [
    {
     "name": "stdout",
     "output_type": "stream",
     "text": [
      "Dropping sand... Hole filled!\n",
      "93 units of sand resting.\n"
     ]
    },
    {
     "data": {
      "text/plain": [
       "93"
      ]
     },
     "execution_count": 7,
     "metadata": {},
     "output_type": "execute_result"
    }
   ],
   "source": [
    "part2(data0)"
   ]
  },
  {
   "cell_type": "code",
   "execution_count": 8,
   "id": "79259f2c",
   "metadata": {},
   "outputs": [
    {
     "name": "stdout",
     "output_type": "stream",
     "text": [
      "Dropping sand... Hole filled!\n",
      "27551 units of sand resting.\n"
     ]
    },
    {
     "data": {
      "text/plain": [
       "27551"
      ]
     },
     "execution_count": 8,
     "metadata": {},
     "output_type": "execute_result"
    }
   ],
   "source": [
    "part2(data)"
   ]
  },
  {
   "cell_type": "code",
   "execution_count": null,
   "id": "01f473b6",
   "metadata": {},
   "outputs": [],
   "source": []
  }
 ],
 "metadata": {
  "kernelspec": {
   "display_name": "Python 3 (ipykernel)",
   "language": "python",
   "name": "python3"
  },
  "language_info": {
   "codemirror_mode": {
    "name": "ipython",
    "version": 3
   },
   "file_extension": ".py",
   "mimetype": "text/x-python",
   "name": "python",
   "nbconvert_exporter": "python",
   "pygments_lexer": "ipython3",
   "version": "3.10.8"
  }
 },
 "nbformat": 4,
 "nbformat_minor": 5
}

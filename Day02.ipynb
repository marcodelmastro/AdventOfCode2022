{
 "cells": [
  {
   "cell_type": "markdown",
   "id": "e6a18d3b",
   "metadata": {},
   "source": [
    "## Day 2\n",
    "\n",
    "https://adventofcode.com/2022/day/2"
   ]
  },
  {
   "cell_type": "code",
   "execution_count": 8,
   "id": "948ff552",
   "metadata": {},
   "outputs": [],
   "source": [
    "def parse02(filename):\n",
    "    with open(filename) as f:\n",
    "        data = [ l.strip().split(\" \") for l in f.readlines() ]\n",
    "        return data"
   ]
  },
  {
   "cell_type": "code",
   "execution_count": 14,
   "id": "915e48de",
   "metadata": {},
   "outputs": [],
   "source": [
    "V = {\"A\":1, \"B\":2, \"C\":3, \"X\":1, \"Y\":2, \"Z\":3} # shape values\n",
    "\n",
    "from functools import cache \n",
    "\n",
    "@cache # there is only a limited set of combinations of shapes and the corresponsing score, no need to recompute\n",
    "def round(a,b):\n",
    "    d = V[b]-V[a]\n",
    "    if abs(d)<2:\n",
    "        return d\n",
    "    else:\n",
    "        return -d\n",
    "\n",
    "@cache\n",
    "def score(a,b):\n",
    "    r = round(a,b)\n",
    "    if r>0:\n",
    "        return V[b]+6 # win\n",
    "    elif r==0:\n",
    "        return V[b]+3 # draw\n",
    "    else:\n",
    "        return V[b]   # loose\n",
    "\n",
    "def part1(data):\n",
    "    return sum([score(a,b) for a,b in data])\n",
    "\n",
    "W = {\"A\":\"Y\", \"B\":\"Z\", \"C\":\"X\" } # play to win\n",
    "L = {\"A\":\"Z\", \"B\":\"X\", \"C\":\"Y\" } # play to loose\n",
    "D = {\"A\":\"X\", \"B\":\"Y\", \"C\":\"Z\" } # play to draw\n",
    "R = {\"X\":L, \"Y\":D, \"Z\":W} # reply according to strategy\n",
    "\n",
    "def part2(data):\n",
    "    return sum([score(a,R[x][a]) for a,x in data])"
   ]
  },
  {
   "cell_type": "code",
   "execution_count": 15,
   "id": "ffb3dc10",
   "metadata": {},
   "outputs": [
    {
     "name": "stdout",
     "output_type": "stream",
     "text": [
      "Test 1: 15\n",
      "Part 1: 8392\n",
      "Test 2: 12\n",
      "Part 2: 10116\n"
     ]
    }
   ],
   "source": [
    "test = parse02(\"data/test02.txt\")\n",
    "data = parse02(\"data/input02.txt\")\n",
    "\n",
    "print(\"Test 1:\",part1(test))\n",
    "print(\"Part 1:\",part1(data))\n",
    "print(\"Test 2:\",part2(test))\n",
    "print(\"Part 2:\",part2(data))"
   ]
  },
  {
   "cell_type": "code",
   "execution_count": null,
   "id": "3c77e70b",
   "metadata": {},
   "outputs": [],
   "source": []
  }
 ],
 "metadata": {
  "kernelspec": {
   "display_name": "Python 3 (ipykernel)",
   "language": "python",
   "name": "python3"
  },
  "language_info": {
   "codemirror_mode": {
    "name": "ipython",
    "version": 3
   },
   "file_extension": ".py",
   "mimetype": "text/x-python",
   "name": "python",
   "nbconvert_exporter": "python",
   "pygments_lexer": "ipython3",
   "version": "3.10.8"
  }
 },
 "nbformat": 4,
 "nbformat_minor": 5
}

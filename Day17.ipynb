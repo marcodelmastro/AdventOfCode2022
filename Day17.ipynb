{
 "cells": [
  {
   "cell_type": "markdown",
   "id": "32974767",
   "metadata": {},
   "source": [
    "# Day 17\n",
    "\n",
    "https://adventofcode.com/2022/day/17"
   ]
  },
  {
   "cell_type": "code",
   "execution_count": 1,
   "id": "f7f0b3a3",
   "metadata": {},
   "outputs": [],
   "source": [
    "def parse17(filename):\n",
    "    with open(filename) as f:\n",
    "        return f.read().strip()"
   ]
  },
  {
   "cell_type": "code",
   "execution_count": 2,
   "id": "6cc05440",
   "metadata": {},
   "outputs": [],
   "source": [
    "from collections import defaultdict\n",
    "\n",
    "def rocks(i,y):\n",
    "    '''returns initial coordinated of each rock, given lowest y coordinate'''\n",
    "    if i ==0:\n",
    "        return ((2,y),(3,y),(4,y),(5,y)) # horizontal slab\n",
    "    elif i==1:\n",
    "        return ((2,y+1),(3,y),(3,y+1),(3,y+2),(4,y+1)) # cross\n",
    "    elif i==2:\n",
    "        return ((2,y),(3,y),(4,y),(4,y+1),(4,y+2)) # inverted L\n",
    "    elif i==3:\n",
    "        return ((2,y),(2,y+1),(2,y+2),(2,y+3)) # vertical slab\n",
    "    elif i==4:\n",
    "        return ((2,y),(2,y+1),(3,y),(3,y+1)) # square\n",
    "    return\n",
    "\n",
    "def pushRock(rock,jet):\n",
    "    rock_new = [ (x+1,y) if jet==\">\" else (x-1,y) for x,y in rock ]\n",
    "    if rock_new[0][0]<0 or rock_new[-1][0]==7:\n",
    "        return rock\n",
    "    else:\n",
    "        return rock_new\n",
    "\n",
    "def collision(rock,space):\n",
    "    for r in rock:\n",
    "        if space[r]:\n",
    "            return True\n",
    "    return False\n",
    "\n",
    "def dropRocks(jets,nrockmax=1,verbose=False):\n",
    "\n",
    "    evolution = [] # PART 2\n",
    "    \n",
    "    space = defaultdict(int)\n",
    "    \n",
    "    # paint floor\n",
    "    for x in range(7):\n",
    "        space[(x,0)] = 6\n",
    "\n",
    "    ymax = 0\n",
    "    ir = 0\n",
    "    iw = 0\n",
    "    nrocks = 0\n",
    "\n",
    "    while True:\n",
    "\n",
    "        # PART 2\n",
    "        ir0 = str(ir)\n",
    "        iw0 = \"\"\n",
    "        x_rock = -1\n",
    "        dy_rock = ymax+4\n",
    "        dy_pile = -99\n",
    "        \n",
    "        # generate rock\n",
    "        rock = rocks(ir,ymax+4)\n",
    "        nrocks += 1\n",
    "\n",
    "        # move rock until rest\n",
    "        while True:\n",
    "            # 1. jet pushes rock avoiding walls \n",
    "            rock_push = pushRock(rock,jets[iw])\n",
    "            iw0 += \"_\"+str(iw) # PART 2\n",
    "            iw = (iw+1)%len(jets) # next jet\n",
    "\n",
    "            # 2. check whethere new position after push is possible\n",
    "            if collision(rock_push,space):\n",
    "                rock_push = rock\n",
    "\n",
    "            # 3. try falling 1 unit\n",
    "            rock_fall = [ (x,y-1) for x,y in rock_push ]\n",
    "            if collision(rock_fall,space): # cannot fall to new position, stop in previous one\n",
    "                for r in rock_push:\n",
    "                    space[r] = ir+1 # or 1. Using iw value is only useful for visualisation\n",
    "                \n",
    "                # compute rock highest level\n",
    "                ymax_rock = max([y for x,y in rock_push])\n",
    "                \n",
    "                # PART 2: store difference between of rock and pile heights (can be negative)\n",
    "                dy_pile = ymax_rock - ymax\n",
    "                \n",
    "                # save pilehighest level\n",
    "                if ymax_rock>ymax:\n",
    "                    ymax = ymax_rock\n",
    "                \n",
    "                # PART 2: store x landing position\n",
    "                x_rock = rock_push[0][0]\n",
    "                \n",
    "                # PART 2: store delta y (drop)\n",
    "                dy_rock -= rock_push[0][1]\n",
    "                \n",
    "                break\n",
    "            else:\n",
    "                rock = rock_fall\n",
    "\n",
    "        # next rock\n",
    "        ir = (ir+1)%5 \n",
    "        \n",
    "        # PART 2: \"hash\" last rock status (rock index, first jet index, x landing position, dy fall)\n",
    "        status = \"{}_{}__{}__{}__{}\".format(ir0,iw0,x_rock,dy_rock,dy_pile)\n",
    "        \n",
    "        if not nrockmax:\n",
    "            prev = [i for i,p in enumerate(evolution) if p==status]\n",
    "            if len(prev)>=3:\n",
    "                if verbose:\n",
    "                    print(\"Found repeating configuration at rocks\",prev)\n",
    "                evolution.append(status) # adding also repeating status to ease later calculation\n",
    "                return space,ymax,evolution,prev\n",
    "        \n",
    "        evolution.append(status)\n",
    "\n",
    "        if nrockmax and nrocks==nrockmax:\n",
    "            return space,ymax,evolution,[]"
   ]
  },
  {
   "cell_type": "code",
   "execution_count": 3,
   "id": "110f76ac",
   "metadata": {},
   "outputs": [
    {
     "data": {
      "image/png": "[encoded data removed]",
      "text/plain": [
       "<Figure size 640x480 with 1 Axes>"
      ]
     },
     "metadata": {},
     "output_type": "display_data"
    }
   ],
   "source": [
    "import matplotlib.pyplot as plt\n",
    "import numpy as np\n",
    "\n",
    "jets0 = parse17(\"examples/example17.txt\")\n",
    "space0_test,ymax0_test,_,_ = dropRocks(jets0,9)\n",
    "\n",
    "spacetest = np.zeros((ymax0_test+1,7))\n",
    "for (x,y),v in space0_test.items():\n",
    "    if v:\n",
    "        spacetest[y][x] = v\n",
    "\n",
    "plt.imshow(spacetest,origin='lower',cmap=\"binary\")\n",
    "_ = plt.axis('off')"
   ]
  },
  {
   "cell_type": "code",
   "execution_count": 4,
   "id": "cf112fce",
   "metadata": {},
   "outputs": [
    {
     "name": "stdout",
     "output_type": "stream",
     "text": [
      "Test 1: 3068\n"
     ]
    }
   ],
   "source": [
    "space0,ymax0,_,_ = dropRocks(jets0,2022)\n",
    "print(\"Test 1:\",ymax0)"
   ]
  },
  {
   "cell_type": "code",
   "execution_count": 5,
   "id": "e4aa9a17",
   "metadata": {},
   "outputs": [
    {
     "name": "stdout",
     "output_type": "stream",
     "text": [
      "Part 1: 3209\n"
     ]
    }
   ],
   "source": [
    "jets = parse17(\"AOC2022inputs/input17.txt\")\n",
    "space,ymax,_,_ = dropRocks(jets,2022)\n",
    "print(\"Part 1:\",ymax)"
   ]
  },
  {
   "cell_type": "markdown",
   "id": "34a92617",
   "metadata": {},
   "source": [
    "## Part 2\n",
    "\n",
    "Clearly I cannot drop 1000000000000 rocks, I need to find a repetition of the rock configurations and compute the tower height from this information.\n",
    "\n",
    "Information that could uniquely define a rock drop status and landing result:\n",
    "\n",
    "- Rock index\n",
    "- Jet indices\n",
    "- Dropping height\n",
    "- Landing position\n",
    "- ~Increase of rock pile height~ (this is not necessarely unique if the rock falls below the previous height lebel)\n",
    "- Difference between previous rock pile height and current rock height after landing (can be 0 or negative)\n",
    "- ~Pattern of rocks below the level (down to a sufficiently low depth).~ (I would prefer to avoid this, since it's computationally expensive)\n",
    "\n",
    "The repeating rock cycle would happen after an initial offset, so I will have to consider it to compute the full tower height, as well as any remainder.\n",
    "\n",
    "**In my initial implementation I don't fin the correct cycle for the full input**, because there are **early repetition that are not a cycle (argh!).** I need to change the logic to find **multiple repetitions...**"
   ]
  },
  {
   "cell_type": "code",
   "execution_count": 6,
   "id": "dc35c641",
   "metadata": {},
   "outputs": [
    {
     "name": "stdout",
     "output_type": "stream",
     "text": [
      "Found repeating configuration at rocks [22, 1747, 3462]\n"
     ]
    }
   ],
   "source": [
    "_,_,evo,prev = dropRocks(jets,0,True)"
   ]
  },
  {
   "cell_type": "code",
   "execution_count": 7,
   "id": "5f71fa68",
   "metadata": {},
   "outputs": [],
   "source": [
    "def towerHeight(jets,N=2022,verbose=True):\n",
    "    \n",
    "    _,_,evo,prev = dropRocks(jets,0,verbose)\n",
    "    beg = prev[0]+prev[1]\n",
    "    per = prev[2]-prev[1]\n",
    "    \n",
    "    if verbose:\n",
    "        print(\"Cycle begins at rock {} and has period {}\".format(beg+1,per))\n",
    "    \n",
    "    _,h0,_,_ = dropRocks(jets,beg)\n",
    "    _,h1,_,_ = dropRocks(jets,beg+per)\n",
    "    h1 -= h0\n",
    "    if verbose:\n",
    "        print(\"Height offset ({} rocks) = {}\".format(beg,h0))\n",
    "        print(\"Height period ({} rocks) = {}\".format(per,h1))\n",
    "        \n",
    "    Nper = (N-beg)//per\n",
    "    rem = (N-beg)%per\n",
    "    \n",
    "    _,h2,_,_ = dropRocks(jets,beg+per+rem)\n",
    "    h2 -= h0+h1\n",
    "    \n",
    "    if verbose:\n",
    "        print(\"\\nA tower of {} rocks is made of:\".format(N))\n",
    "        print(\"- 1 offset of {} rocks with height {}\".format(beg,h0))\n",
    "        print(\"- {} periods of {} rocks with height {}\".format(Nper,per,h1))\n",
    "        print(\"- 1 remainder of {} rocks with height {}\".format(rem,h2))\n",
    "    \n",
    "    hN = h0 + Nper*h1 + h2\n",
    "    if verbose:\n",
    "        print(\"\\nTower eight =\",hN)\n",
    "    return hN"
   ]
  },
  {
   "cell_type": "code",
   "execution_count": 8,
   "id": "cad17d75",
   "metadata": {},
   "outputs": [
    {
     "name": "stdout",
     "output_type": "stream",
     "text": [
      "Found repeating configuration at rocks [15, 50, 85]\n",
      "Cycle begins at rock 66 and has period 35\n",
      "Height offset (65 rocks) = 104\n",
      "Height period (35 rocks) = 53\n",
      "\n",
      "A tower of 2022 rocks is made of:\n",
      "- 1 offset of 65 rocks with height 104\n",
      "- 55 periods of 35 rocks with height 53\n",
      "- 1 remainder of 32 rocks with height 49\n",
      "\n",
      "Tower eight = 3068\n"
     ]
    },
    {
     "data": {
      "text/plain": [
       "True"
      ]
     },
     "execution_count": 8,
     "metadata": {},
     "output_type": "execute_result"
    }
   ],
   "source": [
    "towerHeight(jets0,N=2022) == 3068"
   ]
  },
  {
   "cell_type": "code",
   "execution_count": 9,
   "id": "9839a5ac",
   "metadata": {},
   "outputs": [
    {
     "name": "stdout",
     "output_type": "stream",
     "text": [
      "Found repeating configuration at rocks [15, 50, 85]\n",
      "Cycle begins at rock 66 and has period 35\n",
      "Height offset (65 rocks) = 104\n",
      "Height period (35 rocks) = 53\n",
      "\n",
      "A tower of 1000000000000 rocks is made of:\n",
      "- 1 offset of 65 rocks with height 104\n",
      "- 28571428569 periods of 35 rocks with height 53\n",
      "- 1 remainder of 20 rocks with height 27\n",
      "\n",
      "Tower eight = 1514285714288\n"
     ]
    },
    {
     "data": {
      "text/plain": [
       "True"
      ]
     },
     "execution_count": 9,
     "metadata": {},
     "output_type": "execute_result"
    }
   ],
   "source": [
    "towerHeight(jets0,N=1_000_000_000_000) == 1514285714288"
   ]
  },
  {
   "cell_type": "code",
   "execution_count": 10,
   "id": "fd2c435a",
   "metadata": {},
   "outputs": [
    {
     "name": "stdout",
     "output_type": "stream",
     "text": [
      "Found repeating configuration at rocks [22, 1747, 3462]\n",
      "Cycle begins at rock 1770 and has period 1715\n",
      "Height offset (1769 rocks) = 2821\n",
      "Height period (1715 rocks) = 2711\n",
      "\n",
      "A tower of 2022 rocks is made of:\n",
      "- 1 offset of 1769 rocks with height 2821\n",
      "- 0 periods of 1715 rocks with height 2711\n",
      "- 1 remainder of 253 rocks with height 388\n",
      "\n",
      "Tower eight = 3209\n"
     ]
    },
    {
     "data": {
      "text/plain": [
       "True"
      ]
     },
     "execution_count": 10,
     "metadata": {},
     "output_type": "execute_result"
    }
   ],
   "source": [
    "towerHeight(jets,N=2022) == 3209"
   ]
  },
  {
   "cell_type": "code",
   "execution_count": 11,
   "id": "c5336f2b",
   "metadata": {},
   "outputs": [
    {
     "name": "stdout",
     "output_type": "stream",
     "text": [
      "Found repeating configuration at rocks [22, 1747, 3462]\n",
      "Cycle begins at rock 1770 and has period 1715\n",
      "Height offset (1769 rocks) = 2821\n",
      "Height period (1715 rocks) = 2711\n",
      "\n",
      "A tower of 1000000000000 rocks is made of:\n",
      "- 1 offset of 1769 rocks with height 2821\n",
      "- 583090377 periods of 1715 rocks with height 2711\n",
      "- 1 remainder of 1676 rocks with height 2641\n",
      "\n",
      "Tower eight = 1580758017509\n"
     ]
    },
    {
     "data": {
      "text/plain": [
       "True"
      ]
     },
     "execution_count": 11,
     "metadata": {},
     "output_type": "execute_result"
    }
   ],
   "source": [
    "towerHeight(jets,N=1_000_000_000_000) == 1580758017509"
   ]
  },
  {
   "cell_type": "code",
   "execution_count": null,
   "id": "cc1e2907",
   "metadata": {},
   "outputs": [],
   "source": []
  }
 ],
 "metadata": {
  "kernelspec": {
   "display_name": "Python 3 (ipykernel)",
   "language": "python",
   "name": "python3"
  },
  "language_info": {
   "codemirror_mode": {
    "name": "ipython",
    "version": 3
   },
   "file_extension": ".py",
   "mimetype": "text/x-python",
   "name": "python",
   "nbconvert_exporter": "python",
   "pygments_lexer": "ipython3",
   "version": "3.10.8"
  }
 },
 "nbformat": 4,
 "nbformat_minor": 5
}

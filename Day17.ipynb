{
 "cells": [
  {
   "cell_type": "markdown",
   "id": "98ddb1bf",
   "metadata": {},
   "source": [
    "# Day 17\n",
    "\n",
    "https://adventofcode.com/2022/day/17"
   ]
  },
  {
   "cell_type": "code",
   "execution_count": 26,
   "id": "c489871c",
   "metadata": {},
   "outputs": [],
   "source": [
    "def parse17(filename):\n",
    "    with open(filename) as f:\n",
    "        return f.read().strip()"
   ]
  },
  {
   "cell_type": "code",
   "execution_count": 387,
   "id": "0ab46e6c",
   "metadata": {},
   "outputs": [],
   "source": [
    "from collections import defaultdict\n",
    "\n",
    "def rocks(i,y):\n",
    "    '''returns initial coordinated of each rock, given lowest y coordinate'''\n",
    "    if i ==0:\n",
    "        return ((2,y),(3,y),(4,y),(5,y)) # horizontal slab\n",
    "    elif i==1:\n",
    "        return ((2,y+1),(3,y),(3,y+1),(3,y+2),(4,y+1)) # cross\n",
    "    elif i==2:\n",
    "        return ((2,y),(3,y),(4,y),(4,y+1),(4,y+2)) # inverted L\n",
    "    elif i==3:\n",
    "        return ((2,y),(2,y+1),(2,y+2),(2,y+3)) # vertical slab\n",
    "    elif i==4:\n",
    "        return ((2,y),(2,y+1),(3,y),(3,y+1)) # square\n",
    "    return []\n",
    "\n",
    "def pushRock(rock,jet):\n",
    "    rock_new = [ (x+1,y) if jet==\">\" else (x-1,y) for x,y in rock ]\n",
    "    if rock_new[0][0]<0 or rock_new[-1][0]==7:\n",
    "        return rock\n",
    "    else:\n",
    "        return rock_new\n",
    "\n",
    "def collision(rock,space):\n",
    "    for r in rock:\n",
    "        if space[r]:\n",
    "            return True\n",
    "    return False\n",
    "\n",
    "def dropRocks(jets,nrockmax=1,verbose=False):\n",
    "\n",
    "    evolution = []\n",
    "    \n",
    "    space = defaultdict(int)\n",
    "    \n",
    "    # paint floor\n",
    "    for x in range(7):\n",
    "        space[(x,0)]=1\n",
    "\n",
    "    ymax = 0\n",
    "    ir = 0\n",
    "    iw = 0\n",
    "    nrocks = 0\n",
    "\n",
    "    while True:\n",
    "\n",
    "        # save info for part 2\n",
    "        ir0 = str(ir)\n",
    "        iw0 = \"\"\n",
    "        x_rock = -1\n",
    "        dy_rock = ymax+4\n",
    "        dy_pile = ymax\n",
    "        \n",
    "        # generate rock\n",
    "        rock = rocks(ir,ymax+4)\n",
    "        nrocks += 1\n",
    "\n",
    "        # move rock until rest\n",
    "        while True:\n",
    "            # 1. jet pushes rock avoiding walls \n",
    "            rock_push = pushRock(rock,jets[iw])\n",
    "            iw0 += \"_\"+str(iw)\n",
    "            iw = (iw+1)%len(jets) # next jet\n",
    "\n",
    "            # 2. check whethere new position after push is possible\n",
    "            if collision(rock_push,space):\n",
    "                rock_push = rock\n",
    "\n",
    "            # 3. try falling 1 unit\n",
    "            rock_fall = [ (x,y-1) for x,y in rock_push ]\n",
    "            if collision(rock_fall,space): # cannot fall to new position, stop in previous one\n",
    "                for r in rock_push:\n",
    "                    space[r] = 1\n",
    "                # compute and save pile highest level\n",
    "                ymax_rock = max([y for x,y in rock_push])\n",
    "                if ymax_rock>ymax:\n",
    "                    ymax = ymax_rock\n",
    "                # store increase of rock pile height for part 2\n",
    "                dy_pile = ymax - dy_pile\n",
    "                # store x position for part 2\n",
    "                x_rock = rock_push[0][0]\n",
    "                # store delta y (drop) for part 2\n",
    "                dy_rock -= rock_push[0][1]\n",
    "                break\n",
    "            else:\n",
    "                rock = rock_fall\n",
    "\n",
    "        # next rock\n",
    "        ir = (ir+1)%5 \n",
    "        \n",
    "        # hash last rock status (rock index, first jet index, x landing position, dy fall)\n",
    "        status = \"{}_{}__{}__{}__{}\".format(ir0,iw0,x_rock,dy_rock,dy_pile)\n",
    "        if not nrockmax and status in evolution:\n",
    "            if verbose:\n",
    "                print(\"Found repeating configuration at rock\",nrocks)\n",
    "            evolution.append(status) # adding also repeating status to ease later calculation\n",
    "            return space,ymax,evolution\n",
    "        evolution.append(status)\n",
    "\n",
    "        if nrockmax and nrocks==nrockmax:\n",
    "            return space,ymax,evolution"
   ]
  },
  {
   "cell_type": "code",
   "execution_count": 388,
   "id": "139a40ab",
   "metadata": {},
   "outputs": [
    {
     "data": {
      "image/png": "[encoded data removed]",
      "text/plain": [
       "<Figure size 640x480 with 1 Axes>"
      ]
     },
     "metadata": {},
     "output_type": "display_data"
    }
   ],
   "source": [
    "import matplotlib.pyplot as plt\n",
    "import numpy as np\n",
    "\n",
    "jets0 = parse17(\"examples/example17.txt\")\n",
    "space0_test,ymax0_test,_ = dropRocks(jets0,9)\n",
    "\n",
    "spacetest = np.zeros((ymax0_test+1,7))\n",
    "for (x,y),v in space0_test.items():\n",
    "    if v:\n",
    "        spacetest[y][x] = 1\n",
    "\n",
    "plt.imshow(spacetest,origin='lower',cmap=\"binary\")\n",
    "_ = plt.axis('off')"
   ]
  },
  {
   "cell_type": "code",
   "execution_count": 389,
   "id": "92f0a494",
   "metadata": {},
   "outputs": [
    {
     "name": "stdout",
     "output_type": "stream",
     "text": [
      "Test 1: 3068\n"
     ]
    }
   ],
   "source": [
    "space0,ymax0,_ = dropRocks(jets0,2022)\n",
    "print(\"Test 1:\",ymax0)"
   ]
  },
  {
   "cell_type": "code",
   "execution_count": 390,
   "id": "38d6b6bc",
   "metadata": {},
   "outputs": [
    {
     "name": "stdout",
     "output_type": "stream",
     "text": [
      "Part 1: 3209\n"
     ]
    }
   ],
   "source": [
    "jets = parse17(\"AOC2022inputs/input17.txt\")\n",
    "space,ymax,_ = dropRocks(jets,2022)\n",
    "print(\"Part 1:\",ymax)"
   ]
  },
  {
   "cell_type": "markdown",
   "id": "3854a461",
   "metadata": {},
   "source": [
    "## Part 2\n",
    "\n",
    "Clearly I cannot drop 1000000000000 rocks, I need to find a repetition of the rock configurations and compute the tower height from this information.\n",
    "\n",
    "Information that could uniquely define a rock drop status and landing result:\n",
    "\n",
    "- Rock index\n",
    "- Jet indices\n",
    "- Dropping height\n",
    "- Landing position\n",
    "- Increaase of rock pile height\n",
    "\n",
    "I can apparently find a repetition...\n",
    "\n",
    "The repeating rock cycle happens after an initial offset, so I will have to consider it to compute the full tower height, as well as any remainder:"
   ]
  },
  {
   "cell_type": "code",
   "execution_count": 391,
   "id": "fed673b0",
   "metadata": {},
   "outputs": [],
   "source": [
    "def towerHeight(jets,N=2022,verbose=True):\n",
    "    \n",
    "    _,_,evo = dropRocks(jets,0,verbose)\n",
    "    rep = evo[-1]\n",
    "    beg = evo.index(rep)\n",
    "    per = len(evo)-beg-1\n",
    "    if verbose:\n",
    "        print(\"Cycle begins at rock {} and has period {}\".format(beg+1,per))\n",
    "\n",
    "    _,h0,_ = dropRocks(jets,beg)\n",
    "    _,h1,_ = dropRocks(jets,beg+per)\n",
    "    h1 -= h0\n",
    "    if verbose:\n",
    "        print(\"Height offset ({} rocks) = {}\".format(beg,h0))\n",
    "        print(\"Height period ({} rocks) = {}\".format(per,h1))\n",
    "\n",
    "    Nper = (N-beg)//per\n",
    "    rem = (N-beg)%per\n",
    "    \n",
    "    _,h2,_ = dropRocks(jets,beg+per+rem)\n",
    "    h2 -= h0+h1\n",
    "    \n",
    "    if verbose:\n",
    "        print(\"\\nA tower of {} rocks is made of:\".format(N))\n",
    "        print(\"- 1 offset of {} rocks with height {}\".format(beg,h0))\n",
    "        print(\"- {} periods of {} rocks with height {}\".format(Nper,per,h1))\n",
    "        print(\"- 1 remainder of {} rocks with height {}\".format(rem,h2))\n",
    "    \n",
    "    hN = h0 + Nper*h1 + h2\n",
    "    if verbose:\n",
    "        print(\"\\nTower eight =\",hN)\n",
    "    return hN"
   ]
  },
  {
   "cell_type": "code",
   "execution_count": 392,
   "id": "0bb17eaa",
   "metadata": {},
   "outputs": [
    {
     "name": "stdout",
     "output_type": "stream",
     "text": [
      "Found repeating configuration at rock 51\n",
      "Cycle begins at rock 16 and has period 35\n",
      "Height offset (15 rocks) = 25\n",
      "Height period (35 rocks) = 53\n",
      "\n",
      "A tower of 2022 rocks is made of:\n",
      "- 1 offset of 15 rocks with height 25\n",
      "- 57 periods of 35 rocks with height 53\n",
      "- 1 remainder of 12 rocks with height 22\n",
      "\n",
      "Tower eight = 3068\n"
     ]
    },
    {
     "data": {
      "text/plain": [
       "3068"
      ]
     },
     "execution_count": 392,
     "metadata": {},
     "output_type": "execute_result"
    }
   ],
   "source": [
    "towerHeight(jets0,N=2022) # 3068"
   ]
  },
  {
   "cell_type": "code",
   "execution_count": 393,
   "id": "fa3f0ff9",
   "metadata": {},
   "outputs": [
    {
     "name": "stdout",
     "output_type": "stream",
     "text": [
      "Found repeating configuration at rock 51\n",
      "Cycle begins at rock 16 and has period 35\n",
      "Height offset (15 rocks) = 25\n",
      "Height period (35 rocks) = 53\n",
      "\n",
      "A tower of 1000000000000 rocks is made of:\n",
      "- 1 offset of 15 rocks with height 25\n",
      "- 28571428571 periods of 35 rocks with height 53\n",
      "- 1 remainder of 0 rocks with height 0\n",
      "\n",
      "Tower eight = 1514285714288\n"
     ]
    },
    {
     "data": {
      "text/plain": [
       "1514285714288"
      ]
     },
     "execution_count": 393,
     "metadata": {},
     "output_type": "execute_result"
    }
   ],
   "source": [
    "towerHeight(jets0,N=1_000_000_000_000) # 1514285714288"
   ]
  },
  {
   "cell_type": "code",
   "execution_count": 394,
   "id": "552d7451",
   "metadata": {},
   "outputs": [
    {
     "name": "stdout",
     "output_type": "stream",
     "text": [
      "Found repeating configuration at rock 1748\n",
      "Cycle begins at rock 23 and has period 1725\n",
      "Height offset (22 rocks) = 38\n",
      "Height period (1725 rocks) = 2744\n",
      "\n",
      "A tower of 2022 rocks is made of:\n",
      "- 1 offset of 22 rocks with height 38\n",
      "- 1 periods of 1725 rocks with height 2744\n",
      "- 1 remainder of 275 rocks with height 427\n",
      "\n",
      "Tower eight = 3209\n"
     ]
    },
    {
     "data": {
      "text/plain": [
       "3209"
      ]
     },
     "execution_count": 394,
     "metadata": {},
     "output_type": "execute_result"
    }
   ],
   "source": [
    "towerHeight(jets,N=2022) # 3209"
   ]
  },
  {
   "cell_type": "code",
   "execution_count": 381,
   "id": "44d7beff",
   "metadata": {},
   "outputs": [
    {
     "name": "stdout",
     "output_type": "stream",
     "text": [
      "Found repeating configuration at rock 1748\n",
      "Cycle begins at rock 23 and has period 1725\n",
      "Height offset (22 rocks) = 38\n",
      "Height period (1725 rocks) = 2744\n",
      "\n",
      "A tower of 1000000000000 rocks is made of:\n",
      "- 1 offset of 22 rocks with height 38\n",
      "- 579710144 periods of 1725 rocks with height 2744\n",
      "- 1 remainder of 1578 rocks with height 2503\n",
      "\n",
      "Tower eight = 1590724637677\n"
     ]
    },
    {
     "data": {
      "text/plain": [
       "1590724637677"
      ]
     },
     "execution_count": 381,
     "metadata": {},
     "output_type": "execute_result"
    }
   ],
   "source": [
    "towerHeight(jets,N=1_000_000_000_000) # 1590724637677 too high"
   ]
  },
  {
   "cell_type": "code",
   "execution_count": 412,
   "id": "ef603438",
   "metadata": {},
   "outputs": [
    {
     "name": "stdout",
     "output_type": "stream",
     "text": [
      "Found repeating configuration at rock 1748\n",
      "Cycle begins at rock 23 and has period 1725\n",
      "Height offset (22 rocks) = 38\n",
      "Height period (1725 rocks) = 2744\n",
      "\n",
      "A tower of 3472 rocks is made of:\n",
      "- 1 offset of 22 rocks with height 38\n",
      "- 2 periods of 1725 rocks with height 2744\n",
      "- 1 remainder of 0 rocks with height 0\n",
      "\n",
      "Tower eight = 5526\n"
     ]
    },
    {
     "data": {
      "text/plain": [
       "5526"
      ]
     },
     "execution_count": 412,
     "metadata": {},
     "output_type": "execute_result"
    }
   ],
   "source": [
    "towerHeight(jets,N=2*1725+22)"
   ]
  },
  {
   "cell_type": "code",
   "execution_count": 413,
   "id": "a955b751",
   "metadata": {},
   "outputs": [
    {
     "data": {
      "text/plain": [
       "5514"
      ]
     },
     "execution_count": 413,
     "metadata": {},
     "output_type": "execute_result"
    }
   ],
   "source": [
    "# the height of the period is too large? Do I fail to intercept the correct period?\n",
    "\n",
    "space,ymax,_ = dropRocks(jets,2*1725+22)\n",
    "ymax"
   ]
  },
  {
   "cell_type": "code",
   "execution_count": null,
   "id": "b8fff5c6",
   "metadata": {},
   "outputs": [],
   "source": []
  },
  {
   "cell_type": "code",
   "execution_count": null,
   "id": "0babd112",
   "metadata": {},
   "outputs": [],
   "source": []
  }
 ],
 "metadata": {
  "kernelspec": {
   "display_name": "Python 3 (ipykernel)",
   "language": "python",
   "name": "python3"
  },
  "language_info": {
   "codemirror_mode": {
    "name": "ipython",
    "version": 3
   },
   "file_extension": ".py",
   "mimetype": "text/x-python",
   "name": "python",
   "nbconvert_exporter": "python",
   "pygments_lexer": "ipython3",
   "version": "3.10.8"
  }
 },
 "nbformat": 4,
 "nbformat_minor": 5
}

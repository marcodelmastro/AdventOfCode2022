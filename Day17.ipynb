{
 "cells": [
  {
   "cell_type": "markdown",
   "id": "9c580c05",
   "metadata": {},
   "source": [
    "# Day 17\n",
    "\n",
    "https://adventofcode.com/2022/day/17"
   ]
  },
  {
   "cell_type": "code",
   "execution_count": 26,
   "id": "246d7c84",
   "metadata": {},
   "outputs": [],
   "source": [
    "def parse17(filename):\n",
    "    with open(filename) as f:\n",
    "        return f.read().strip()"
   ]
  },
  {
   "cell_type": "code",
   "execution_count": 27,
   "id": "30961568",
   "metadata": {},
   "outputs": [],
   "source": [
    "from collections import defaultdict\n",
    "\n",
    "def rocks(i,y):\n",
    "    '''returns initial coordinated of each rock, given lowest y coordinate'''\n",
    "    if i ==0:\n",
    "        return ((2,y),(3,y),(4,y),(5,y)) # horizontal slab\n",
    "    elif i==1:\n",
    "        return ((2,y+1),(3,y),(3,y+1),(3,y+2),(4,y+1)) # cross\n",
    "    elif i==2:\n",
    "        return ((2,y),(3,y),(4,y),(4,y+1),(4,y+2)) # inverted L\n",
    "    elif i==3:\n",
    "        return ((2,y),(2,y+1),(2,y+2),(2,y+3)) # vertical slab\n",
    "    elif i==4:\n",
    "        return ((2,y),(2,y+1),(3,y),(3,y+1)) # square\n",
    "    return []\n",
    "\n",
    "def pushRock(rock,jet):\n",
    "    rock_new = [ (x+1,y) if jet==\">\" else (x-1,y) for x,y in rock ]\n",
    "    if rock_new[0][0]<0 or rock_new[-1][0]==7:\n",
    "        return rock\n",
    "    else:\n",
    "        return rock_new\n",
    "\n",
    "def collision(rock,space):\n",
    "    for r in rock:\n",
    "        if space[r]:\n",
    "            return True\n",
    "    return False\n",
    "\n",
    "def dropRocks(jets,nrockmax=1):\n",
    "\n",
    "    space = defaultdict(int)\n",
    "    \n",
    "    # paint floor\n",
    "    for x in range(7):\n",
    "        space[(x,0)]=1\n",
    "\n",
    "    ymax = 0\n",
    "    ir = 0\n",
    "    iw = 0\n",
    "    nrocks = 0\n",
    "\n",
    "    while True:\n",
    "\n",
    "        # generate rock\n",
    "        rock = rocks(ir,ymax+4)\n",
    "        nrocks += 1\n",
    "\n",
    "        # move rock until rest\n",
    "        while True:\n",
    "            # 1. jet pushes rock avoiding walls \n",
    "            rock_push = pushRock(rock,jets[iw])\n",
    "            iw = (iw+1)%len(jets) # next jet\n",
    "\n",
    "            # 2. check whethere new position after push is possible\n",
    "            if collision(rock_push,space):\n",
    "                rock_push = rock\n",
    "\n",
    "            # 3. try falling 1 unit\n",
    "            rock_fall = [ (x,y-1) for x,y in rock_push ]\n",
    "            if collision(rock_fall,space): # cannot fall to new position, stop in previous one\n",
    "                for r in rock_push:\n",
    "                    space[r] = 1\n",
    "                ir = (ir+1)%5 # next rock\n",
    "                # cache pile highest level\n",
    "                ymax_rock = max([y for x,y in rock_push])\n",
    "                if ymax_rock>ymax:\n",
    "                    ymax = ymax_rock\n",
    "                break\n",
    "            else:\n",
    "                rock = rock_fall\n",
    "\n",
    "        if nrocks==nrockmax:\n",
    "            break\n",
    "\n",
    "    return space,ymax"
   ]
  },
  {
   "cell_type": "code",
   "execution_count": 29,
   "id": "cacec069",
   "metadata": {},
   "outputs": [
    {
     "data": {
      "image/png": "[encoded data removed]",
      "text/plain": [
       "<Figure size 640x480 with 1 Axes>"
      ]
     },
     "metadata": {},
     "output_type": "display_data"
    }
   ],
   "source": [
    "import matplotlib.pyplot as plt\n",
    "import numpy as np\n",
    "\n",
    "jets0 = parse17(\"examples/example17.txt\")\n",
    "space0_test,ymax0_test = dropRocks(jets0,10)\n",
    "\n",
    "spacetest = np.zeros((ymax0_test+1,7))\n",
    "for (x,y),v in space0_test.items():\n",
    "    if v:\n",
    "        spacetest[y][x] = 1\n",
    "\n",
    "plt.imshow(spacetest,origin='lower',cmap=\"binary\")\n",
    "_ = plt.axis('off')"
   ]
  },
  {
   "cell_type": "code",
   "execution_count": 30,
   "id": "10ea7e48",
   "metadata": {},
   "outputs": [
    {
     "name": "stdout",
     "output_type": "stream",
     "text": [
      "Test 1: 3068\n"
     ]
    }
   ],
   "source": [
    "space0,ymax0 = dropRocks(jets0,2022)\n",
    "print(\"Test 1:\",ymax0)"
   ]
  },
  {
   "cell_type": "code",
   "execution_count": 32,
   "id": "fe3c96f9",
   "metadata": {},
   "outputs": [
    {
     "name": "stdout",
     "output_type": "stream",
     "text": [
      "Part 1: 3209\n"
     ]
    }
   ],
   "source": [
    "jets = parse17(\"AOC2022inputs/input17.txt\")\n",
    "space,ymax = dropRocks(jets,2022)\n",
    "print(\"Part 1:\",ymax)"
   ]
  },
  {
   "cell_type": "code",
   "execution_count": null,
   "id": "3e4f464c",
   "metadata": {},
   "outputs": [],
   "source": []
  }
 ],
 "metadata": {
  "kernelspec": {
   "display_name": "Python 3 (ipykernel)",
   "language": "python",
   "name": "python3"
  },
  "language_info": {
   "codemirror_mode": {
    "name": "ipython",
    "version": 3
   },
   "file_extension": ".py",
   "mimetype": "text/x-python",
   "name": "python",
   "nbconvert_exporter": "python",
   "pygments_lexer": "ipython3",
   "version": "3.10.8"
  }
 },
 "nbformat": 4,
 "nbformat_minor": 5
}

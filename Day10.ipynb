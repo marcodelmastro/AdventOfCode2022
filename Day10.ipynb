{
 "cells": [
  {
   "cell_type": "markdown",
   "id": "88ec8be9",
   "metadata": {},
   "source": [
    "## Day 10\n",
    "\n",
    "https://adventofcode.com/2022/day/10"
   ]
  },
  {
   "cell_type": "code",
   "execution_count": 9,
   "id": "bb088e66",
   "metadata": {},
   "outputs": [],
   "source": [
    "def parse10(filename):\n",
    "    with open(filename) as f:\n",
    "        data = [ l.strip(\"\\n\").split(\" \") for l in f.readlines() ]\n",
    "        return data"
   ]
  },
  {
   "cell_type": "code",
   "execution_count": 88,
   "id": "d5cc72be",
   "metadata": {},
   "outputs": [],
   "source": [
    "import numpy as np\n",
    "import matplotlib.pyplot as plt\n",
    "\n",
    "def solve10(instr,verbose=False):\n",
    "    screen = np.zeros((6,40))\n",
    "    sprite = np.array([0,1,2])\n",
    "    col = 0\n",
    "    X = 1\n",
    "    C = 0\n",
    "    S = 20\n",
    "    ss = []\n",
    "    i = 0\n",
    "    while i<len(instr):\n",
    "        cmd = instr[i]\n",
    "        if cmd[0]==\"noop\":\n",
    "            cyc = 1\n",
    "            val = 0\n",
    "        elif cmd[0]==\"addx\":\n",
    "            cyc = 2\n",
    "            val = int(cmd[1])\n",
    "        for c in range(cyc):\n",
    "            # move cursor vertical position\n",
    "            row = C//40\n",
    "            # 1. start cycle\n",
    "            C += 1\n",
    "            if col in sprite: screen[row][col] = 1\n",
    "            # 2. during cycle\n",
    "            if C==S: # check signal strenght during the cycle\n",
    "                if verbose: print(S,C,X,C*X)\n",
    "                ss.append(C*X)\n",
    "                S+=40\n",
    "            if c==cyc-1: # increment register at the end of cycle\n",
    "                X += val\n",
    "            # 3. end cycle\n",
    "            sprite = [X-1,X,X+1]\n",
    "            # move cursor horizontal position\n",
    "            col = (col+1)%40\n",
    "        i+=1\n",
    "    return sum(ss),screen"
   ]
  },
  {
   "cell_type": "code",
   "execution_count": 91,
   "id": "06008a4a",
   "metadata": {},
   "outputs": [
    {
     "name": "stdout",
     "output_type": "stream",
     "text": [
      "Test 1: 13140\n",
      "Part 1: 13920\n"
     ]
    }
   ],
   "source": [
    "instr0 = parse10(\"data/test10_2.txt\")\n",
    "instr = parse10(\"data/input10.txt\")\n",
    "\n",
    "sol0,screen0=solve10(instr0)\n",
    "sol ,screen =solve10(instr)\n",
    "\n",
    "print(\"Test 1:\",sol0)\n",
    "print(\"Part 1:\",sol)"
   ]
  },
  {
   "cell_type": "code",
   "execution_count": 95,
   "id": "0c81731c",
   "metadata": {},
   "outputs": [
    {
     "data": {
      "text/plain": [
       "(-0.5, 39.5, 5.5, -0.5)"
      ]
     },
     "execution_count": 95,
     "metadata": {},
     "output_type": "execute_result"
    },
    {
     "data": {
      "image/png": "[encoded data removed]",
      "text/plain": [
       "<Figure size 640x480 with 1 Axes>"
      ]
     },
     "metadata": {},
     "output_type": "display_data"
    }
   ],
   "source": [
    "plt.imshow(screen0,cmap=\"binary\")\n",
    "plt.axis('off')"
   ]
  },
  {
   "cell_type": "code",
   "execution_count": 94,
   "id": "88147799",
   "metadata": {},
   "outputs": [
    {
     "data": {
      "text/plain": [
       "(-0.5, 39.5, 5.5, -0.5)"
      ]
     },
     "execution_count": 94,
     "metadata": {},
     "output_type": "execute_result"
    },
    {
     "data": {
      "image/png": "[encoded data removed]",
      "text/plain": [
       "<Figure size 640x480 with 1 Axes>"
      ]
     },
     "metadata": {},
     "output_type": "display_data"
    }
   ],
   "source": [
    "plt.imshow(screen,cmap=\"binary\")\n",
    "plt.axis('off')"
   ]
  },
  {
   "cell_type": "code",
   "execution_count": null,
   "id": "ff1c9c3f",
   "metadata": {},
   "outputs": [],
   "source": []
  }
 ],
 "metadata": {
  "kernelspec": {
   "display_name": "Python 3 (ipykernel)",
   "language": "python",
   "name": "python3"
  },
  "language_info": {
   "codemirror_mode": {
    "name": "ipython",
    "version": 3
   },
   "file_extension": ".py",
   "mimetype": "text/x-python",
   "name": "python",
   "nbconvert_exporter": "python",
   "pygments_lexer": "ipython3",
   "version": "3.10.8"
  }
 },
 "nbformat": 4,
 "nbformat_minor": 5
}

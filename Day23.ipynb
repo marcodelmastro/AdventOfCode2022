{
 "cells": [
  {
   "cell_type": "markdown",
   "metadata": {},
   "source": [
    "# Day 23"
   ]
  },
  {
   "cell_type": "code",
   "execution_count": 3,
   "metadata": {},
   "outputs": [],
   "source": [
    "from collections import defaultdict\n",
    "\n",
    "def parse23(filename,verbose=False):\n",
    "    with open(filename) as f:\n",
    "        grid = [ l.strip() for l in f.readlines() ]\n",
    "        if verbose:\n",
    "            for r in grid:\n",
    "                print(r)\n",
    "        elfs = defaultdict(int)\n",
    "        for r in range(len(grid)-1,0,-1):\n",
    "            for x in range(len(grid[0])):\n",
    "                if grid[r][x]==\"#\":\n",
    "                    y = len(grid)-r-1\n",
    "                    elfs[(x,y)] = 1\n",
    "        return elfs"
   ]
  },
  {
   "cell_type": "code",
   "execution_count": 4,
   "metadata": {},
   "outputs": [
    {
     "data": {
      "text/plain": [
       "defaultdict(int, {(2, 1): 1, (3, 1): 1, (2, 3): 1, (2, 4): 1, (3, 4): 1})"
      ]
     },
     "execution_count": 4,
     "metadata": {},
     "output_type": "execute_result"
    }
   ],
   "source": [
    "elfs = parse23(\"examples/example23_1.txt\")\n",
    "elfs"
   ]
  },
  {
   "cell_type": "code",
   "execution_count": 5,
   "metadata": {},
   "outputs": [],
   "source": [
    "import numpy as np\n",
    "\n",
    "def elfs2grid(elfs):\n",
    "    X = [x for x,y in elfs.keys() if elfs[(x,y)]==1 ]\n",
    "    Y = [y for x,y in elfs.keys() if elfs[(x,y)]==1 ]\n",
    "    xmin,xmax = min(X),max(X)\n",
    "    ymin,ymax = min(Y),max(Y)\n",
    "    grid = np.zeros((ymax-ymin+1,xmax-xmin+1))\n",
    "    for x,y in elfs.keys():\n",
    "        if elfs[(x,y)]==1:\n",
    "            grid[y-ymin][x-xmin]=1\n",
    "    return grid"
   ]
  },
  {
   "cell_type": "code",
   "execution_count": 6,
   "metadata": {},
   "outputs": [
    {
     "data": {
      "image/png": "[encoded data removed]",
      "text/plain": [
       "<Figure size 640x480 with 1 Axes>"
      ]
     },
     "metadata": {},
     "output_type": "display_data"
    }
   ],
   "source": [
    "import matplotlib.pyplot as plt\n",
    "\n",
    "grid = elfs2grid(elfs)\n",
    "\n",
    "plt.imshow(grid,origin=\"lower\",cmap='binary')\n",
    "_ = plt.axis('off')"
   ]
  },
  {
   "cell_type": "code",
   "execution_count": 7,
   "metadata": {},
   "outputs": [],
   "source": [
    "dirs = (\n",
    "    (-1,+1), # NW\n",
    "    ( 0,+1), # N\n",
    "    (+1,+1), # NE\n",
    "    (+1, 0), # E\n",
    "    (+1,-1), # SE\n",
    "    ( 0,-1), # S\n",
    "    (-1,-1), # SW\n",
    "    (-1, 0), # W\n",
    ")\n",
    "\n",
    "def checkAround(E,elfs):\n",
    "    x,y = E\n",
    "    around = [ elfs[(x+dx,y+dy)] for dx,dy in dirs ]\n",
    "    canMove = sum(around)>0\n",
    "    #around = [1,2,3,4,5,6,7,8]\n",
    "    N = around[0:3]\n",
    "    S = around[4:7]\n",
    "    W = around[6:]+[around[0]]\n",
    "    E = around[2:5]\n",
    "    canMoveN = sum(N)==0\n",
    "    canMoveS = sum(S)==0\n",
    "    canMoveW = sum(W)==0\n",
    "    canMoveE = sum(E)==0\n",
    "    return canMove, (canMoveN,canMoveS,canMoveW,canMoveE)"
   ]
  },
  {
   "cell_type": "code",
   "execution_count": 8,
   "metadata": {},
   "outputs": [
    {
     "data": {
      "text/plain": [
       "(True, (True, False, True, False))"
      ]
     },
     "execution_count": 8,
     "metadata": {},
     "output_type": "execute_result"
    }
   ],
   "source": [
    "checkAround((2,4),elfs)"
   ]
  },
  {
   "cell_type": "code",
   "execution_count": 9,
   "metadata": {},
   "outputs": [],
   "source": [
    "from collections import Counter\n",
    "from copy import deepcopy\n",
    "\n",
    "dest = ( (0,+1), # N\n",
    "         (0,-1), # S\n",
    "         (-1,0), # W\n",
    "         (+1,0)  # E \n",
    "        )\n",
    "\n",
    "def moveElfs(_elfs,Nrounds=0):\n",
    "    elfs = deepcopy(_elfs)\n",
    "    dirStart = 0 # first direction to check\n",
    "    iround = 0\n",
    "    while True:\n",
    "\n",
    "        # check proposed moves for all elfs that can move\n",
    "        proposedMove = {}\n",
    "        elfsPos = [E for E,v in elfs.items() if v ]\n",
    "        for E in elfsPos:\n",
    "            if elfs[E]==1:\n",
    "                canMove, directions = checkAround(E,elfs)\n",
    "                canN, canS, canE, canW = directions\n",
    "                if canMove and (canN or canS or canW or canE):\n",
    "                    willGo = dirStart\n",
    "                    while True:\n",
    "                        if directions[willGo]:\n",
    "                            break\n",
    "                        willGo = (willGo+1)%4\n",
    "                    x,y = E\n",
    "                    proposedMove[E] = (x+dest[willGo][0],y+dest[willGo][1] )\n",
    "\n",
    "        # if no elf can move, end process\n",
    "        if len(proposedMove.keys())==0:\n",
    "            return elfs\n",
    " \n",
    "        # check if more than one elf wants to move to same position\n",
    "        count = Counter([ p for e,p in proposedMove.items() ])\n",
    "\n",
    "        # list elfs that can actually move\n",
    "        elfsWillMove = {}\n",
    "        for e,p in proposedMove.items():\n",
    "            if count[p]==1:\n",
    "                elfsWillMove[e] = p\n",
    "\n",
    "        # move elfs\n",
    "        for E in elfsPos:\n",
    "            if E in elfsWillMove.keys():\n",
    "                elfs[E] = 0\n",
    "                elfs[elfsWillMove[E]] = 1\n",
    "\n",
    "        # update preferred direction for next round\n",
    "        dirStart = (dirStart+1)%4\n",
    "        \n",
    "        iround += 1\n",
    "        if Nrounds and iround==Nrounds:\n",
    "            return elfs"
   ]
  },
  {
   "cell_type": "code",
   "execution_count": 10,
   "metadata": {},
   "outputs": [
    {
     "data": {
      "image/png": "[encoded data removed]",
      "text/plain": [
       "<Figure size 640x480 with 1 Axes>"
      ]
     },
     "metadata": {},
     "output_type": "display_data"
    }
   ],
   "source": [
    "elfs0 = parse23(\"examples/example23_1.txt\")\n",
    "\n",
    "elfs0end = moveElfs(elfs0)\n",
    "grid0 = elfs2grid(elfs0end)\n",
    "plt.imshow(grid0,origin=\"lower\",cmap=\"binary\")\n",
    "_ = plt.axis('off')"
   ]
  },
  {
   "cell_type": "code",
   "execution_count": 13,
   "metadata": {},
   "outputs": [],
   "source": [
    "def part1(elfs):\n",
    "    elfsEnd1 = moveElfs(elfs,Nrounds=10)\n",
    "    gridEnd1 = elfs2grid(elfsEnd1)\n",
    "    return len(gridEnd1[gridEnd1==0]),gridEnd1"
   ]
  },
  {
   "cell_type": "code",
   "execution_count": 14,
   "metadata": {},
   "outputs": [
    {
     "name": "stdout",
     "output_type": "stream",
     "text": [
      "Test 1: 110\n"
     ]
    },
    {
     "data": {
      "image/png": "[encoded data removed]",
      "text/plain": [
       "<Figure size 640x480 with 1 Axes>"
      ]
     },
     "metadata": {},
     "output_type": "display_data"
    }
   ],
   "source": [
    "elfs1 = parse23(\"examples/example23_2.txt\")\n",
    "test1,gridTest1 = part1(elfs1)\n",
    "print(\"Test 1:\",test1)\n",
    "\n",
    "plt.imshow(gridTest1,origin=\"lower\",cmap=\"binary\")\n",
    "_ = plt.axis('off')"
   ]
  },
  {
   "cell_type": "code",
   "execution_count": 15,
   "metadata": {},
   "outputs": [
    {
     "name": "stdout",
     "output_type": "stream",
     "text": [
      "Part 1: 4288\n"
     ]
    }
   ],
   "source": [
    "elfs = parse23(\"../AOC2022inputs/input23.txt\")\n",
    "sol1,grid1 = part1(elfs)\n",
    "print(\"Part 1:\",sol1) # 4288 too low"
   ]
  },
  {
   "cell_type": "code",
   "execution_count": 16,
   "metadata": {},
   "outputs": [
    {
     "data": {
      "image/png": "[encoded data removed]",
      "text/plain": [
       "<Figure size 640x480 with 1 Axes>"
      ]
     },
     "metadata": {},
     "output_type": "display_data"
    }
   ],
   "source": [
    "plt.imshow(grid1,origin=\"lower\",cmap=\"binary\")\n",
    "_ = plt.axis('off')"
   ]
  },
  {
   "cell_type": "code",
   "execution_count": 19,
   "metadata": {},
   "outputs": [
    {
     "data": {
      "text/plain": [
       "2684"
      ]
     },
     "execution_count": 19,
     "metadata": {},
     "output_type": "execute_result"
    }
   ],
   "source": [
    "len(grid1[grid1==1])"
   ]
  },
  {
   "cell_type": "code",
   "execution_count": 20,
   "metadata": {},
   "outputs": [
    {
     "data": {
      "text/plain": [
       "2684"
      ]
     },
     "execution_count": 20,
     "metadata": {},
     "output_type": "execute_result"
    }
   ],
   "source": [
    "len(elfs.keys())"
   ]
  },
  {
   "cell_type": "code",
   "execution_count": null,
   "metadata": {},
   "outputs": [],
   "source": []
  }
 ],
 "metadata": {
  "kernelspec": {
   "display_name": "Python 3 (ipykernel)",
   "language": "python",
   "name": "python3"
  },
  "language_info": {
   "codemirror_mode": {
    "name": "ipython",
    "version": 3
   },
   "file_extension": ".py",
   "mimetype": "text/x-python",
   "name": "python",
   "nbconvert_exporter": "python",
   "pygments_lexer": "ipython3",
   "version": "3.11.0"
  }
 },
 "nbformat": 4,
 "nbformat_minor": 2
}

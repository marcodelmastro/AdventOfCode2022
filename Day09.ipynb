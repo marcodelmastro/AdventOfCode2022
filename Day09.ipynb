{
 "cells": [
  {
   "cell_type": "markdown",
   "id": "cea75fe3",
   "metadata": {},
   "source": [
    "## Day 9\n",
    "\n",
    "https://adventofcode.com/2022/day/9#part2"
   ]
  },
  {
   "cell_type": "code",
   "execution_count": 1,
   "id": "b1b55839",
   "metadata": {},
   "outputs": [],
   "source": [
    "def parse09(filename):\n",
    "    with open(filename) as f:\n",
    "        data = [ [ l.strip().split(\" \")[0], int(l.strip().split(\" \")[1]) ] for l in f.readlines() ]\n",
    "        return data"
   ]
  },
  {
   "cell_type": "code",
   "execution_count": 2,
   "id": "f9861a2c",
   "metadata": {},
   "outputs": [],
   "source": [
    "from collections import defaultdict\n",
    "\n",
    "M = {\"R\": (+1,0), \"L\":(-1,0), \"U\":(0,+1), \"D\":(0,-1)}\n",
    "\n",
    "def moveHead(c,m):\n",
    "    return tuple([ i+j for i,j in zip(c,M[m]) ])\n",
    "\n",
    "def moveTail(H,Hprev,T):\n",
    "    # same position, don't move\n",
    "    if H==T: \n",
    "        return T\n",
    "    xH,yH = H\n",
    "    xT,yT = T\n",
    "    dx = abs(xH-xT)\n",
    "    dy = abs(yH-yT)\n",
    "    if dx<=1 and dy<=1: # adiacent, don't move\n",
    "        return T\n",
    "    else:\n",
    "        if dx<=1 and dy==2:\n",
    "            return (xH,yH-(yH-yT)//dy)\n",
    "        elif dx==2 and dy<=1:\n",
    "            return (xH-(xH-xT)//dx,yH)\n",
    "        elif dx==2 and dy==2:\n",
    "            return (xH-(xH-xT)//dx,yH-(yH-yT)//dy)\n",
    "\n",
    "def part1(instr):\n",
    "    H = (0,0)\n",
    "    T = (0,0)\n",
    "    Ht = defaultdict(int)\n",
    "    Tt = defaultdict(int)\n",
    "    Ht[H] = 1\n",
    "    Tt[H] = 1\n",
    "    for d,n in instr:\n",
    "        for _ in range(n):\n",
    "            # move Head\n",
    "            Hprev = H\n",
    "            H = moveHead(Hprev,d)\n",
    "            Ht[H] += 1\n",
    "            # move Tail\n",
    "            T = moveTail(H,Hprev,T)\n",
    "            Tt[T] += 1\n",
    "    return len(Tt.keys())"
   ]
  },
  {
   "cell_type": "code",
   "execution_count": 3,
   "id": "383b238b",
   "metadata": {},
   "outputs": [
    {
     "name": "stdout",
     "output_type": "stream",
     "text": [
      "Test 1: 13\n",
      "Part 1: 6464\n"
     ]
    }
   ],
   "source": [
    "instr0 = parse09(\"data/test09_1.txt\")\n",
    "instr = parse09(\"data/input09.txt\")\n",
    "print(\"Test 1:\",part1(instr0))\n",
    "print(\"Part 1:\",part1(instr))"
   ]
  },
  {
   "cell_type": "code",
   "execution_count": 4,
   "id": "7e8999a1",
   "metadata": {},
   "outputs": [],
   "source": [
    "import matplotlib.pyplot as plt\n",
    "        \n",
    "def part2(instr,l=10):\n",
    "    # rope element traces\n",
    "    Rt = [ defaultdict(int) for _ in range(l) ]\n",
    "    # rope elements last position\n",
    "    rope = [ (0,0) for _ in range(l) ]\n",
    "    # initial positions\n",
    "    for Kt in Rt:\n",
    "        Kt[(0,0)] = 1\n",
    "    k=0\n",
    "    for d,n in instr:\n",
    "        # print(d,n)\n",
    "        for _ in range(n):\n",
    "            # move Head\n",
    "            Hprev = rope[0]\n",
    "            H = moveHead(Hprev,d)\n",
    "            Rt[0][H] += 1\n",
    "            rope[0] = H\n",
    "            # move other rope elements\n",
    "            for i in range(1,l):\n",
    "                Tprev = rope[i]\n",
    "                T = moveTail(H,Hprev,Tprev)\n",
    "                Rt[i][T] += 1\n",
    "                rope[i] = T\n",
    "                H = T\n",
    "                Hprev = Tprev\n",
    "    return len(Rt[9].keys())"
   ]
  },
  {
   "cell_type": "code",
   "execution_count": 5,
   "id": "ef465a7e",
   "metadata": {
    "scrolled": false
   },
   "outputs": [
    {
     "name": "stdout",
     "output_type": "stream",
     "text": [
      "Test 2: 36\n",
      "Part 2: 2604\n"
     ]
    }
   ],
   "source": [
    "instr1 = parse09(\"data/test09_2.txt\")\n",
    "\n",
    "print(\"Test 2:\",part2(instr1))\n",
    "print(\"Part 2:\",part2(instr))"
   ]
  },
  {
   "cell_type": "code",
   "execution_count": null,
   "id": "4e28cc0d",
   "metadata": {},
   "outputs": [],
   "source": []
  }
 ],
 "metadata": {
  "kernelspec": {
   "display_name": "Python 3 (ipykernel)",
   "language": "python",
   "name": "python3"
  },
  "language_info": {
   "codemirror_mode": {
    "name": "ipython",
    "version": 3
   },
   "file_extension": ".py",
   "mimetype": "text/x-python",
   "name": "python",
   "nbconvert_exporter": "python",
   "pygments_lexer": "ipython3",
   "version": "3.10.8"
  }
 },
 "nbformat": 4,
 "nbformat_minor": 5
}

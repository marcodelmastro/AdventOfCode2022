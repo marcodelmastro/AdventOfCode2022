{
 "cells": [
  {
   "cell_type": "markdown",
   "id": "300b5007",
   "metadata": {},
   "source": [
    "# Day 21\n",
    "\n",
    "https://adventofcode.com/2022/day/21"
   ]
  },
  {
   "cell_type": "code",
   "execution_count": 256,
   "id": "0a106e71",
   "metadata": {},
   "outputs": [],
   "source": [
    "def parse21(filename):\n",
    "    with open(filename) as f:\n",
    "        monkeyOps = {}\n",
    "        for k,v in [ l.strip().split(\": \") for l in f.readlines() ]:\n",
    "            if v.isdigit():\n",
    "                monkeyOps[k] = int(v)\n",
    "            else:\n",
    "                o = v.split(\" \")\n",
    "                monkeyOps[k] = (o[0],o[1],o[2]) \n",
    "        return monkeyOps"
   ]
  },
  {
   "cell_type": "code",
   "execution_count": 284,
   "id": "698829b8",
   "metadata": {},
   "outputs": [],
   "source": [
    "def monkeyValue(name,monkeyOps):\n",
    "    if type(monkeyOps[name])==int:\n",
    "        return monkeyOps[name]\n",
    "    else:\n",
    "        o1,op,o2 = monkeyOps[name]\n",
    "        a = monkeyValue(o1,monkeyOps)\n",
    "        b = monkeyValue(o2,monkeyOps)\n",
    "        r = 0\n",
    "        if op==\"+\":\n",
    "            r = a+b\n",
    "        elif op==\"-\":\n",
    "            r = a-b\n",
    "        elif op==\"*\":\n",
    "            r = a*b\n",
    "        elif op==\"/\":\n",
    "            r = a/b\n",
    "        monkeyOps[name] = r\n",
    "        return r"
   ]
  },
  {
   "cell_type": "code",
   "execution_count": 289,
   "id": "ac4b711d",
   "metadata": {},
   "outputs": [
    {
     "name": "stdout",
     "output_type": "stream",
     "text": [
      "Test 1: 152\n",
      "Part 2: 83056452926300\n"
     ]
    }
   ],
   "source": [
    "monkeyOps0 = parse21(\"examples/example21.txt\")\n",
    "monkeyOps = parse21(\"AOC2022inputs/input21.txt\")\n",
    "\n",
    "print(\"Test 1:\",int(monkeyValue('root',monkeyOps0)))\n",
    "print(\"Part 2:\",int(monkeyValue('root',monkeyOps)))"
   ]
  },
  {
   "cell_type": "markdown",
   "id": "5b6775a6",
   "metadata": {},
   "source": [
    "## Part 2\n",
    "\n",
    "Observations:\n",
    "\n",
    "- The second term of the `root` expression does not change, I only need to calculate the first one\n",
    "- Standard brute force for the full example woiuld take too long...\n",
    "- ... but I can use a iterative/dicotomic approach to quickly converge to input `humn` value, noting that increasing `humn` reduces the first term in the full input. \n",
    "- I can exit the dicotomic search when I'm close enough, and run a brute-force scan aroung the minumum"
   ]
  },
  {
   "cell_type": "code",
   "execution_count": 321,
   "id": "d59b94b4",
   "metadata": {},
   "outputs": [],
   "source": [
    "from copy import deepcopy\n",
    "\n",
    "def monkeyRoot(humn,monkeyOps):\n",
    "    monkeyOpsCalc = deepcopy(monkeyOps)\n",
    "    monkeyOpsCalc['humn'] = humn\n",
    "    o1,_,o2 = monkeyOpsCalc['root']\n",
    "    return monkeyValue(o1,monkeyOpsCalc), monkeyValue(o2,monkeyOpsCalc)"
   ]
  },
  {
   "cell_type": "code",
   "execution_count": 322,
   "id": "c409ad5a",
   "metadata": {},
   "outputs": [
    {
     "data": {
      "text/plain": [
       "(150.0, 150)"
      ]
     },
     "execution_count": 322,
     "metadata": {},
     "output_type": "execute_result"
    }
   ],
   "source": [
    "monkeyOps0 = parse21(\"examples/example21.txt\")\n",
    "\n",
    "monkeyRoot(301,monkeyOps0)"
   ]
  },
  {
   "cell_type": "code",
   "execution_count": 323,
   "id": "f59be908",
   "metadata": {},
   "outputs": [
    {
     "name": "stdout",
     "output_type": "stream",
     "text": [
      "290 144.5 150\n",
      "291 145.0 150\n",
      "292 145.5 150\n",
      "293 146.0 150\n",
      "294 146.5 150\n",
      "295 147.0 150\n",
      "296 147.5 150\n",
      "297 148.0 150\n",
      "298 148.5 150\n",
      "299 149.0 150\n",
      "300 149.5 150\n",
      "301 150.0 150\n",
      "301 150.0 150\n"
     ]
    }
   ],
   "source": [
    "monkeyOps0 = parse21(\"examples/example21.txt\")\n",
    "\n",
    "h = 290\n",
    "while True:\n",
    "    o1,o2 = monkeyRoot(h,monkeyOps0)\n",
    "    print(h,o1,o2)\n",
    "    if o1==o2:\n",
    "        print(h,o1,o2)\n",
    "        break\n",
    "    h+=1"
   ]
  },
  {
   "cell_type": "code",
   "execution_count": 324,
   "id": "f7fe9d50",
   "metadata": {},
   "outputs": [],
   "source": [
    "def part2(monkeyOps,verbose=False):\n",
    "    h = 0\n",
    "    i = 0\n",
    "    # \"dicotomic\" search, stop if I'm close enough\n",
    "    while True:\n",
    "        h = int(h)\n",
    "        o1,o2 = monkeyRoot(h,monkeyOps)\n",
    "        if verbose:\n",
    "            print(h,o1,o2,o1-o2)\n",
    "        if o1==o2:\n",
    "            break\n",
    "        h += abs(o1-o2)//10\n",
    "        i += 1\n",
    "        if abs(o1-o2)<100:\n",
    "            break\n",
    "    # direct scan around solution\n",
    "    h = int(h)\n",
    "    while True:\n",
    "        o1,o2 = monkeyRoot(h,monkeyOps)\n",
    "        if verbose:\n",
    "            print(h,o1,o2)\n",
    "        if o1==o2:\n",
    "            break\n",
    "        h+=1\n",
    "    return h"
   ]
  },
  {
   "cell_type": "code",
   "execution_count": 325,
   "id": "d6e47371",
   "metadata": {},
   "outputs": [
    {
     "data": {
      "text/plain": [
       "3469704905529"
      ]
     },
     "execution_count": 325,
     "metadata": {},
     "output_type": "execute_result"
    }
   ],
   "source": [
    "monkeyOps = parse21(\"AOC2022inputs/input21.txt\")\n",
    "\n",
    "part2(monkeyOps)"
   ]
  },
  {
   "cell_type": "code",
   "execution_count": 326,
   "id": "cfc61cb9",
   "metadata": {},
   "outputs": [
    {
     "data": {
      "text/plain": [
       "301"
      ]
     },
     "execution_count": 326,
     "metadata": {},
     "output_type": "execute_result"
    }
   ],
   "source": [
    "part2(monkeyOps0)"
   ]
  },
  {
   "cell_type": "code",
   "execution_count": null,
   "id": "16143ea3",
   "metadata": {},
   "outputs": [],
   "source": []
  }
 ],
 "metadata": {
  "kernelspec": {
   "display_name": "Python 3 (ipykernel)",
   "language": "python",
   "name": "python3"
  },
  "language_info": {
   "codemirror_mode": {
    "name": "ipython",
    "version": 3
   },
   "file_extension": ".py",
   "mimetype": "text/x-python",
   "name": "python",
   "nbconvert_exporter": "python",
   "pygments_lexer": "ipython3",
   "version": "3.10.8"
  }
 },
 "nbformat": 4,
 "nbformat_minor": 5
}

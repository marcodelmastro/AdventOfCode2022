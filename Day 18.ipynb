{
 "cells": [
  {
   "cell_type": "markdown",
   "id": "d531c6d6",
   "metadata": {},
   "source": [
    "## Day 18\n",
    "\n",
    "https://adventofcode.com/2022/day/18"
   ]
  },
  {
   "cell_type": "code",
   "execution_count": 1,
   "id": "2f4bff7b",
   "metadata": {},
   "outputs": [],
   "source": [
    "import numpy as np\n",
    "\n",
    "def parse18(filename):\n",
    "    with open(filename) as f:\n",
    "        return [ np.array([ int(i) for i in l.strip().split(\",\")])  for l in f.readlines() ]"
   ]
  },
  {
   "cell_type": "code",
   "execution_count": 2,
   "id": "775c8304",
   "metadata": {},
   "outputs": [],
   "source": [
    "from itertools import combinations\n",
    "\n",
    "def part1(points):\n",
    "    faces = 6*len(points)\n",
    "    for p1,p2 in combinations(points,2):\n",
    "        if sum(abs(p1-p2))==1:\n",
    "            faces -= 2\n",
    "    return faces"
   ]
  },
  {
   "cell_type": "code",
   "execution_count": 3,
   "id": "0461eff0",
   "metadata": {},
   "outputs": [
    {
     "name": "stdout",
     "output_type": "stream",
     "text": [
      "Test 1: 64\n",
      "Part 1: 4500\n"
     ]
    }
   ],
   "source": [
    "points0 = parse18(\"examples/example18.txt\")\n",
    "points = parse18(\"AOC2022inputs/input18.txt\")\n",
    "\n",
    "print(\"Test 1:\",part1(points0))\n",
    "print(\"Part 1:\",part1(points))"
   ]
  },
  {
   "cell_type": "code",
   "execution_count": 49,
   "id": "c67260f6",
   "metadata": {},
   "outputs": [],
   "source": [
    "from queue import Queue\n",
    "\n",
    "def canEscape(P,space,xmin,xmax,ymin,ymax,zmin,zmax):\n",
    "    q = Queue()\n",
    "    q.put(P)\n",
    "    visited = [P]\n",
    "    while not q.empty():\n",
    "        P = q.get()\n",
    "        x,y,z = P\n",
    "        if x==xmin or x==xmax or y==ymin or y==ymax or z==zmin or z==zmax: # reached border\n",
    "            return True\n",
    "        for xn,yn,zn in [ (x+1,y,z), (x-1,y,z), (x,y+1,z), (x,y-1,z), (x,y,z+1), (x,y,z-1) ]:\n",
    "            if space[zn-zmin][yn-ymin][xn-xmin]==0 and (xn,yn,zn) not in visited:\n",
    "                q.put((xn,yn,zn))\n",
    "                visited.append((xn,yn,zn))\n",
    "    return False\n",
    "    \n",
    "    \n",
    "def part2(points):\n",
    "\n",
    "    print(\"Computing droplet surfaces...\")\n",
    "    exposedFaces = part1(points)\n",
    "    \n",
    "    X = [x for x,y,z in points]\n",
    "    Y = [y for x,y,z in points]\n",
    "    Z = [z for x,y,z in points]\n",
    "\n",
    "    xmin,xmax = min(X),max(X)\n",
    "    ymin,ymax = min(Y),max(Z)\n",
    "    zmin,zmax = min(Z),max(Z)\n",
    "    \n",
    "    print(\"Filling droplet space...\")\n",
    "    # fill space with droplets\n",
    "    space = np.zeros( ( zmax-zmin+1, ymax-ymin+1, xmax-xmin+1 ), dtype=int )    \n",
    "    for x,y,z in points:\n",
    "        space[z-zmin][y-ymin][x-xmin] = 1\n",
    "    \n",
    "    print(\"{} potential pockets...\".format(len(space[space==0])))\n",
    "    \n",
    "    print(\"Searching isolated pockets...\")\n",
    "    i = 0\n",
    "    pockets = []\n",
    "    # scan space for pockets of air\n",
    "    for x in range(xmin,xmax+1):\n",
    "        for y in range(ymin,ymax+1):\n",
    "            for z in range(zmin,zmax+1):\n",
    "                if space[z-zmin][y-ymin][x-xmin]==0:\n",
    "                    i+=1\n",
    "                    if i%500==0:\n",
    "                        #print(\".\",end=\"\")\n",
    "                        print(i,end=\" \")\n",
    "                    if not canEscape((x,y,z),space,xmin,xmax,ymin,ymax,zmin,zmax):\n",
    "                        #print(\" is a pocket!\")\n",
    "                        pockets.append(np.array((x,y,z)))\n",
    "    if i>=500:\n",
    "        print(\"\\n\")\n",
    "\n",
    "    # pockets could contingous, compute actual surface of pocket faces\n",
    "    print(\"Computing isolated pocket surfaces...\")\n",
    "    pocketFaces = part1(pockets)\n",
    "    \n",
    "    print(\"Exterior surface area =\",exposedFaces-pocketFaces)\n",
    "    return exposedFaces-pocketFaces"
   ]
  },
  {
   "cell_type": "code",
   "execution_count": 50,
   "id": "74849993",
   "metadata": {},
   "outputs": [
    {
     "name": "stdout",
     "output_type": "stream",
     "text": [
      "Computing droplet surfaces...\n",
      "Filling droplet space...\n",
      "95 potential pockets...\n",
      "Searching isolated pockets...\n",
      "Computing isolated pocket surfaces...\n",
      "Exterior surface area = 58\n"
     ]
    }
   ],
   "source": [
    "test2 = part2(points0)"
   ]
  },
  {
   "cell_type": "code",
   "execution_count": null,
   "id": "823785c3",
   "metadata": {},
   "outputs": [
    {
     "name": "stdout",
     "output_type": "stream",
     "text": [
      "Computing droplet surfaces...\n",
      "Filling droplet space...\n",
      "7383 potential pockets...\n",
      "Searching isolated pockets...\n",
      "500 1000 1500 2000 2500 "
     ]
    }
   ],
   "source": [
    "sol2 = part2(points)"
   ]
  },
  {
   "cell_type": "code",
   "execution_count": null,
   "id": "463cf64f",
   "metadata": {},
   "outputs": [],
   "source": []
  }
 ],
 "metadata": {
  "kernelspec": {
   "display_name": "Python 3 (ipykernel)",
   "language": "python",
   "name": "python3"
  },
  "language_info": {
   "codemirror_mode": {
    "name": "ipython",
    "version": 3
   },
   "file_extension": ".py",
   "mimetype": "text/x-python",
   "name": "python",
   "nbconvert_exporter": "python",
   "pygments_lexer": "ipython3",
   "version": "3.10.8"
  }
 },
 "nbformat": 4,
 "nbformat_minor": 5
}

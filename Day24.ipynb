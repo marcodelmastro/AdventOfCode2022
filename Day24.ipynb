{
 "cells": [
  {
   "cell_type": "markdown",
   "id": "fade0a2a",
   "metadata": {},
   "source": [
    "# Day 24\n",
    "\n",
    "https://adventofcode.com/2022/day/24"
   ]
  },
  {
   "cell_type": "code",
   "execution_count": 1,
   "id": "70ddd8eb",
   "metadata": {},
   "outputs": [],
   "source": [
    "import numpy as np\n",
    "\n",
    "def parse24(filename):\n",
    "    with open(filename) as f:\n",
    "        data = [l.strip() for l in f.readlines()]\n",
    "        blizzards = []\n",
    "        grid = np.zeros((len(data),len(data[0])),dtype=int)\n",
    "        for r in range(len(data)):\n",
    "            for c in range(len(data[0])):\n",
    "                if data[r][c]==\"#\":\n",
    "                    grid[r][c]=1\n",
    "                if data[r][c]!=\"#\" and data[r][c]!=\".\":\n",
    "                    blizzards.append((c,r,data[r][c]))\n",
    "        return grid,blizzards"
   ]
  },
  {
   "cell_type": "code",
   "execution_count": 2,
   "id": "00c7e7cf",
   "metadata": {},
   "outputs": [],
   "source": [
    "moves = {\">\": (+1,0),\n",
    "         \"<\": (-1,0),\n",
    "         \"^\": (0,-1),\n",
    "         \"v\": (0,+1)}\n",
    "\n",
    "def moveBlizzards(blizzards,xmax,ymax):\n",
    "    blizzards_new = []\n",
    "    for x,y,m in blizzards:\n",
    "        xn,yn = x+moves[m][0],y+moves[m][1]\n",
    "        if xn==xmax: \n",
    "            xn=1\n",
    "        if xn==0:\n",
    "            xn=xmax-1\n",
    "        if yn==ymax:\n",
    "            yn=1\n",
    "        if yn==0:\n",
    "            yn=ymax-1\n",
    "        blizzards_new.append((xn,yn,m))\n",
    "    return blizzards_new\n",
    "\n",
    "def paintBlizzards(gridempty,blizzards):\n",
    "    grid = np.copy(gridempty)\n",
    "    for x,y,_ in blizzards:\n",
    "        grid[y][x]+=1\n",
    "    return grid"
   ]
  },
  {
   "cell_type": "code",
   "execution_count": 3,
   "id": "7f46cf87",
   "metadata": {},
   "outputs": [
    {
     "name": "stdout",
     "output_type": "stream",
     "text": [
      "[[1 0 1 1 1 1 1 1]\n",
      " [1 1 1 0 1 1 1 1]\n",
      " [1 0 1 0 0 1 1 1]\n",
      " [1 1 1 0 1 1 1 1]\n",
      " [1 1 1 1 1 1 1 1]\n",
      " [1 1 1 1 1 1 0 1]]\n",
      "[[1 0 1 1 1 1 1 1]\n",
      " [1 0 1 3 0 1 0 1]\n",
      " [1 1 0 0 1 1 0 1]\n",
      " [1 1 2 0 2 2 0 1]\n",
      " [1 1 1 0 0 1 1 1]\n",
      " [1 1 1 1 1 1 0 1]]\n"
     ]
    }
   ],
   "source": [
    "gridempty,blizzards0 = parse24(\"examples/example24.txt\")\n",
    "\n",
    "grid0 = paintBlizzards(gridempty,blizzards0)\n",
    "\n",
    "xmax = gridempty.shape[1]-1\n",
    "ymax = gridempty.shape[0]-1\n",
    "\n",
    "blizzards1 = moveBlizzards(blizzards0,xmax,ymax)\n",
    "\n",
    "blizzards0,blizzards1\n",
    "grid1 = paintBlizzards(gridempty,blizzards1)\n",
    "\n",
    "print(grid0)\n",
    "print(grid1)"
   ]
  },
  {
   "cell_type": "markdown",
   "id": "40981762",
   "metadata": {},
   "source": [
    "#### The blizzards configuration (probably) repeats.\n",
    "\n",
    "If so, I could pre-compute all configurations and the corresponding grids, and reuse them in case the path search needed more time:"
   ]
  },
  {
   "cell_type": "code",
   "execution_count": 4,
   "id": "6e0db571",
   "metadata": {},
   "outputs": [],
   "source": [
    "def makeGrids(gridempty,blizzards0,verbose=True):\n",
    "    xmax = gridempty.shape[1]-1\n",
    "    ymax = gridempty.shape[0]-1\n",
    "    grid0 = paintBlizzards(gridempty,blizzards0)\n",
    "    grids = [ grid0 ]\n",
    "    blizzards = list(blizzards0)\n",
    "    i = 0\n",
    "    while True:\n",
    "        i += 1\n",
    "        blizzards_new=moveBlizzards(blizzards,xmax,ymax)\n",
    "        if blizzards_new==blizzards0:\n",
    "            if verbose:\n",
    "                print(\"Found repeating configuration after {} minutes.\".format(i))\n",
    "            return grids\n",
    "        grid_new = paintBlizzards(gridempty,blizzards_new)\n",
    "        grids.append(grid_new)\n",
    "        blizzards = blizzards_new"
   ]
  },
  {
   "cell_type": "code",
   "execution_count": 5,
   "id": "41778b0f",
   "metadata": {},
   "outputs": [
    {
     "name": "stdout",
     "output_type": "stream",
     "text": [
      "Found repeating configuration after 12 minutes.\n"
     ]
    }
   ],
   "source": [
    "gridempty_0,blizzards0_0 = parse24(\"examples/example24.txt\")\n",
    "grids_0 = makeGrids(gridempty_0,blizzards0_0)"
   ]
  },
  {
   "cell_type": "code",
   "execution_count": 6,
   "id": "295926d1",
   "metadata": {},
   "outputs": [
    {
     "name": "stdout",
     "output_type": "stream",
     "text": [
      "Found repeating configuration after 600 minutes.\n"
     ]
    }
   ],
   "source": [
    "gridempty,blizzards0 = parse24(\"AOC2022inputs/input24.txt\")\n",
    "grids = makeGrids(gridempty,blizzards0)"
   ]
  },
  {
   "cell_type": "code",
   "execution_count": 7,
   "id": "6f23c882",
   "metadata": {},
   "outputs": [],
   "source": [
    "from queue import Queue\n",
    "\n",
    "def adjacents(P,grid):\n",
    "    '''valid adjacent positions, including current one (i.e. not moving) if possible'''\n",
    "    xp,yp = P\n",
    "    adjs = []\n",
    "    if grid[yp][xp]==0:\n",
    "        adjs.append((xp,yp))\n",
    "    for k,(dx,dy) in moves.items():\n",
    "        xn = xp+dx\n",
    "        yn = yp+dy\n",
    "        if 0<=xn<len(grid[0]) and 0<=yn<len(grid) and grid[yn][xn]==0:\n",
    "            adjs.append((xn,yn))\n",
    "    return adjs\n",
    "\n",
    "def findPath(grids,direction=1,Tstart=0):\n",
    "\n",
    "    S = (1,0)\n",
    "    E = (len(grids[0][0])-2,len(grids[0])-1)    \n",
    "    if direction==2:\n",
    "        S,E = E,S\n",
    "        \n",
    "    q = Queue()\n",
    "    q.put((Tstart,S))    \n",
    "    explored = set()\n",
    "    explored.add( (Tstart%len(grids),S) )\n",
    "    \n",
    "    while not q.empty():\n",
    "        # get previous position\n",
    "        T,P = q.get()\n",
    "        # get blizzard configuration at time T+1\n",
    "        grid = grids[(T+1)%len(grids)]\n",
    "        # enqueue new possible positions\n",
    "        for A in adjacents(P,grid):\n",
    "            if A==E: # reached exit, return elapsed time\n",
    "                return T+1\n",
    "            # re-enque and save already-explored configuration\n",
    "            if ((T+1)%len(grids),A) not in explored:\n",
    "                q.put((T+1,A))\n",
    "                explored.add(((T+1)%len(grids),A))           \n",
    "    return -1\n",
    "\n",
    "def part1(filename):\n",
    "    gridempty,blizzards0 = parse24(filename)\n",
    "    grids = makeGrids(gridempty,blizzards0,verbose=False)\n",
    "    return findPath(grids,direction=1,Tstart=0)"
   ]
  },
  {
   "cell_type": "code",
   "execution_count": 8,
   "id": "3cbeb941",
   "metadata": {
    "scrolled": false
   },
   "outputs": [
    {
     "data": {
      "text/plain": [
       "18"
      ]
     },
     "execution_count": 8,
     "metadata": {},
     "output_type": "execute_result"
    }
   ],
   "source": [
    "part1(\"examples/example24.txt\")"
   ]
  },
  {
   "cell_type": "code",
   "execution_count": 9,
   "id": "5f04a589",
   "metadata": {},
   "outputs": [
    {
     "data": {
      "text/plain": [
       "271"
      ]
     },
     "execution_count": 9,
     "metadata": {},
     "output_type": "execute_result"
    }
   ],
   "source": [
    "part1(\"AOC2022inputs/input24.txt\")"
   ]
  },
  {
   "cell_type": "code",
   "execution_count": 10,
   "id": "1be03fe7",
   "metadata": {},
   "outputs": [],
   "source": [
    "def part2(filename):\n",
    "    gridempty,blizzards0 = parse24(filename)\n",
    "    grids = makeGrids(gridempty,blizzards0,verbose=False)\n",
    "    T1 = findPath(grids,direction=1,Tstart=0)\n",
    "    print(\"Trip 1:\",T1)\n",
    "    T2 = findPath(grids,direction=2,Tstart=T1)\n",
    "    print(\"Trip 2:\",T2-T1)\n",
    "    T3 = findPath(grids,direction=1,Tstart=T2)\n",
    "    print(\"Trip 3:\",T3-T2)\n",
    "    print(\"Trip T:\",T3)\n",
    "    return T3"
   ]
  },
  {
   "cell_type": "code",
   "execution_count": 11,
   "id": "057c2122",
   "metadata": {},
   "outputs": [
    {
     "name": "stdout",
     "output_type": "stream",
     "text": [
      "Trip 1: 18\n",
      "Trip 2: 23\n",
      "Trip 3: 13\n",
      "Trip T: 54\n"
     ]
    },
    {
     "data": {
      "text/plain": [
       "54"
      ]
     },
     "execution_count": 11,
     "metadata": {},
     "output_type": "execute_result"
    }
   ],
   "source": [
    "part2(\"examples/example24.txt\")"
   ]
  },
  {
   "cell_type": "code",
   "execution_count": 12,
   "id": "4e9cb058",
   "metadata": {},
   "outputs": [
    {
     "name": "stdout",
     "output_type": "stream",
     "text": [
      "Trip 1: 271\n",
      "Trip 2: 280\n",
      "Trip 3: 262\n",
      "Trip T: 813\n"
     ]
    },
    {
     "data": {
      "text/plain": [
       "813"
      ]
     },
     "execution_count": 12,
     "metadata": {},
     "output_type": "execute_result"
    }
   ],
   "source": [
    "part2(\"AOC2022inputs/input24.txt\")"
   ]
  },
  {
   "cell_type": "code",
   "execution_count": null,
   "id": "8429584e",
   "metadata": {},
   "outputs": [],
   "source": []
  }
 ],
 "metadata": {
  "kernelspec": {
   "display_name": "Python 3 (ipykernel)",
   "language": "python",
   "name": "python3"
  },
  "language_info": {
   "codemirror_mode": {
    "name": "ipython",
    "version": 3
   },
   "file_extension": ".py",
   "mimetype": "text/x-python",
   "name": "python",
   "nbconvert_exporter": "python",
   "pygments_lexer": "ipython3",
   "version": "3.10.8"
  }
 },
 "nbformat": 4,
 "nbformat_minor": 5
}

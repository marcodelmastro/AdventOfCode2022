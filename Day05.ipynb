{
 "cells": [
  {
   "cell_type": "markdown",
   "id": "b5a169ea",
   "metadata": {},
   "source": [
    "## Day 5\n",
    "\n",
    "https://adventofcode.com/2022/day/5"
   ]
  },
  {
   "cell_type": "code",
   "execution_count": 15,
   "id": "5b2203cf",
   "metadata": {},
   "outputs": [],
   "source": [
    "import re\n",
    "\n",
    "def parse05(filename):\n",
    "    with open(filename) as f:\n",
    "        data = f.read().split(\"\\n\\n\")\n",
    "        # parse grid\n",
    "        grid = data[0].split(\"\\n\")\n",
    "        # get position of letters in columns from bottom row\n",
    "        pos = [ j for j,c in enumerate(grid[-1]) if c!=\" \" ]\n",
    "        # fill lists from columns if letter is available\n",
    "        columns = [[] for _ in range(len(pos))]\n",
    "        for l in grid[-2::-1]:\n",
    "            j = 0\n",
    "            for p in pos:\n",
    "                if l[p]!=\" \":\n",
    "                    columns[j].append(l[p])\n",
    "                j+=1\n",
    "        # parse instructions (re.findall(r\"\\d+\", string)) finds all numerical values in string)\n",
    "        instr = [ [int(i) for i in re.findall(r\"\\d+\", l)] for l in data[1].strip().split(\"\\n\") ]\n",
    "        return columns,instr"
   ]
  },
  {
   "cell_type": "code",
   "execution_count": 16,
   "id": "026b0343",
   "metadata": {},
   "outputs": [],
   "source": [
    "def part1(cols,instr):\n",
    "    for h,i,o in instr:\n",
    "        for _ in range(h):\n",
    "            cols[o-1].append(cols[i-1].pop())\n",
    "    return \"\".join(c[-1] for c in cols)\n",
    "\n",
    "def part2(cols,instr):\n",
    "    for h,i,o in instr:\n",
    "        stack = cols[i-1][-h:]\n",
    "        cols[i-1] = cols[i-1][:-h]\n",
    "        cols[o-1] += stack\n",
    "    return \"\".join(c[-1] for c in cols)"
   ]
  },
  {
   "cell_type": "code",
   "execution_count": 14,
   "id": "ec825d67",
   "metadata": {},
   "outputs": [
    {
     "name": "stdout",
     "output_type": "stream",
     "text": [
      "CMZ\n",
      "BZLVHBWQF\n"
     ]
    }
   ],
   "source": [
    "cols0,instr0 = parse05(\"data/test05.txt\")\n",
    "cols ,instr  = parse05(\"data/input05.txt\")\n",
    "print(part1(cols0,instr0))\n",
    "print(part1(cols,instr))"
   ]
  },
  {
   "cell_type": "code",
   "execution_count": 11,
   "id": "8f30c44f",
   "metadata": {},
   "outputs": [
    {
     "name": "stdout",
     "output_type": "stream",
     "text": [
      "MCD\n",
      "TDGJQTZSL\n"
     ]
    }
   ],
   "source": [
    "cols0,instr0 = parse05(\"data/test05.txt\")\n",
    "cols ,instr  = parse05(\"data/input05.txt\")\n",
    "print(part2(cols0,instr0))\n",
    "print(part2(cols,instr))"
   ]
  },
  {
   "cell_type": "markdown",
   "id": "a564f1bb",
   "metadata": {},
   "source": [
    "### Animation"
   ]
  },
  {
   "cell_type": "code",
   "execution_count": 5,
   "id": "28c915ce",
   "metadata": {},
   "outputs": [],
   "source": [
    "import numpy as np\n",
    "import matplotlib.pyplot as plt\n",
    "\n",
    "def fillMatrix(cols,xmax=3,ymax=10):\n",
    "    c = np.zeros((ymax,xmax))\n",
    "    for (j,l) in enumerate(cols):\n",
    "        for (i,v) in enumerate(l):\n",
    "            c[ymax-1-i][j] = ord(v)\n",
    "    return c\n",
    "\n",
    "from itertools import chain\n",
    "from celluloid import Camera\n",
    "\n",
    "def part1animation(cols,instr,ymax=0):\n",
    "    xmax = len(cols)\n",
    "    if not ymax:\n",
    "        ymax = len(list(chain(*cols)))\n",
    "    f = plt.figure(figsize=(xmax//4,ymax//4),dpi=90)\n",
    "    ax = f.add_axes([0, 0, 1, 1])\n",
    "    ax.axis('off')\n",
    "    camera = Camera(f)\n",
    "    c = fillMatrix(cols,xmax,ymax)\n",
    "    plt.imshow(c)\n",
    "    plt.axis('off')\n",
    "    camera.snap()\n",
    "    for h,i,o in instr:\n",
    "        for _ in range(h):\n",
    "            cols[o-1].append(cols[i-1].pop())\n",
    "        c = fillMatrix(cols,xmax,ymax)\n",
    "        plt.imshow(c)\n",
    "        plt.axis('off')\n",
    "        camera.snap()\n",
    "    return \"\".join(c[-1] for c in cols), camera"
   ]
  },
  {
   "cell_type": "code",
   "execution_count": 6,
   "id": "8bfc2514",
   "metadata": {
    "scrolled": false
   },
   "outputs": [
    {
     "name": "stdout",
     "output_type": "stream",
     "text": [
      "Generating animation... Done. \n"
     ]
    },
    {
     "data": {
      "image/png": "[encoded data removed]",
      "text/plain": [
       "<Figure size 180x1260 with 1 Axes>"
      ]
     },
     "metadata": {},
     "output_type": "display_data"
    }
   ],
   "source": [
    "cols,instr = parse05(\"data/input05.txt\")\n",
    "\n",
    "print(\"Generating animation... \",end=\"\")\n",
    "_, camera = part1animation(cols,instr,0)\n",
    "print(\"Done. \")"
   ]
  },
  {
   "cell_type": "code",
   "execution_count": 7,
   "id": "a855e216",
   "metadata": {},
   "outputs": [
    {
     "name": "stdout",
     "output_type": "stream",
     "text": [
      "Saving animation... Animation saved.\n"
     ]
    }
   ],
   "source": [
    "print(\"Saving animation... \",end=\"\")\n",
    "anim = camera.animate(blit=True)\n",
    "anim.save('visualisation/day5animation1.gif', writer='imagemagick')\n",
    "print(\"Animation saved.\")"
   ]
  },
  {
   "cell_type": "markdown",
   "id": "8ab58d5a",
   "metadata": {},
   "source": [
    "![Crates](./visualisation/day5animation1.gif)"
   ]
  },
  {
   "cell_type": "code",
   "execution_count": null,
   "id": "70653181",
   "metadata": {},
   "outputs": [],
   "source": []
  }
 ],
 "metadata": {
  "kernelspec": {
   "display_name": "Python 3 (ipykernel)",
   "language": "python",
   "name": "python3"
  },
  "language_info": {
   "codemirror_mode": {
    "name": "ipython",
    "version": 3
   },
   "file_extension": ".py",
   "mimetype": "text/x-python",
   "name": "python",
   "nbconvert_exporter": "python",
   "pygments_lexer": "ipython3",
   "version": "3.10.8"
  }
 },
 "nbformat": 4,
 "nbformat_minor": 5
}

{
 "cells": [
  {
   "cell_type": "markdown",
   "id": "16b12bef",
   "metadata": {},
   "source": [
    "# Day 1\n",
    "\n",
    "https://adventofcode.com/2022/day/1"
   ]
  },
  {
   "cell_type": "code",
   "execution_count": 25,
   "id": "9e0581db",
   "metadata": {},
   "outputs": [],
   "source": [
    "def parse01(filename):\n",
    "    with open(filename) as f:\n",
    "        data = [ [ int(i) for i in l.split() ] for l in  f.read().split(\"\\n\\n\") ]\n",
    "    return data"
   ]
  },
  {
   "cell_type": "code",
   "execution_count": 26,
   "id": "4237c5d5",
   "metadata": {},
   "outputs": [
    {
     "name": "stdout",
     "output_type": "stream",
     "text": [
      "Part 1: 72240\n",
      "Part 2: 210957\n"
     ]
    }
   ],
   "source": [
    "data = parse01(\"data/input01.txt\")\n",
    "calories = [ sum(e) for e in data ]\n",
    "print(\"Part 1:\",max(calories))\n",
    "print(\"Part 2:\",sum(sorted(calories)[-3:]))"
   ]
  },
  {
   "cell_type": "code",
   "execution_count": null,
   "id": "4e0d6ba4",
   "metadata": {},
   "outputs": [],
   "source": []
  }
 ],
 "metadata": {
  "kernelspec": {
   "display_name": "Python 3 (ipykernel)",
   "language": "python",
   "name": "python3"
  },
  "language_info": {
   "codemirror_mode": {
    "name": "ipython",
    "version": 3
   },
   "file_extension": ".py",
   "mimetype": "text/x-python",
   "name": "python",
   "nbconvert_exporter": "python",
   "pygments_lexer": "ipython3",
   "version": "3.10.8"
  }
 },
 "nbformat": 4,
 "nbformat_minor": 5
}

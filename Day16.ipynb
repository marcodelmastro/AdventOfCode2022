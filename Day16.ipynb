{
 "cells": [
  {
   "cell_type": "markdown",
   "id": "6ae979e6",
   "metadata": {},
   "source": [
    "## Day 16\n",
    "\n",
    "https://adventofcode.com/2022/day/16"
   ]
  },
  {
   "cell_type": "code",
   "execution_count": 1,
   "id": "9f23db5c",
   "metadata": {},
   "outputs": [],
   "source": [
    "def parse16(filename):\n",
    "    with open(filename) as f:\n",
    "        data = [ l.strip().split(\"; \")  for l in f.readlines() ] \n",
    "        tunnels = {}\n",
    "        flow = {}\n",
    "        for d in data:\n",
    "            v = d[0].split(\" has flow rate=\")\n",
    "            V = v[0].replace(\"Valve \",\"\")\n",
    "            F = int(v[1])\n",
    "            T = d[1].replace(\"tunnels lead to valves \",\"\").replace(\"tunnel leads to valve \",\"\").split(\", \")\n",
    "            flow[V] = F\n",
    "            tunnels[V] = T\n",
    "        return flow, tunnels"
   ]
  },
  {
   "cell_type": "code",
   "execution_count": 79,
   "id": "5e363a0d",
   "metadata": {},
   "outputs": [
    {
     "data": {
      "text/plain": [
       "({'AA': 0,\n",
       "  'BB': 13,\n",
       "  'CC': 2,\n",
       "  'DD': 20,\n",
       "  'EE': 3,\n",
       "  'FF': 0,\n",
       "  'GG': 0,\n",
       "  'HH': 22,\n",
       "  'II': 0,\n",
       "  'JJ': 21},\n",
       " {'AA': ['DD', 'II', 'BB'],\n",
       "  'BB': ['CC', 'AA'],\n",
       "  'CC': ['DD', 'BB'],\n",
       "  'DD': ['CC', 'AA', 'EE'],\n",
       "  'EE': ['FF', 'DD'],\n",
       "  'FF': ['EE', 'GG'],\n",
       "  'GG': ['FF', 'HH'],\n",
       "  'HH': ['GG'],\n",
       "  'II': ['AA', 'JJ'],\n",
       "  'JJ': ['II']})"
      ]
     },
     "execution_count": 79,
     "metadata": {},
     "output_type": "execute_result"
    }
   ],
   "source": [
    "flow, tunnels = parse16(\"examples/example16.txt\")\n",
    "#flow, tunnels = parse16(\"../AOC2022inputs/input16.txt\")\n",
    "flow, tunnels"
   ]
  },
  {
   "cell_type": "code",
   "execution_count": 80,
   "id": "4a32a3bc",
   "metadata": {},
   "outputs": [
    {
     "data": {
      "text/plain": [
       "['BB', 'AA', 'II', 'JJ']"
      ]
     },
     "execution_count": 80,
     "metadata": {},
     "output_type": "execute_result"
    }
   ],
   "source": [
    "from queue import Queue\n",
    "\n",
    "def tracePath(V1,V2,tunnels):\n",
    "    '''Simple BFS search of shortest path between valve V1 and V2'''\n",
    "    path = [V1]\n",
    "    q = Queue()\n",
    "    q.put(path)\n",
    "    visited = [ V1 ]\n",
    "    while not q.empty():\n",
    "        path = q.get()\n",
    "        for v in tunnels[ path[-1] ]:\n",
    "            if v not in visited:\n",
    "                if v==V2:\n",
    "                    return path+[v]\n",
    "                else:\n",
    "                    pathnew = list(path)\n",
    "                    pathnew.append(v)\n",
    "                    q.put(pathnew)\n",
    "    print(\"not found\")\n",
    "    return None\n",
    "\n",
    "tracePath(\"BB\",\"JJ\",tunnels)"
   ]
  },
  {
   "cell_type": "code",
   "execution_count": 81,
   "id": "b467effa",
   "metadata": {},
   "outputs": [
    {
     "data": {
      "text/plain": [
       "['BB', 'CC', 'DD', 'EE', 'HH', 'JJ']"
      ]
     },
     "execution_count": 81,
     "metadata": {},
     "output_type": "execute_result"
    }
   ],
   "source": [
    "# Select valves that have flow\n",
    "haveFlow = sorted([ v for v,f in flow.items() if f>0 ])\n",
    "haveFlow"
   ]
  },
  {
   "cell_type": "code",
   "execution_count": 82,
   "id": "5b0b1962",
   "metadata": {},
   "outputs": [
    {
     "data": {
      "text/plain": [
       "[[0, 1, 2, 1, 2, 5, 2],\n",
       " [1, 0, 1, 2, 3, 6, 3],\n",
       " [2, 1, 0, 1, 2, 5, 4],\n",
       " [1, 2, 1, 0, 1, 4, 3],\n",
       " [2, 3, 2, 1, 0, 3, 4],\n",
       " [5, 6, 5, 4, 3, 0, 7],\n",
       " [2, 3, 4, 3, 4, 7, 0]]"
      ]
     },
     "execution_count": 82,
     "metadata": {},
     "output_type": "execute_result"
    }
   ],
   "source": [
    "# Compute shortest distance between valves with flow (the only ones I might have an interest to open)\n",
    "# If I travel directly from V1 to V2, this is meant to represent the case I pass by the \n",
    "# intermediate valves without opening them.\n",
    "# Addind AA as starting point in position 0.\n",
    "\n",
    "distance = [ [ 0 ]*(len(haveFlow)+1) for _ in range(len(haveFlow)+1) ]\n",
    "\n",
    "for i in range(1,len(haveFlow)+1):\n",
    "    for j in range(i+1,len(haveFlow)+1):\n",
    "        if i!=j:\n",
    "            V1 = haveFlow[i-1]\n",
    "            V2 = haveFlow[j-1]\n",
    "            p = tracePath(V1,V2,tunnels)\n",
    "            distance[j][i]=len(p)-1\n",
    "            distance[i][j]=len(p)-1\n",
    "\n",
    "for k in range(1,len(haveFlow)+1):\n",
    "    V1 = \"AA\"\n",
    "    V2 = haveFlow[k-1]\n",
    "    p = tracePath(V1,V2,tunnels)\n",
    "    distance[0][k]=len(p)-1\n",
    "    distance[k][0]=len(p)-1\n",
    "\n",
    "distance"
   ]
  },
  {
   "cell_type": "code",
   "execution_count": 83,
   "id": "c648f0e9",
   "metadata": {
    "scrolled": false
   },
   "outputs": [],
   "source": [
    "from queue import PriorityQueue\n",
    "\n",
    "def part1( filename, Tmax = 30 ):\n",
    "    \n",
    "    flow, tunnels = parse16(filename)\n",
    "    \n",
    "    # Select valves that have flow\n",
    "    haveFlow = [ v for v,f in flow.items() if f>0 ]\n",
    "\n",
    "    # Compute distance between valves with flow (the only ones I might have an interest to open)\n",
    "    # If I travel directly from V1 to V2, this is meant to represent the case I pass by the \n",
    "    # intermediate valves without opening them.\n",
    "    # Adding \"AA\" at position 0 as starting point.\n",
    "\n",
    "    distance = [ [ 0 ]*(len(haveFlow)+1) for _ in range(len(haveFlow)+1) ]\n",
    "\n",
    "    for i in range(1,len(haveFlow)+1):\n",
    "        for j in range(i+1,len(haveFlow)+1):\n",
    "            if i!=j:\n",
    "                V1 = haveFlow[i-1]\n",
    "                V2 = haveFlow[j-1]\n",
    "                p = tracePath(V1,V2,tunnels)\n",
    "                distance[j][i]=len(p)-1\n",
    "                distance[i][j]=len(p)-1\n",
    "\n",
    "    for k in range(1,len(haveFlow)+1):\n",
    "        V1 = \"AA\"\n",
    "        V2 = haveFlow[k-1]\n",
    "        p = tracePath(V1,V2,tunnels)\n",
    "        distance[0][k]=len(p)-1\n",
    "        distance[k][0]=len(p)-1\n",
    "    \n",
    "    # status is represented by pressure, current valve, elapsed time, list of open valves\n",
    "    path = (0, \"AA\", 0, [])\n",
    "    \n",
    "    q = Queue()\n",
    "    q.put(path)\n",
    "    results = []\n",
    "\n",
    "    while not q.empty():\n",
    "\n",
    "        path = q.get()\n",
    "        P,V,T,OpenV = path\n",
    "\n",
    "        # max time reached, saving path and moving on\n",
    "        if T==Tmax:\n",
    "            results.append(path)\n",
    "            continue\n",
    "\n",
    "        # current valve is closed, use minute to open it and stay here\n",
    "        if V not in OpenV and V!=\"AA\":\n",
    "            Pnew = P - sum([flow[w] for w in OpenV])\n",
    "            pathnew = (Pnew,V,T+1,sorted(OpenV+[V]))\n",
    "            q.put(pathnew)\n",
    "\n",
    "        # current valve is open (or I am at starting point AA), try to move to another one with flow\n",
    "        # (at any possible distance, thus possibly skipping some intermediate ones w/o opening them yet)\n",
    "        else:\n",
    "            moveToNewValve = False\n",
    "            for v in haveFlow:\n",
    "                if v not in OpenV: # avoid loops toward already open valves\n",
    "                    dT = 0\n",
    "                    if V==\"AA\":\n",
    "                        dT = distance[0][haveFlow.index(v)+1]\n",
    "                    else:\n",
    "                        dT = distance[haveFlow.index(V)+1][haveFlow.index(v)+1]\n",
    "                    Tnew = T+dT\n",
    "                    if Tnew<=Tmax:\n",
    "                        Pnew = P - dT*sum([flow[w] for w in OpenV])\n",
    "                        pathnew = (Pnew,v,Tnew,sorted(OpenV))\n",
    "                        q.put(pathnew)\n",
    "                        moveToNewValve = True\n",
    "            if not moveToNewValve:\n",
    "                # Could not move to any new valve either because it would take too long \n",
    "                # or they are already open, thus stay where I am for another minute\n",
    "                Tnew = T+1\n",
    "                if Tnew<=Tmax:\n",
    "                    Pnew = P - sum([flow[w] for w in OpenV])\n",
    "                    pathnew = (Pnew,v,Tnew,sorted(OpenV))\n",
    "                    q.put(pathnew)\n",
    "    \n",
    "    best = sorted(results,key=lambda x:x[0])[0]\n",
    "    return -best[0]"
   ]
  },
  {
   "cell_type": "code",
   "execution_count": 84,
   "id": "e11fc961",
   "metadata": {},
   "outputs": [
    {
     "data": {
      "text/plain": [
       "1651"
      ]
     },
     "execution_count": 84,
     "metadata": {},
     "output_type": "execute_result"
    }
   ],
   "source": [
    "part1(\"examples/example16.txt\")"
   ]
  },
  {
   "cell_type": "code",
   "execution_count": 86,
   "id": "a67872c3",
   "metadata": {},
   "outputs": [
    {
     "data": {
      "text/plain": [
       "1771"
      ]
     },
     "execution_count": 86,
     "metadata": {},
     "output_type": "execute_result"
    }
   ],
   "source": [
    "part1(\"AOC2022inputs/input16.txt\") # 1771 too high"
   ]
  },
  {
   "cell_type": "code",
   "execution_count": null,
   "id": "5bdddc55",
   "metadata": {},
   "outputs": [],
   "source": []
  }
 ],
 "metadata": {
  "kernelspec": {
   "display_name": "Python 3 (ipykernel)",
   "language": "python",
   "name": "python3"
  },
  "language_info": {
   "codemirror_mode": {
    "name": "ipython",
    "version": 3
   },
   "file_extension": ".py",
   "mimetype": "text/x-python",
   "name": "python",
   "nbconvert_exporter": "python",
   "pygments_lexer": "ipython3",
   "version": "3.10.8"
  }
 },
 "nbformat": 4,
 "nbformat_minor": 5
}

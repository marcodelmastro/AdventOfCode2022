{
 "cells": [
  {
   "cell_type": "markdown",
   "metadata": {},
   "source": [
    "# Day 25\n",
    "\n",
    "https://adventofcode.com/2022/day/25"
   ]
  },
  {
   "cell_type": "code",
   "execution_count": 1,
   "metadata": {},
   "outputs": [],
   "source": [
    "V = {\"0\": 0, \"1\": 1, \"2\": 2, \"-\": -1, \"=\": -2}\n",
    "\n",
    "def SNAFU2dec(s):\n",
    "    return sum([ d*5**i for i,d in enumerate([ V[v] for v in s[::-1] ]) ])"
   ]
  },
  {
   "cell_type": "code",
   "execution_count": 2,
   "metadata": {},
   "outputs": [
    {
     "data": {
      "text/plain": [
       "314159265"
      ]
     },
     "execution_count": 2,
     "metadata": {},
     "output_type": "execute_result"
    }
   ],
   "source": [
    "SNAFU2dec(\"1121-1110-1=0\")"
   ]
  },
  {
   "cell_type": "code",
   "execution_count": 3,
   "metadata": {},
   "outputs": [],
   "source": [
    "def dec2base5(n):\n",
    "    s = \"\"\n",
    "    while n:\n",
    "        s = str(n%5) + s\n",
    "        n //= 5\n",
    "    return s"
   ]
  },
  {
   "cell_type": "code",
   "execution_count": 4,
   "metadata": {},
   "outputs": [],
   "source": [
    "def dec2SNAFU(n):\n",
    "    # convert to base 5\n",
    "    d = dec2base5(n)\n",
    "    # add trailing zeros\n",
    "    d = list( \"00\"+d )\n",
    "    # if digit is 3 or 4, increment previous digit and use = or -\n",
    "    s = \"\"\n",
    "    for j in range(len(d)-1,-1,-1):\n",
    "        i = d[j]\n",
    "        if int(i)<=2:\n",
    "            s = i+s\n",
    "        else:\n",
    "            d[j-1] = str(int(d[j-1])+1)\n",
    "            if int(i)==3:\n",
    "                s = \"=\"+s\n",
    "            else:\n",
    "                s = \"-\"+s\n",
    "            # in case increment leads to 5, set to 0 and increment previous digit\n",
    "            if d[j-1]==\"5\":\n",
    "                d[j-1]=\"0\"\n",
    "                d[j-2]=str(int(d[j-2])+1)\n",
    "    # remove trailing zeroes\n",
    "    for k in range(len(s)):\n",
    "        if s[k]!=\"0\":\n",
    "            break\n",
    "    return s[k:]"
   ]
  },
  {
   "cell_type": "code",
   "execution_count": 5,
   "metadata": {},
   "outputs": [
    {
     "data": {
      "text/plain": [
       "'2=-1=0'"
      ]
     },
     "execution_count": 5,
     "metadata": {},
     "output_type": "execute_result"
    }
   ],
   "source": [
    "dec2SNAFU(4890) # 2=-1=0"
   ]
  },
  {
   "cell_type": "code",
   "execution_count": 6,
   "metadata": {},
   "outputs": [],
   "source": [
    "def part1(filename):\n",
    "    S = 0\n",
    "    with open(filename) as f:\n",
    "        for l in f.readlines():\n",
    "            S += SNAFU2dec(l.strip())\n",
    "    return dec2SNAFU(S)"
   ]
  },
  {
   "cell_type": "code",
   "execution_count": 7,
   "metadata": {},
   "outputs": [
    {
     "name": "stdout",
     "output_type": "stream",
     "text": [
      "Part 1: 20-1-0=-2=-2220=0011\n"
     ]
    }
   ],
   "source": [
    "print(\"Part 1:\",part1(\"AOC2022inputs/input25.txt\"))"
   ]
  },
  {
   "cell_type": "code",
   "execution_count": null,
   "metadata": {},
   "outputs": [],
   "source": []
  }
 ],
 "metadata": {
  "kernelspec": {
   "display_name": "Python 3 (ipykernel)",
   "language": "python",
   "name": "python3"
  },
  "language_info": {
   "codemirror_mode": {
    "name": "ipython",
    "version": 3
   },
   "file_extension": ".py",
   "mimetype": "text/x-python",
   "name": "python",
   "nbconvert_exporter": "python",
   "pygments_lexer": "ipython3",
   "version": "3.11.0"
  }
 },
 "nbformat": 4,
 "nbformat_minor": 2
}
